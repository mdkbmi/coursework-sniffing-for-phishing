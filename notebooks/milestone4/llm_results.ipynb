{
 "cells": [
  {
   "cell_type": "code",
   "execution_count": null,
   "id": "bfdcf49c",
   "metadata": {},
   "outputs": [],
   "source": [
    "import pandas as pd"
   ]
  },
  {
   "cell_type": "code",
   "execution_count": null,
   "id": "ee31d610",
   "metadata": {},
   "outputs": [],
   "source": [
    "import re\n",
    "\n",
    "def clean_llm_response(response_text):\n",
    "    cleaned = re.sub(r'<think>.*?</think>', '', response_text, flags=re.DOTALL)\n",
    "    cleaned = re.sub(r'\\n\\s*\\n', '\\n\\n', cleaned)\n",
    "    return cleaned.strip()"
   ]
  },
  {
   "cell_type": "code",
   "execution_count": null,
   "id": "03313842",
   "metadata": {},
   "outputs": [],
   "source": [
    "results = pd.read_parquet('/data/workspace/danishki/git_repo/notebooks/milestone4/llm_results_checkpoint_40.parquet').T"
   ]
  },
  {
   "cell_type": "code",
   "execution_count": null,
   "id": "357318c2",
   "metadata": {},
   "outputs": [],
   "source": [
    "results['header'] = results['header'].apply(clean_llm_response)\n",
    "results['content'] = results['content'].apply(clean_llm_response)"
   ]
  },
  {
   "cell_type": "code",
   "execution_count": null,
   "id": "2c6a2ce3",
   "metadata": {},
   "outputs": [],
   "source": [
    "results"
   ]
  },
  {
   "cell_type": "code",
   "execution_count": null,
   "id": "b1f00cd4",
   "metadata": {},
   "outputs": [],
   "source": [
    "idx = 29\n",
    "\n",
    "print(results.index[idx])\n",
    "print(results.header.iloc[idx])\n",
    "print('\\n---------------------\\n')\n",
    "print(results.content.iloc[idx])"
   ]
  },
  {
   "cell_type": "code",
   "execution_count": null,
   "id": "b97f336f",
   "metadata": {},
   "outputs": [],
   "source": []
  }
 ],
 "metadata": {
  "kernelspec": {
   "display_name": "dev-danishki",
   "language": "python",
   "name": "python3"
  },
  "language_info": {
   "codemirror_mode": {
    "name": "ipython",
    "version": 3
   },
   "file_extension": ".py",
   "mimetype": "text/x-python",
   "name": "python",
   "nbconvert_exporter": "python",
   "pygments_lexer": "ipython3",
   "version": "3.12.10"
  }
 },
 "nbformat": 4,
 "nbformat_minor": 5
}
