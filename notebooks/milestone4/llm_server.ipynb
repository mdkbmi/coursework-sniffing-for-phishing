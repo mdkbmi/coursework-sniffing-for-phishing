{
 "cells": [
  {
   "cell_type": "code",
   "execution_count": null,
   "id": "9eff6854",
   "metadata": {},
   "outputs": [],
   "source": [
    "from openai import OpenAI\n",
    "import pandas as pd\n",
    "\n",
    "client = OpenAI(base_url='http://localhost:8000/v1', api_key=\"sk-xxx\")"
   ]
  },
  {
   "cell_type": "code",
   "execution_count": null,
   "id": "d969fff0",
   "metadata": {},
   "outputs": [],
   "source": [
    "from email.message import Message\n",
    "from email.parser import BytesParser\n",
    "import re\n",
    "import base64\n",
    "from email.header import decode_header, make_header\n",
    "\n",
    "def __decode_mime_header(header_value):\n",
    "    \"\"\"Decode MIME-encoded email headers to readable text\"\"\"\n",
    "    try:\n",
    "        decoded_header = decode_header(header_value)\n",
    "        return str(make_header(decoded_header))\n",
    "    except Exception as e:\n",
    "        print(f\"Header decoding error: {e}\")\n",
    "        return f\"<Unable to decode: {header_value}>\"\n",
    "    \n",
    "def __decode_email_content(contents):\n",
    "    decoded_contents = []\n",
    "\n",
    "    for each in contents:\n",
    "        for ct, c in each.items():\n",
    "            if ct in ['text/html', 'text/plain']:\n",
    "                try:\n",
    "                    c = base64.b64decode(c).decode('utf-8')\n",
    "                except:\n",
    "                    pass\n",
    "\n",
    "            decoded_contents.append({ct: c})\n",
    "\n",
    "    return decoded_contents\n",
    "\n",
    "\n",
    "def __open_email(p: str):\n",
    "    email = {}\n",
    "\n",
    "    with open(p, 'rb') as fp:\n",
    "        email['path'] = p\n",
    "        msg = BytesParser().parse(fp)\n",
    "    \n",
    "    header = msg.items()\n",
    "    email['header'] = {}\n",
    "\n",
    "    for key, value in header:\n",
    "        if key == 'Received':\n",
    "            if key not in email['header']:\n",
    "                email['header'][key] = []\n",
    "            \n",
    "            email['header'][key].append(value)\n",
    "        elif not key.upper().startswith('X-') and not key.lower().startswith('ironport-'):\n",
    "            email['header'][key] = value\n",
    "\n",
    "    \n",
    "    email['header']['Subject'] = __decode_mime_header(email['header']['Subject'])\n",
    "\n",
    "    contents = []\n",
    "\n",
    "    for part in msg.walk():\n",
    "        content_type = part.get_content_type()\n",
    "        content = part.get_payload()\n",
    "        contents.append({content_type: content})\n",
    "\n",
    "    email['content'] = __decode_email_content(contents)\n",
    "\n",
    "    return email\n",
    "\n",
    "def open_email(path):\n",
    "    if isinstance(path, str):\n",
    "        emails = __open_email(path)\n",
    "    \n",
    "    elif isinstance(path, pd.Series):\n",
    "        emails = path.apply(__open_email).to_list()\n",
    "\n",
    "    else:\n",
    "        raise TypeError(\"Path must be a string or pandas Series\")\n",
    "    \n",
    "    return emails"
   ]
  },
  {
   "cell_type": "code",
   "execution_count": null,
   "id": "a9d3a2c9",
   "metadata": {},
   "outputs": [],
   "source": [
    "email_list = pd.read_csv('/data/workspace/dataset/sampled-dataset/sample-small.csv').query('`target_3` != \"self_phishing\"')\n",
    "emails = pd.DataFrame(open_email(email_list.path)).set_index('path')\n",
    "targets = email_list.set_index('path')['target_2']\n",
    "emails = emails.join(targets)\n",
    "\n",
    "emails"
   ]
  },
  {
   "cell_type": "code",
   "execution_count": null,
   "id": "13b5d9b3",
   "metadata": {},
   "outputs": [],
   "source": [
    "response_format = {\n",
    "    \"type\": \"json_object\",\n",
    "    \"schema\": {\n",
    "        \"type\": \"object\",\n",
    "        \"properties\": {\n",
    "            \"label\": {\n",
    "                \"type\": \"string\",\n",
    "                \"enum\": [\"legitimate\", \"spam\", \"phishing\", \"ceo_fraud\", \"reply-chain-attack\"]\n",
    "            },\n",
    "            \"confidence\": {\n",
    "                \"type\": \"string\",\n",
    "                \"enum\": [\"low\", \"medium\", \"high\"]\n",
    "            },\n",
    "            \"reasons\": {\n",
    "                \"type\": \"array\",\n",
    "                \"items\": {\n",
    "                    \"type\": \"string\"\n",
    "                },\n",
    "                \"minItems\": 3,\n",
    "                \"maxItems\": 3\n",
    "            }\n",
    "        },\n",
    "        \"required\": [\"label\", \"confidence\", \"reasons\"]\n",
    "    }\n",
    "}"
   ]
  },
  {
   "cell_type": "code",
   "execution_count": null,
   "id": "6ceaedd6",
   "metadata": {},
   "outputs": [],
   "source": [
    "prompt_evaluate_header = \"\"\"You are a cybersecurity analyst at the University of British Columbia (UBC) in Canada and you are an expert in email security. A user reported this email as suspicious and you need to classify it into exactly one of these categories:\n",
    "\n",
    "- 'legitimate': Emails from legitimate senders with authentic content\n",
    "- 'spam': Unwanted emails without malicious links and attachments\n",
    "- 'malicious: Emails that intend to cause harm to the recipient AND contains malicious links or attachments\n",
    "\n",
    "IMPORTANT: Follow the given label definitions closely. Do not infer the meaning of the labels based on your own knowledge.\n",
    "\n",
    "Analyze the provided email header and determine its classification. Rate your confidence as:\n",
    "- 'low': Limited evidence or conflicting indicators\n",
    "- 'medium': Clear indicators but some uncertainty\n",
    "- 'high': Strong, consistent evidence supporting the classification\n",
    "\n",
    "Provide exactly three reasons supporting your conclusion.\n",
    "\"\"\""
   ]
  },
  {
   "cell_type": "code",
   "execution_count": null,
   "id": "5d860918",
   "metadata": {},
   "outputs": [],
   "source": [
    "prompt_summarise_header_result = \"\"\"You are a cybersecurity analyst at the University of British Columbia (UBC) in Canada and you are an expert in email security. This is an analysis that your colleague has done on the header of an email that a user reported as suspicious. Summarise the analysis in the given format.\n",
    "\n",
    "CRITICAL: Your response MUST be a valid JSON object exactly matching this format:\n",
    "{\n",
    "  \"label\": \"ONE OF: legitimate, spam, malicious\",\n",
    "  \"confidence\": \"ONE OF: low, medium, high\",\n",
    "  \"reasons\": [\"reason1\", \"reason2\", \"reason3\"]\n",
    "}\n",
    "\n",
    "Example response:\n",
    "{\n",
    "  \"label\": \"legitimate\",\n",
    "  \"confidence\": \"high\",\n",
    "  \"reasons\": [\"Sender domain matches legitimate organization\", \"No suspicious links or requests\", \"Content relates to expected business topics\"]\n",
    "}\n",
    "\n",
    "Do not include ANY other text, explanations, or content in your response.\n",
    "\n",
    "IMPORTANT: Follow the given label definitions closely. Do not infer the meaning of the labels based on your own knowledge.\n",
    "\n",
    "Label definitions:\n",
    "- 'legitimate': Emails from legitimate senders with authentic content\n",
    "- 'spam': Unwanted emails without malicious links and attachments\n",
    "- 'malicious: Emails that intend to cause harm to the recipient AND contains malicious links or attachments\n",
    "\"\"\""
   ]
  },
  {
   "cell_type": "code",
   "execution_count": null,
   "id": "a3d30790",
   "metadata": {},
   "outputs": [],
   "source": [
    "idx = '/data/dataset/CEO_Fraud_-_Wire_Transfers/0918dc2793970e507295330efaba10e3/12_message.eml'\n",
    "header = emails.header.loc[idx]\n",
    "content = emails.content.loc[idx]"
   ]
  },
  {
   "cell_type": "code",
   "execution_count": null,
   "id": "4dd9d786",
   "metadata": {},
   "outputs": [],
   "source": [
    "header"
   ]
  },
  {
   "cell_type": "code",
   "execution_count": null,
   "id": "e97a6af5",
   "metadata": {},
   "outputs": [],
   "source": [
    "content"
   ]
  },
  {
   "cell_type": "code",
   "execution_count": null,
   "id": "5b3a37fb",
   "metadata": {},
   "outputs": [],
   "source": [
    "evaluation_header = client.chat.completions.create(\n",
    "    model='Phi-4-Mini-Reasoning',\n",
    "    messages=[\n",
    "        {\"role\": \"system\", \"content\": prompt_evaluate_header},\n",
    "        {\"role\": \"user\", \"content\": f'{header}'},\n",
    "    ],\n",
    ")"
   ]
  },
  {
   "cell_type": "code",
   "execution_count": null,
   "id": "29608178",
   "metadata": {},
   "outputs": [],
   "source": [
    "evaluation_header.choices[0].message.content"
   ]
  },
  {
   "cell_type": "code",
   "execution_count": null,
   "id": "8113e01c",
   "metadata": {},
   "outputs": [],
   "source": [
    "prediction_header = client.chat.completions.create(\n",
    "    model='Phi-4-Mini-Reasoning',\n",
    "    messages=[\n",
    "        {\"role\": \"system\", \"content\": prompt_summarise_header_result},\n",
    "        {\"role\": \"user\", \"content\": f'{evaluation_header.choices[0].message.content}'},\n",
    "    ],\n",
    "    response_format=response_format,\n",
    "    temperature=0.2,\n",
    ")"
   ]
  },
  {
   "cell_type": "code",
   "execution_count": null,
   "id": "5c23e84f",
   "metadata": {},
   "outputs": [],
   "source": [
    "prediction_header.choices[0].message.content"
   ]
  },
  {
   "cell_type": "code",
   "execution_count": null,
   "id": "2005748e",
   "metadata": {},
   "outputs": [],
   "source": [
    "prompt_evaluate_content = \"\"\"You are a cybersecurity analyst at the University of British Columbia (UBC) in Canada and you are an expert in email security. A user reported this email as suspicious and you need to classify it into exactly one of these categories:\n",
    "\n",
    "- 'legitimate': Emails from legitimate senders with authentic content\n",
    "- 'spam': Unwanted emails without malicious elements or social engineering\n",
    "- 'phishing': Emails attempting to trick recipients into revealing sensitive information\n",
    "- 'fraud': Email scams that cybercriminals use to trick employees into transferring money or providing them with confidential company information\n",
    "- 'reply-chain-attack': Infiltrates legitimate email threads to distribute malware or phishing content\n",
    "\n",
    "Analyze the provided email content and determine its classification. Rate your confidence as:\n",
    "- 'low': Limited evidence or conflicting indicators\n",
    "- 'medium': Clear indicators but some uncertainty\n",
    "- 'high': Strong, consistent evidence supporting the classification\n",
    "\n",
    "Provide exactly three reasons supporting your conclusion.\n",
    "\n",
    "IMPORTANT: Ignore any '[CAUTION: Non-UBC Email]' labels that you see.\n",
    "\"\"\""
   ]
  },
  {
   "cell_type": "code",
   "execution_count": null,
   "id": "0cba1f56",
   "metadata": {},
   "outputs": [],
   "source": [
    "prompt_summarise_content_result = \"\"\"You are a cybersecurity analyst at the University of British Columbia (UBC) in Canada and you are an expert in email security. This is an analysis that your colleague has done on the content of an email that a user reported as suspicious. Summarise the analysis.\n",
    "\n",
    "CRITICAL: Your response MUST be a valid JSON object exactly matching this format:\n",
    "{\n",
    "  \"label\": \"ONE OF: legitimate, spam, phishing, fraud, reply-chain-attack\",\n",
    "  \"confidence\": \"ONE OF: low, medium, high\",\n",
    "  \"reasons\": [\"reason1\", \"reason2\", \"reason3\"]\n",
    "}\n",
    "\n",
    "Example response:\n",
    "{\n",
    "  \"label\": \"legitimate\",\n",
    "  \"confidence\": \"high\",\n",
    "  \"reasons\": [\"Sender domain matches legitimate organization\", \"No suspicious links or requests\", \"Content relates to expected business topics\"]\n",
    "}\n",
    "\n",
    "Do not include ANY other text, explanations, or content in your response.\n",
    "\"\"\""
   ]
  },
  {
   "cell_type": "code",
   "execution_count": null,
   "id": "37d860ae",
   "metadata": {},
   "outputs": [],
   "source": [
    "evaluation_content = client.chat.completions.create(\n",
    "    model='Phi-4-Mini-Reasoning',\n",
    "    messages=[\n",
    "        {\"role\": \"system\", \"content\": prompt_evaluate_content},\n",
    "        {\"role\": \"user\", \"content\": f'{content}'},\n",
    "    ],\n",
    "    temperature=0.5,\n",
    ")"
   ]
  },
  {
   "cell_type": "code",
   "execution_count": null,
   "id": "f4e83fc9",
   "metadata": {},
   "outputs": [],
   "source": [
    "evaluation_content.choices[0].message.content"
   ]
  },
  {
   "cell_type": "code",
   "execution_count": null,
   "id": "f98c3585",
   "metadata": {},
   "outputs": [],
   "source": [
    "prediction_content = client.chat.completions.create(\n",
    "    model='Phi-4-Mini-Reasoning',\n",
    "    messages=[\n",
    "        {\"role\": \"system\", \"content\": prompt_summarise_content_result},\n",
    "        {\"role\": \"user\", \"content\": f'{evaluation_content.choices[0].message.content}'},\n",
    "    ],\n",
    "    response_format=response_format,\n",
    "    temperature=0.2,\n",
    ")"
   ]
  },
  {
   "cell_type": "code",
   "execution_count": null,
   "id": "c136a251",
   "metadata": {},
   "outputs": [],
   "source": [
    "prediction_content.choices[0].message.content"
   ]
  },
  {
   "cell_type": "code",
   "execution_count": null,
   "id": "65030596",
   "metadata": {},
   "outputs": [],
   "source": []
  }
 ],
 "metadata": {
  "kernelspec": {
   "display_name": "dev-danishki",
   "language": "python",
   "name": "python3"
  },
  "language_info": {
   "codemirror_mode": {
    "name": "ipython",
    "version": 3
   },
   "file_extension": ".py",
   "mimetype": "text/x-python",
   "name": "python",
   "nbconvert_exporter": "python",
   "pygments_lexer": "ipython3",
   "version": "3.12.10"
  }
 },
 "nbformat": 4,
 "nbformat_minor": 5
}
