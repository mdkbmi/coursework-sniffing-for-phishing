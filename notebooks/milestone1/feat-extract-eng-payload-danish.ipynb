{
 "cells": [
  {
   "cell_type": "code",
   "execution_count": null,
   "id": "83910f40",
   "metadata": {},
   "outputs": [],
   "source": [
    "import pandas as pd\n",
    "from email.parser import BytesParser\n",
    "from bs4 import BeautifulSoup\n",
    "\n",
    "import sys\n",
    "import os\n",
    "username = os.environ.get('USER')\n",
    "sys.path.append(f'/data/workspace/{username}')\n",
    "\n",
    "import git_repo.scripts.extract_text_features as etf"
   ]
  },
  {
   "cell_type": "code",
   "execution_count": null,
   "id": "dfd65ff2",
   "metadata": {},
   "outputs": [],
   "source": [
    "def remove_caution_label(text):\n",
    "    \"\"\"\n",
    "    Remove '[CAUTION: Non-UBC Email]' from a string if it exists anywhere in the text.\n",
    "    \n",
    "    Parameters\n",
    "    ----------\n",
    "    text : str\n",
    "        The input text that may contain the caution prefix.\n",
    "        \n",
    "    Returns\n",
    "    -------\n",
    "    str\n",
    "        The input text with the caution prefix removed if it was present.\n",
    "        \n",
    "    Example\n",
    "    -------\n",
    "    >>> text = '[CAUTION: Non-UBC Email] This is a phishing email.'\n",
    "    >>> remove_caution_prefix(text)\n",
    "    ' This is a phishing email.'\n",
    "    >>> text = 'Normal email without prefix'\n",
    "    >>> remove_caution_prefix(text)\n",
    "    'Normal email without prefix'\n",
    "    >>> text = 'This is an email with [CAUTION: Non-UBC Email] in the middle.'\n",
    "    >>> remove_caution_prefix(text)\n",
    "    'This is an email with  in the middle.'\n",
    "    \"\"\"\n",
    "    label = '[CAUTION: Non-UBC Email]'\n",
    "\n",
    "    if label in text:\n",
    "        return text.replace(label, '').lstrip()\n",
    "    else:\n",
    "        return text\n"
   ]
  },
  {
   "cell_type": "code",
   "execution_count": null,
   "id": "3ee36bd8",
   "metadata": {},
   "outputs": [],
   "source": [
    "email_list = pd.read_csv('/data/workspace/danishki/git_repo/data/sampled-dataset/sample-small.csv')\n",
    "paths = email_list.path\n",
    "\n",
    "emails = []\n",
    "payloads = []\n",
    "text_html = []\n",
    "text_plain = []\n",
    "text_clean = []\n",
    "\n",
    "for i, path in enumerate(paths):\n",
    "    with open(path, 'rb') as fp:\n",
    "        msg = BytesParser().parse(fp)\n",
    "        emails.append(msg)\n",
    "\n",
    "    content_type = list()\n",
    "    payload = {}\n",
    "\n",
    "    for part in msg.walk():\n",
    "        payload[part.get_content_type()] = part.get_payload(decode=True)\n",
    "\n",
    "    payloads.append(payload)\n",
    "\n",
    "    text_html.append(payload['text/html'] if 'text/html' in payload.keys() else None)\n",
    "\n",
    "    try:\n",
    "        text_plain.append(payload['text/plain'].decode() if 'text/plain' in payload.keys() else BeautifulSoup(payload['text/html']).get_text())\n",
    "    except:\n",
    "        text_plain.append('')\n",
    "\n",
    "    try:\n",
    "        text_clean.append(remove_caution_label(' '.join(text_plain[i].split())))\n",
    "    except:\n",
    "        text_clean.append('')"
   ]
  },
  {
   "cell_type": "code",
   "execution_count": null,
   "id": "e766aa79",
   "metadata": {},
   "outputs": [],
   "source": [
    "data_df = pd.DataFrame({\n",
    "    'path': paths,\n",
    "    'email': emails,\n",
    "    'payload': payloads,\n",
    "    'text_html': text_html,\n",
    "    'text_plain': text_plain,\n",
    "    'text_clean': text_clean,\n",
    "}).set_index('path')\n",
    "\n",
    "data_df"
   ]
  },
  {
   "cell_type": "markdown",
   "id": "35ab886f",
   "metadata": {},
   "source": [
    "#### Check for presence of non-ASCII characters"
   ]
  },
  {
   "cell_type": "code",
   "execution_count": null,
   "id": "84097e7c",
   "metadata": {},
   "outputs": [],
   "source": [
    "non_ascii_results = etf.non_ascii_present(data_df.text_clean)\n",
    "\n",
    "non_ascii_results"
   ]
  },
  {
   "cell_type": "markdown",
   "id": "4cf4790b",
   "metadata": {},
   "source": [
    "#### Detect presence of hidden text"
   ]
  },
  {
   "cell_type": "code",
   "execution_count": null,
   "id": "4c70ac1d",
   "metadata": {},
   "outputs": [],
   "source": [
    "hidden_text_results = etf.is_hidden_text_present(data_df.text_html)\n",
    "\n",
    "hidden_text_results"
   ]
  },
  {
   "cell_type": "markdown",
   "id": "a0df2d95",
   "metadata": {},
   "source": [
    "#### Check if there are errors when parsing HTML caused by invalid HTML tags"
   ]
  },
  {
   "cell_type": "code",
   "execution_count": null,
   "id": "ceb9e84d",
   "metadata": {},
   "outputs": [],
   "source": [
    "parsing_error_results = etf.html_parsing_error(data_df.text_html)\n",
    "\n",
    "parsing_error_results"
   ]
  },
  {
   "cell_type": "markdown",
   "id": "29e641b2",
   "metadata": {},
   "source": [
    "#### Get word count"
   ]
  },
  {
   "cell_type": "code",
   "execution_count": null,
   "id": "b7353c5f",
   "metadata": {},
   "outputs": [],
   "source": [
    "word_counts = etf.word_count(data_df.text_clean)\n",
    "\n",
    "word_counts"
   ]
  },
  {
   "cell_type": "markdown",
   "id": "3a30aec2",
   "metadata": {},
   "source": [
    "#### Get proportion of readable text\n",
    "\n",
    "$$\n",
    "\\text{Proportion of readable text} = \\frac{\\text{No. of chars in }\\texttt{text\\_clean}}{\\text{No. of chars in }\\texttt{text\\_html}}\n",
    "$$"
   ]
  },
  {
   "cell_type": "code",
   "execution_count": null,
   "id": "5360101c",
   "metadata": {},
   "outputs": [],
   "source": [
    "readable_proportion_results = etf.readable_proportion(data_df.text_clean, data_df.text_html)\n",
    "\n",
    "readable_proportion_results"
   ]
  },
  {
   "cell_type": "markdown",
   "id": "3bbabac2",
   "metadata": {},
   "source": [
    "#### Get count of whitespace character occurrences in `text_plain`\n",
    "\n",
    "The whitespace ratio is a measurement of how much of the text consists of whitespace characters, which can be an indicator of formatting or structural characteristics of the email content. This metric is calculated using the following formula:\n",
    "\n",
    "$$\n",
    "\\text{Whitespace ratio} = \\frac{\\text{Number of whitespace characters in text}}{\\text{Total number of characters in text}}\n",
    "$$\n",
    "\n",
    "Where whitespace characters include spaces, tabs, newlines, and other non-visible formatting characters."
   ]
  },
  {
   "cell_type": "code",
   "execution_count": null,
   "id": "c0996bfe",
   "metadata": {},
   "outputs": [],
   "source": [
    "whitespace_ratio_results = etf.whitespace_ratio(data_df.text_plain)\n",
    "\n",
    "whitespace_ratio_results"
   ]
  },
  {
   "cell_type": "markdown",
   "id": "0bb30368",
   "metadata": {},
   "source": [
    "#### Get proportion of alphabetical characters in `text_clean`"
   ]
  },
  {
   "cell_type": "code",
   "execution_count": null,
   "id": "231dc376",
   "metadata": {},
   "outputs": [],
   "source": [
    "prop_alphabets_results = etf.alphabet_proportion(data_df.text_clean)\n",
    "\n",
    "prop_alphabets_results"
   ]
  },
  {
   "cell_type": "markdown",
   "id": "dc92213d",
   "metadata": {},
   "source": [
    "#### Get number of grammatical errors\n",
    "\n",
    "NOTE: This requires the local LanguageTool server to be running (currently only installed at `/data/workspace/danishki`).\n",
    "\n",
    "```bash\n",
    "cd /data/workspace/danishki/LanguageTool-6.7-SNAPSHOT\n",
    "java -cp languagetool-server.jar org.languagetool.server.HTTPServer --config server.properties --port 8081 --allow-origin\n",
    "```"
   ]
  },
  {
   "cell_type": "code",
   "execution_count": null,
   "id": "a19acc9b",
   "metadata": {},
   "outputs": [],
   "source": [
    "check_grammar_results = etf.check_grammar(data_df.text_plain, data_df['Content-Language'])\n",
    "\n",
    "check_grammar_results"
   ]
  },
  {
   "cell_type": "markdown",
   "id": "48376164",
   "metadata": {},
   "source": [
    "#### Named entity recognition"
   ]
  },
  {
   "cell_type": "code",
   "execution_count": null,
   "id": "47854420",
   "metadata": {},
   "outputs": [],
   "source": [
    "get_named_entities_results = etf.named_entities(data_df.text_clean)\n",
    "\n",
    "get_named_entities_results"
   ]
  },
  {
   "cell_type": "markdown",
   "id": "fef4c82e",
   "metadata": {},
   "source": [
    "#### Get proportion of English/French text"
   ]
  },
  {
   "cell_type": "code",
   "execution_count": null,
   "id": "0871ea64",
   "metadata": {},
   "outputs": [],
   "source": [
    "text_language_results = etf.english_french_proportion(data_df.text_clean)\n",
    "\n",
    "text_language_results"
   ]
  }
 ],
 "metadata": {
  "kernelspec": {
   "display_name": "dev-danishki",
   "language": "python",
   "name": "python3"
  },
  "language_info": {
   "codemirror_mode": {
    "name": "ipython",
    "version": 3
   },
   "file_extension": ".py",
   "mimetype": "text/x-python",
   "name": "python",
   "nbconvert_exporter": "python",
   "pygments_lexer": "ipython3",
   "version": "3.12.10"
  }
 },
 "nbformat": 4,
 "nbformat_minor": 5
}
