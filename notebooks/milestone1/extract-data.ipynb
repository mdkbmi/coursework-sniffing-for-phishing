{
 "cells": [
  {
   "cell_type": "code",
   "execution_count": null,
   "metadata": {},
   "outputs": [],
   "source": [
    "import pandas as pd\n",
    "import email\n",
    "from email.message import EmailMessage\n",
    "from email import policy\n",
    "from email.parser import BytesParser\n",
    "import glob\n",
    "import os\n",
    "from collections import defaultdict\n",
    "from bs4 import BeautifulSoup\n",
    "import random\n",
    "from typing import Tuple, List, Dict, Union\n",
    "import re"
   ]
  },
  {
   "cell_type": "code",
   "execution_count": null,
   "metadata": {},
   "outputs": [],
   "source": [
    "pwd()"
   ]
  },
  {
   "cell_type": "code",
   "execution_count": null,
   "metadata": {},
   "outputs": [],
   "source": [
    "ceo_fraud_gc_paths = glob.glob('/data/dataset/CEO_Fraud_-_Gift_Cards/*/*.eml')"
   ]
  },
  {
   "cell_type": "markdown",
   "metadata": {},
   "source": [
    "#### Function for extracting email body content - to be called within `extract_features` below"
   ]
  },
  {
   "cell_type": "code",
   "execution_count": null,
   "metadata": {},
   "outputs": [],
   "source": [
    "def extract_body(msg: EmailMessage) -> Tuple[List[str], str, str]:\n",
    "    \"\"\"\n",
    "    Recursively extracts MIME content types, plain text, HTML, and attachment types from an EmailMessage object.\n",
    "\n",
    "    This function performs a depth-first traversal of the email structure to collect:\n",
    "    \n",
    "    - All MIME content types found in the message parts.\n",
    "    - The first encountered plain text body (`text/plain`), cleaned of excess whitespace and UBC's caution tag.\n",
    "    - The first encountered HTML body (`text/html`).\n",
    "    - A fallback plain text version extracted from HTML if no `text/plain` is found.\n",
    "    - A list of MIME types for all attachments.\n",
    "\n",
    "    Parameters\n",
    "    ----------\n",
    "    msg : EmailMessage\n",
    "        The email message object from which to extract content.\n",
    "\n",
    "    Returns\n",
    "    -------\n",
    "    tuple :\n",
    "        A tuple containing:\n",
    "        - parts (list of str): All MIME content types found (e.g., 'text/plain', 'text/html', etc.).\n",
    "        - text_plain (str): The raw plain text body of the email, or extracted from HTML if not available.\n",
    "        - text_clean (str): Cleaned version of `text_plain`, with whitespace trimmed and caution tags removed.\n",
    "        - text_html (str): The raw HTML body of the email, if present; otherwise None.\n",
    "        - attachment_types (list of str): MIME content types of all attachments.\n",
    "\n",
    "    Raises\n",
    "    ------\n",
    "    TypeError\n",
    "        If the input `msg` is not an instance of `EmailMessage`.\n",
    "\n",
    "    Notes\n",
    "    -----\n",
    "    - Only the first encountered plain and HTML bodies are extracted.\n",
    "    - If a `text/plain` part is not available, plain text is extracted from the HTML using BeautifulSoup.\n",
    "    - The cleaning step removes excess whitespace and UBC’s caution tag: `[CAUTION: Non-UBC Email]`.\n",
    "    \"\"\"\n",
    "    \n",
    "    if not isinstance(msg, EmailMessage):\n",
    "        raise TypeError(f\"Expect msg to be a EmailMessage but got {type(msg)}\")\n",
    "        \n",
    "    parts = []\n",
    "    text_plain = '' \n",
    "    text_plain_from_html = '' # use this if 'text_plain' is blank \n",
    "    text_clean = '' \n",
    "    text_html = None \n",
    "    attachment_types = []\n",
    "\n",
    "    content_type = msg.get_content_type()\n",
    "    parts.append(content_type)\n",
    "    \n",
    "    if msg.is_multipart():\n",
    "        for part in msg.iter_parts():\n",
    "            sub_parts, sub_text_plain, sub_text_clean, sub_text_html, sub_attachment_types = extract_body(part)\n",
    "            parts.extend(sub_parts)\n",
    "            attachment_types.extend(sub_attachment_types)\n",
    "\n",
    "            # Prioritize first plain or html content found\n",
    "            if text_plain == '' and sub_text_plain != '':\n",
    "                text_plain = sub_text_plain\n",
    "            if text_html is None and sub_text_html is not None: \n",
    "                text_html = sub_text_html\n",
    "    else:\n",
    "        disposition = msg.get_content_disposition()\n",
    "\n",
    "        if content_type == 'text/html':\n",
    "            try:\n",
    "                text_html = msg.get_content()\n",
    "            except Exception:\n",
    "                pass\n",
    "            try:\n",
    "                text_plain_from_html = BeautifulSoup(text_html, 'html.parser').get_text()\n",
    "            except Exception:\n",
    "                pass\n",
    "\n",
    "        if content_type == 'text/plain':\n",
    "            text_plain = msg.get_content()\n",
    "        if disposition == 'attachment':\n",
    "            attachment_types.append(content_type)\n",
    "\n",
    "    if text_plain != '': # prioritize plain text from text/plain over plain text parsed from html \n",
    "        text_clean = \" \".join(text_plain.split()).replace('[CAUTION: Non-UBC Email]', '').lstrip()\n",
    "        #text_clean =  text_clean.replace('[CAUTION: Non-UBC Email]', '').lstrip()\n",
    "\n",
    "        return parts, text_plain, text_clean, text_html, attachment_types\n",
    "    \n",
    "    else:\n",
    "        text_clean = \" \".join(text_plain_from_html.split()).replace('[CAUTION: Non-UBC Email]', '').lstrip()\n",
    "        #text_clean =  text_plain_from_html.replace('[CAUTION: Non-UBC Email]', '').lstrip()\n",
    "\n",
    "    return parts, text_plain_from_html, text_clean, text_html, attachment_types"
   ]
  },
  {
   "cell_type": "code",
   "execution_count": null,
   "metadata": {},
   "outputs": [],
   "source": [
    "# #### SECOND VERSION \n",
    "\n",
    "# def extract_body(msg: EmailMessage) -> Tuple[List[str], str, str]:\n",
    "#     \"\"\"\n",
    "#     Recursively extracts content from an `EmailMessage` object, including content types, plain text, HTML content,\n",
    "#     and any attachments present in the email.\n",
    "\n",
    "#     This function handles both multipart and single-part messages. For multipart messages, it performs a depth-first \n",
    "#     traversal of the message parts to collect:\n",
    "    \n",
    "#     - All MIME content types found in the message.\n",
    "#     - The first encountered plain text and HTML body content.\n",
    "#     - The content types of all attachments found within the email.\n",
    "\n",
    "#     Additionally, the plain text content is cleaned by removing excessive whitespace and a specific cautionary tag\n",
    "#     from UBC's email system.\n",
    "\n",
    "#     Parameters\n",
    "#     ----------\n",
    "#     msg : EmailMessage\n",
    "#         The email message object to extract content from.\n",
    "\n",
    "#     Returns\n",
    "#     -------\n",
    "#     tuple of (list of str, str, str, list of str)\n",
    "#         A tuple containing:\n",
    "\n",
    "#         - parts : list of str\n",
    "#             A list of MIME content types found in the message parts (e.g., 'text/plain', 'text/html').\n",
    "#         - text_plain : str\n",
    "#             The plain text content of the email. If not directly available, it may be extracted from the HTML part.\n",
    "#             Cleaned of extra whitespace and UBC's email caution notice.\n",
    "#         - text_html : str\n",
    "#             The HTML content of the email, if any (empty string if not found).\n",
    "#         - attachment_types : list of str\n",
    "#             A list of MIME content types corresponding to attachments found in the email.\n",
    "\n",
    "#     Raises\n",
    "#     ------\n",
    "#     TypeError\n",
    "#         If the input `msg` is not an instance of `EmailMessage`.\n",
    "    \n",
    "#     \"\"\"\n",
    "\n",
    "#     if not isinstance(msg, EmailMessage):\n",
    "#         raise TypeError(f\"Expect msg to be a EmailMessage but got {type(msg)}\")\n",
    "        \n",
    "#     parts = []\n",
    "#     text_plain = '' \n",
    "#     text_plain_from_html = '' # only use this if above is blank \n",
    "#     text_clean = '' \n",
    "#     text_html = None \n",
    "#     attachment_types = []\n",
    "\n",
    "#     for part in msg.walk():\n",
    "#         content_type = part.get_content_type()\n",
    "#         disposition = part.get_content_disposition()\n",
    "#         parts.append(content_type)\n",
    "\n",
    "        \n",
    "#         if content_type == 'text/html':\n",
    "#             try:\n",
    "#                 if text_html is None and msg.get_content() is not None: # prioritize first html content found \n",
    "#                     text_html = msg.get_content()\n",
    "#                     text_plain_from_html = BeautifulSoup(text_html, 'html.parser').get_text()\n",
    "#             except Exception:\n",
    "#                 pass\n",
    "\n",
    "#         if content_type == 'text/plain':\n",
    "#             if text_plain == '' and msg.get_content() != '': # prioritize first text/plain content found \n",
    "#                 text_plain = msg.get_content()\n",
    "\n",
    "#         if disposition == 'attachment':\n",
    "#             attachment_types.append(content_type)\n",
    "\n",
    "#     if text_plain != '': # prioritize plain text from text/plain over plain text parsed from html \n",
    "#         text_clean = \" \".join(text_plain.split())  \n",
    "#         text_clean =  text_clean.replace('[CAUTION: Non-UBC Email]', '').lstrip()\n",
    "\n",
    "#         return parts, text_plain, text_clean, text_html, attachment_types\n",
    "    \n",
    "#     else:\n",
    "#         text_clean = \" \".join(text_plain_from_html.split())  \n",
    "#         text_clean =  text_plain_from_html.replace('[CAUTION: Non-UBC Email]', '').lstrip()\n",
    "\n",
    "#         return parts, text_plain_from_html, text_clean, text_html, attachment_types\n"
   ]
  },
  {
   "cell_type": "markdown",
   "metadata": {},
   "source": [
    "#### Function for extracting all needed features "
   ]
  },
  {
   "cell_type": "code",
   "execution_count": null,
   "metadata": {},
   "outputs": [],
   "source": [
    "def extract_email_metadata(path: Union[str, pd.Series]) -> Union[Dict[str, Union[str, bool, None, List[str]]], pd.Series]:\n",
    "    \"\"\"\n",
    "    Extracts detailed metadata and content from one or more `.eml` email files.\n",
    "\n",
    "    This function parses a single email file path or a series of file paths, reading and processing\n",
    "    each `.eml` file to extract a comprehensive set of metadata and body content features. It includes:\n",
    "    \n",
    "    - Header information (sender, receiver, subject, routing, authentication)\n",
    "    - MIME content structure\n",
    "    - Plain and HTML body content\n",
    "    - Attachment types\n",
    "\n",
    "    Parameters\n",
    "    ----------\n",
    "    path : str or pd.Series\n",
    "        A file path to a single `.eml` email file, or a pandas Series of file paths.\n",
    "\n",
    "    Returns\n",
    "    -------\n",
    "    dict or pd.Series\n",
    "        If a single file path is provided, returns a dictionary with extracted metadata and content.\n",
    "        If a Series of file paths is provided, returns a Series of dictionaries, one per file.\n",
    "\n",
    "        The extracted metadata includes:\n",
    "\n",
    "        Header Information:\n",
    "        - 'path' : str\n",
    "            File path to the parsed email.\n",
    "        - 'is_multipart' : bool\n",
    "            Whether the email is a multipart message.\n",
    "        - 'From' : str\n",
    "            Raw 'From' header value.\n",
    "        - 'From_name' : str\n",
    "            Extracted sender name (if present).\n",
    "        - 'From_email' : str\n",
    "            Sender's email address.\n",
    "        - 'From_email_domain' : str\n",
    "            Domain portion of the sender's email address.\n",
    "        - 'To' : str\n",
    "            Raw 'To' header value.\n",
    "        - 'To_name' : str\n",
    "            Extracted recipient name (if present).\n",
    "        - 'To_email' : str\n",
    "            Recipient's email address.\n",
    "        - 'To_email_domain' : str\n",
    "            Domain portion of the recipient's email address.\n",
    "        - 'Subject' : str or None\n",
    "            Email subject line.\n",
    "        - 'Received' : list of str\n",
    "            List of 'Received' headers showing the delivery path.\n",
    "        - 'Authentication-Results' : str or None\n",
    "            SPF, DKIM, and DMARC authentication results, if present.\n",
    "        - 'received-spf' : str or None\n",
    "            Sender Policy Framework result, if present.\n",
    "        - 'DKIM-Signature' : str or None\n",
    "            DomainKeys Identified Mail signature, if present.\n",
    "        - 'Return-Path' : str or None\n",
    "            Return path address for bounces, if present.\n",
    "        - 'Content-Language' : str or None\n",
    "            Language declared in the email content.\n",
    "        - 'Reply-To' : str or None\n",
    "            Reply-to address, if different from 'From'.\n",
    "\n",
    "        Body Content:\n",
    "        - 'Content_types' : list of str\n",
    "            List of MIME content types found in the email body (e.g., 'text/plain', 'text/html').\n",
    "        - 'text_plain' : str\n",
    "            Raw plain text body of the email, or empty string if not present.\n",
    "        - 'text_clean' : str\n",
    "            Cleaned version of the plain text, with whitespace normalized and cautionary tags removed.\n",
    "        - 'text_html' : str or None\n",
    "            Raw HTML body of the email, if available.\n",
    "        - 'attachment_types' : list of str\n",
    "            MIME types of all attachments found in the message.\n",
    "\n",
    "    Raises\n",
    "    ------\n",
    "    TypeError\n",
    "        If the input `path` is not a string or a pandas Series.\n",
    "\n",
    "    Examples\n",
    "    --------\n",
    "    >>> extract_email_metadata(\"sample_email.eml\")\n",
    "    {'From_email': 'alice@example.com', 'Subject': 'Meeting Reminder', ...}\n",
    "\n",
    "    >>> paths = pd.Series([\"email1.eml\", \"email2.eml\"])\n",
    "    >>> metadata_series = extract_email_metadata(paths)\n",
    "    >>> metadata_series.iloc[0]['From_email']\n",
    "    'bob@example.com'\n",
    "    \"\"\"\n",
    "    \n",
    "    def _extract_email_metadata(path):\n",
    "\n",
    "        with open(path, 'rb') as fp:\n",
    "            msg = BytesParser(policy=policy.default).parse(fp)\n",
    "\n",
    "        features_dict = {}\n",
    "        multipart_bool = msg.is_multipart()\n",
    "        sender = msg['From']\n",
    "        \n",
    "        if sender:\n",
    "            sender_regex = re.search(r\"^(.*?)\\s<(.*)>\", sender) # if \"From\" matches the pattern of \"Name <email_address>\", will store name as group 1, email as group 2\n",
    "\n",
    "            if sender_regex: # some \"From\" only have the email, not the sender name. In this case sender_regex will be None \n",
    "                sender_name = sender_regex.group(1) \n",
    "                sender_name = sender_name if sender_name[0] != \"\\\"\" else sender_name[1:-1] ## remove quotations if name is wrapped in them \n",
    "                sender_email = sender_regex.group(2)\n",
    "                sender_email_domain = sender_email.split('@')[-1]\n",
    "            \n",
    "            else: # if sender_regex is None \n",
    "                sender_name = ''\n",
    "                sender_email = sender\n",
    "                sender_email_domain = sender_email.split('@')[-1]\n",
    "        else: \n",
    "            sender = ''\n",
    "            sender_name = ''\n",
    "            sender_email = ''\n",
    "            sender_email_domain = ''\n",
    "\n",
    "        receiver = msg['To']\n",
    "\n",
    "        if receiver:\n",
    "            receiver_regex = re.search(r\"^(.*?)\\s<(.*)>\", receiver)\n",
    "\n",
    "            if receiver_regex:\n",
    "                receiver_name = receiver_regex.group(1)\n",
    "                receiver_name = receiver_name if receiver_name[0] != \"\\\"\" else receiver_name[1:-1]\n",
    "                receiver_email = receiver_regex.group(2)\n",
    "                receiver_email_domain = receiver_email.split('@')[-1]\n",
    "            \n",
    "            else: \n",
    "                receiver_name = ''\n",
    "                receiver_email = receiver\n",
    "                receiver_email_domain = receiver_email.split('@')[-1]\n",
    "        \n",
    "        else: \n",
    "            receiver = ''\n",
    "            receiver_name = ''\n",
    "            receiver_email = ''\n",
    "            receiver_email_domain = ''\n",
    "\n",
    "        subject = msg['Subject']\n",
    "        received = msg.get_all('Received')\n",
    "        auth_result = msg['Authentication-Results']\n",
    "        received_spf = msg['received-spf']\n",
    "        DKIM_Signature = msg['DKIM-Signature']\n",
    "        Return_Path = msg['Return-Path']\n",
    "        content_language = msg['Content-Language']\n",
    "        reply_to = msg['Reply-To']\n",
    "        \n",
    "        content_types, text_plain, text_clean, text_html, attachment_types = extract_body(msg)\n",
    "\n",
    "        features_dict['path'] = path\n",
    "        features_dict['is_multipart'] = multipart_bool\n",
    "        features_dict['From'] = sender\n",
    "        features_dict['From_name'] = sender_name\n",
    "        features_dict['From_email'] = sender_email\n",
    "        features_dict['From_email_domain'] = sender_email_domain\n",
    "        features_dict['To'] = receiver\n",
    "        features_dict['To_name'] = receiver_name\n",
    "        features_dict['To_email'] = receiver_email\n",
    "        features_dict['To_email_domain'] = receiver_email_domain\n",
    "        features_dict['Subject'] = subject\n",
    "        features_dict['Received'] = list(received) if received else []\n",
    "        features_dict['Authentication-Results'] = auth_result \n",
    "        features_dict['received-spf'] = received_spf\n",
    "        features_dict['DKIM-Signature'] = DKIM_Signature\n",
    "        features_dict['Return-Path'] = Return_Path\n",
    "        features_dict['Content-Language'] = content_language \n",
    "        features_dict['Reply-To'] = reply_to\n",
    "        features_dict['Content_types'] = list(content_types) if content_types else []\n",
    "        features_dict['text_plain'] = text_plain\n",
    "        features_dict['text_clean'] = text_clean\n",
    "        features_dict['text_html'] = text_html\n",
    "        features_dict['attachment_types'] = attachment_types\n",
    "\n",
    "        return features_dict\n",
    "    \n",
    "    if isinstance(path, str):\n",
    "        return _extract_email_metadata(path)\n",
    "    \n",
    "    if isinstance(path, pd.Series):\n",
    "\n",
    "        extracted_dict_list = []\n",
    "\n",
    "        for individual_path in path:\n",
    "            extracted_dict_list.append(_extract_email_metadata(individual_path))\n",
    "        return pd.Series(extracted_dict_list)\n",
    "    \n",
    "    else:\n",
    "        raise TypeError(f\"Expect path to be either a str or pd.Series but got {type(path)}\")\n",
    "\n"
   ]
  },
  {
   "cell_type": "markdown",
   "metadata": {},
   "source": [
    "#### Testing new function (taking in path instead of msg)"
   ]
  },
  {
   "cell_type": "code",
   "execution_count": null,
   "metadata": {},
   "outputs": [],
   "source": [
    "toy_output = extract_email_metadata(ceo_fraud_gc_paths[3])\n",
    "pd.DataFrame([toy_output])"
   ]
  },
  {
   "cell_type": "code",
   "execution_count": null,
   "metadata": {},
   "outputs": [],
   "source": [
    "toy_output_series = extract_email_metadata(pd.Series(ceo_fraud_gc_paths[:100]))\n",
    "toy_output_series"
   ]
  },
  {
   "cell_type": "code",
   "execution_count": null,
   "metadata": {},
   "outputs": [],
   "source": [
    "toy_output_series = extract_email_metadata(pd.Series(ceo_fraud_gc_paths[:100]))\n",
    "pd.DataFrame(toy_output_series.to_list())"
   ]
  },
  {
   "cell_type": "code",
   "execution_count": null,
   "metadata": {},
   "outputs": [],
   "source": [
    "extract_email_metadata(ceo_fraud_gc_paths[:100])"
   ]
  },
  {
   "cell_type": "markdown",
   "metadata": {},
   "source": [
    "##### Testing parsing one single msg"
   ]
  },
  {
   "cell_type": "code",
   "execution_count": null,
   "metadata": {},
   "outputs": [],
   "source": [
    "with open(ceo_fraud_gc_paths[3], 'rb') as fp:\n",
    "    msg = BytesParser(policy=policy.default).parse(fp)\n",
    "\n",
    "toy_output = extract_email_metadata(msg)"
   ]
  },
  {
   "cell_type": "code",
   "execution_count": null,
   "metadata": {},
   "outputs": [],
   "source": [
    "toy_df = pd.DataFrame([toy_output])"
   ]
  },
  {
   "cell_type": "code",
   "execution_count": null,
   "metadata": {},
   "outputs": [],
   "source": [
    "parts = []\n",
    "\n",
    "for part in msg.walk():\n",
    "    parts.append(part.get_content_type())\n",
    "\n",
    "parts"
   ]
  },
  {
   "cell_type": "code",
   "execution_count": null,
   "metadata": {},
   "outputs": [],
   "source": [
    "msg.get_payload()[0].get_payload()"
   ]
  },
  {
   "cell_type": "code",
   "execution_count": null,
   "metadata": {},
   "outputs": [],
   "source": [
    "pd.DataFrame([toy_output])"
   ]
  },
  {
   "cell_type": "code",
   "execution_count": null,
   "metadata": {},
   "outputs": [],
   "source": [
    "text_plain = toy_output['text_plain']\n",
    "text_plain"
   ]
  },
  {
   "cell_type": "code",
   "execution_count": null,
   "metadata": {},
   "outputs": [],
   "source": [
    "\" \".join(\" \".split())"
   ]
  },
  {
   "cell_type": "code",
   "execution_count": null,
   "metadata": {},
   "outputs": [],
   "source": [
    "email = '\"Woo, Clement\" <clement.woo@ubc.ca>'\n",
    "email_regex = re.search(r\"^(.*?)\\s<(.*)>\", email)"
   ]
  },
  {
   "cell_type": "code",
   "execution_count": null,
   "metadata": {},
   "outputs": [],
   "source": [
    "name = '\"Woo, Clement\"' \n",
    "name = name if name[0] != \"\\\"\" else name[1:-1]\n",
    "name"
   ]
  },
  {
   "cell_type": "code",
   "execution_count": null,
   "metadata": {},
   "outputs": [],
   "source": [
    "email = 'melanie.kuxdorf@ubc.ca'\n",
    "email_regex = re.search(r\"^(.*?)\\s<(.*)>\", email)"
   ]
  },
  {
   "cell_type": "code",
   "execution_count": null,
   "metadata": {},
   "outputs": [],
   "source": [
    "type(email_regex)"
   ]
  },
  {
   "cell_type": "markdown",
   "metadata": {},
   "source": [
    "##### Testing parsing 100 msg"
   ]
  },
  {
   "cell_type": "code",
   "execution_count": null,
   "metadata": {},
   "outputs": [],
   "source": [
    "toy_list = ceo_fraud_gc_paths[:100]"
   ]
  },
  {
   "cell_type": "code",
   "execution_count": null,
   "metadata": {},
   "outputs": [],
   "source": [
    "extracted_dict_list = []\n",
    "ticket_id_list = []\n",
    "\n",
    "for path in toy_list:\n",
    "\n",
    "    with open(path, 'rb') as fp:\n",
    "        msg = BytesParser(policy=policy.default).parse(fp)\n",
    "\n",
    "    extracted_dict_list.append(extract_email_metadata(msg))\n",
    "    ticket_id_list.append(path.split('/')[-2])\n",
    "\n"
   ]
  },
  {
   "cell_type": "code",
   "execution_count": null,
   "metadata": {},
   "outputs": [],
   "source": [
    "df = pd.DataFrame(extracted_dict_list)\n",
    "df.insert(0, 'ticket_id', ticket_id_list)"
   ]
  },
  {
   "cell_type": "code",
   "execution_count": null,
   "metadata": {},
   "outputs": [],
   "source": [
    "df.head()"
   ]
  },
  {
   "cell_type": "markdown",
   "metadata": {},
   "source": [
    "#### Testing parsing 5000 msg"
   ]
  },
  {
   "cell_type": "code",
   "execution_count": null,
   "metadata": {},
   "outputs": [],
   "source": [
    "all_paths = glob.glob('/data/dataset/*/*/*.eml')\n",
    "legit_paths = [path for path in all_paths if 'Legit' in path or 'Spam' in path]\n",
    "malicious_path = [path for path in all_paths if path not in legit_paths]"
   ]
  },
  {
   "cell_type": "code",
   "execution_count": null,
   "metadata": {},
   "outputs": [],
   "source": [
    "malicious_sampled = random.sample(malicious_path, 5000)"
   ]
  },
  {
   "cell_type": "code",
   "execution_count": null,
   "metadata": {},
   "outputs": [],
   "source": [
    "extracted_dict_list = []\n",
    "ticket_id_list = []\n",
    "\n",
    "for path in malicious_sampled:\n",
    "\n",
    "    with open(path, 'rb') as fp:\n",
    "        msg = BytesParser(policy=policy.default).parse(fp)\n",
    "\n",
    "    extracted_dict_list.append(extract_email_metadata(msg))\n",
    "    ticket_id_list.append(path.split('/')[-2])"
   ]
  },
  {
   "cell_type": "code",
   "execution_count": null,
   "metadata": {},
   "outputs": [],
   "source": [
    "df = pd.DataFrame(extracted_dict_list)\n",
    "df.insert(0, 'ticket_id', ticket_id_list)\n",
    "df.head()"
   ]
  },
  {
   "cell_type": "markdown",
   "metadata": {},
   "source": [
    "#### self-phising emails"
   ]
  },
  {
   "cell_type": "code",
   "execution_count": null,
   "metadata": {},
   "outputs": [],
   "source": [
    "self_phish_paths = glob.glob('/data/dataset/Self-Phishing/*/*.eml')\n",
    "sample_self_phish_paths = random.sample(self_phish_paths, 500)"
   ]
  },
  {
   "cell_type": "code",
   "execution_count": null,
   "metadata": {},
   "outputs": [],
   "source": [
    "extracted_dict_list_sp = []\n",
    "ticket_id_list_sp = []\n",
    "\n",
    "for path in sample_self_phish_paths:\n",
    "\n",
    "    with open(path, 'rb') as fp:\n",
    "        msg = BytesParser(policy=policy.default).parse(fp)\n",
    "\n",
    "    extracted_dict_list_sp.append(extract_email_metadata(msg))\n",
    "    ticket_id_list_sp.append(path.split('/')[-2])\n",
    "\n",
    "df_sp = pd.DataFrame(extracted_dict_list_sp)\n",
    "df_sp.insert(0, 'ticket_id', ticket_id_list_sp)\n",
    "df_sp.head()"
   ]
  },
  {
   "cell_type": "markdown",
   "metadata": {},
   "source": [
    "#### legit emails"
   ]
  },
  {
   "cell_type": "code",
   "execution_count": null,
   "metadata": {},
   "outputs": [],
   "source": [
    "sample_legit_paths = random.sample(legit_paths, 500)"
   ]
  },
  {
   "cell_type": "code",
   "execution_count": null,
   "metadata": {},
   "outputs": [],
   "source": [
    "extracted_dict_list_legit = []\n",
    "ticket_id_list_legit = []\n",
    "\n",
    "for path in sample_legit_paths:\n",
    "\n",
    "    with open(path, 'rb') as fp:\n",
    "        msg = BytesParser(policy=policy.default).parse(fp)\n",
    "\n",
    "    extracted_dict_list_legit.append(extract_email_metadata(msg))\n",
    "    ticket_id_list_legit.append(path.split('/')[-2])\n",
    "\n",
    "df_legit = pd.DataFrame(extracted_dict_list_legit)\n",
    "df_legit.insert(0, 'ticket_id', ticket_id_list_legit)\n",
    "df_legit.head()"
   ]
  },
  {
   "cell_type": "code",
   "execution_count": null,
   "metadata": {},
   "outputs": [],
   "source": []
  }
 ],
 "metadata": {
  "kernelspec": {
   "display_name": "dev-alexww14",
   "language": "python",
   "name": "python3"
  },
  "language_info": {
   "codemirror_mode": {
    "name": "ipython",
    "version": 3
   },
   "file_extension": ".py",
   "mimetype": "text/x-python",
   "name": "python",
   "nbconvert_exporter": "python",
   "pygments_lexer": "ipython3",
   "version": "3.12.10"
  }
 },
 "nbformat": 4,
 "nbformat_minor": 2
}
