{
 "cells": [
  {
   "cell_type": "code",
   "execution_count": null,
   "id": "5ecf123b",
   "metadata": {},
   "outputs": [],
   "source": [
    "import pandas as pd\n",
    "\n",
    "import sys\n",
    "import os\n",
    "sys.path.append(os.path.abspath(\"../../\"))"
   ]
  },
  {
   "cell_type": "markdown",
   "id": "89bbc5cd",
   "metadata": {},
   "source": [
    "Run the following code in Terminal from the project root dir:\n",
    "\n",
    "```bash\n",
    "python scripts/build_original_df.py --dataset sample-small\n",
    "```"
   ]
  },
  {
   "cell_type": "code",
   "execution_count": null,
   "id": "00b8467e",
   "metadata": {},
   "outputs": [],
   "source": [
    "original_df = pd.read_parquet('/data/workspace/danishki/git_repo/data/sampled-dataset/raw/sample-small.parquet')\n",
    "\n",
    "original_df = original_df.iloc[:30]\n",
    "\n",
    "original_df"
   ]
  },
  {
   "cell_type": "code",
   "execution_count": null,
   "id": "aee5bafe",
   "metadata": {},
   "outputs": [],
   "source": [
    "input_df_classical = pd.read_parquet('/data/workspace/danishki/git_repo/data/sampled-dataset/processed/sample-small.parquet')\n",
    "\n",
    "input_df_classical"
   ]
  },
  {
   "cell_type": "code",
   "execution_count": null,
   "id": "ee3acc0d",
   "metadata": {},
   "outputs": [],
   "source": [
    "from src.extract_header_features import (\n",
    "    has_dmarc_authentication, get_dkim_result,\n",
    "    get_spf_result, get_dmarc_result,\n",
    "    dkim_domain_matches_sender, has_attachment,\n",
    "    number_of_received, to_from_match,\n",
    "    spf_email_matches_sender\n",
    ")\n",
    "\n",
    "from src.extract_text_features import (\n",
    "    non_ascii_present, hidden_text_present, html_parsing_error,\n",
    "    word_count, readable_proportion, whitespace_ratio,\n",
    "    alphabet_proportion, check_grammar, english_french_proportion\n",
    ")\n",
    "\n",
    "features_df = pd.DataFrame({\n",
    "    \"dmarc_authentication_present\": has_dmarc_authentication(original_df['Authentication-Results']),\n",
    "    \"dkim_result\": get_dkim_result(original_df['Authentication-Results']),\n",
    "    \"spf_result\": get_spf_result(original_df['received-spf']),\n",
    "    \"dmarc_result\": get_dmarc_result(original_df['Authentication-Results']),\n",
    "    \"dkim_sender_domains_match\": dkim_domain_matches_sender(\n",
    "        original_df['DKIM-Signature'],\n",
    "        original_df['From_email_domain']\n",
    "    ),\n",
    "    \"attachments_present\": has_attachment(original_df['attachment_types']),\n",
    "    \"routing_length\": number_of_received(original_df['Received']),\n",
    "    \"to_from_addresses_match\": to_from_match(original_df['From_email'], original_df['To_email']),\n",
    "    \"sender_email_spf_match\": spf_email_matches_sender(\n",
    "        original_df['received-spf'], original_df['From_email']\n",
    "    ),\n",
    "\n",
    "    \"non_ascii_present\": non_ascii_present(original_df['text_clean']),\n",
    "    \"hidden_text_present\": hidden_text_present(original_df['text_html']),\n",
    "    \"html_parsing_error\": html_parsing_error(original_df['text_html']),\n",
    "    \"word_count\": word_count(original_df['text_clean']),\n",
    "    \"readable_proportion\": readable_proportion(original_df['text_clean'], original_df['text_html']),\n",
    "    \"whitespace_ratio\": whitespace_ratio(original_df['text_plain']),\n",
    "    \"alphabet_proportion\": alphabet_proportion(original_df['text_clean']),\n",
    "    \"grammar_error_rate\": check_grammar(original_df['text_plain'], original_df['Content-Language']),\n",
    "    \"english_french_proportion\": english_french_proportion(original_df['text_plain']),\n",
    "\n",
    "})\n",
    "\n",
    "features_df"
   ]
  },
  {
   "cell_type": "code",
   "execution_count": null,
   "id": "e461102f",
   "metadata": {},
   "outputs": [],
   "source": [
    "import pandera as pa\n",
    "\n",
    "schema_features_df = pa.DataFrameSchema(\n",
    "    {\n",
    "        \"dmarc_authentication_present\": pa.Column(bool),\n",
    "        \"dkim_result\": pa.Column(str),\n",
    "        \"spf_result\": pa.Column(str),\n",
    "        \"dmarc_result\": pa.Column(str),\n",
    "        \"dkim_sender_domains_match\": pa.Column(bool),\n",
    "        \"attachments_present\": pa.Column(bool),\n",
    "        \"routing_length\": pa.Column(int),\n",
    "        \"to_from_addresses_match\": pa.Column(bool),\n",
    "        \"sender_email_spf_match\": pa.Column(bool),\n",
    "\n",
    "        \"non_ascii_present\": pa.Column(bool),\n",
    "        \"hidden_text_present\": pa.Column(bool),\n",
    "        \"html_parsing_error\": pa.Column(int, pa.Check.isin([-1, 0, 1])),\n",
    "        \"word_count\": pa.Column(int, pa.Check(lambda x: x >= 0)),\n",
    "        \"readable_proportion\": pa.Column(float, pa.Check.in_range(0, 1)),\n",
    "        \"whitespace_ratio\": pa.Column(float, pa.Check.in_range(0, 1)),\n",
    "        \"alphabet_proportion\": pa.Column(float, pa.Check.in_range(0, 1)),\n",
    "        \"grammar_error_rate\": pa.Column(float, pa.Check.in_range(0, 1)),\n",
    "        \"english_french_proportion\": pa.Column(float, pa.Check.in_range(0, 1)),\n",
    "\n",
    "    }\n",
    ")\n",
    "\n",
    "schema_features_df.validate(features_df)"
   ]
  },
  {
   "cell_type": "code",
   "execution_count": null,
   "id": "98da9f49",
   "metadata": {},
   "outputs": [],
   "source": [
    "from src.extract_url_features import (\n",
    "    get_url_count, has_accessible_url, has_redirected_url,\n",
    "    has_ip_url, has_http_only, has_at_symbol,\n",
    "    has_port_number, has_long_url, has_multiple_subdomains\n",
    ")\n",
    "\n",
    "\n",
    "features_df_2 = pd.DataFrame({\n",
    "    \"url_count\": get_url_count(original_df['urls']),\n",
    "    \"all_urls_accessible\": has_accessible_url(original_df['urls']),\n",
    "    \"urls_redirected\": has_redirected_url(original_df['urls']),\n",
    "    \"ip_addr_urls\": has_ip_url(original_df['urls']),\n",
    "    \"http_urls_present\": has_http_only(original_df['urls']),\n",
    "    \"url_at_symbol\": has_at_symbol(original_df['urls']),\n",
    "    \"url_port_number\": has_port_number(original_df['urls']),\n",
    "    \"any_long_urls\": has_long_url(original_df['urls']),\n",
    "    \"url_multiple_subdomains\": has_multiple_subdomains(original_df['urls'])\n",
    "})\n",
    "\n",
    "features_df_2"
   ]
  },
  {
   "cell_type": "code",
   "execution_count": null,
   "id": "08302957",
   "metadata": {},
   "outputs": [],
   "source": []
  }
 ],
 "metadata": {
  "kernelspec": {
   "display_name": "dev-danishki",
   "language": "python",
   "name": "python3"
  },
  "language_info": {
   "codemirror_mode": {
    "name": "ipython",
    "version": 3
   },
   "file_extension": ".py",
   "mimetype": "text/x-python",
   "name": "python",
   "nbconvert_exporter": "python",
   "pygments_lexer": "ipython3",
   "version": "3.12.10"
  }
 },
 "nbformat": 4,
 "nbformat_minor": 5
}
