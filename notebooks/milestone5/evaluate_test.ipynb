{
 "cells": [
  {
   "cell_type": "code",
   "execution_count": null,
   "id": "1823264c",
   "metadata": {},
   "outputs": [],
   "source": [
    "import pandas as pd\n",
    "\n",
    "from sklearn.model_selection import train_test_split\n",
    "\n",
    "from sklearn.compose import make_column_transformer\n",
    "from sklearn.preprocessing import OneHotEncoder, StandardScaler\n",
    "from sklearn.feature_extraction.text import CountVectorizer\n",
    "\n",
    "from sklearn.pipeline import make_pipeline\n",
    "from xgboost import XGBClassifier\n",
    "from sklearn.ensemble import StackingClassifier\n",
    "from sklearn.svm import SVC\n",
    "\n",
    "import pickle\n",
    "import os, sys\n",
    "\n",
    "sys.path.append(os.path.abspath(\"../..\"))"
   ]
  },
  {
   "cell_type": "markdown",
   "id": "4bfea8ce",
   "metadata": {},
   "source": [
    "## Read dataset"
   ]
  },
  {
   "cell_type": "code",
   "execution_count": null,
   "id": "63e56846",
   "metadata": {},
   "outputs": [],
   "source": [
    "train_df = pd.read_parquet(\n",
    "    '/data/workspace/danishki/git_repo/data/full-dataset/processed/train.parquet'\n",
    ")\n",
    "\n",
    "train_df = train_df.copy()\n",
    "X_train = train_df.drop(columns=['target_1', 'target_2', 'target_3'])\n",
    "y_train = train_df['target_1']"
   ]
  },
  {
   "cell_type": "code",
   "execution_count": null,
   "id": "2bf9039c",
   "metadata": {},
   "outputs": [],
   "source": [
    "test_df = pd.read_parquet(\n",
    "    '/data/workspace/danishki/git_repo/data/full-dataset/processed/test.parquet'\n",
    ")\n",
    "\n",
    "test_df = test_df.copy()\n",
    "X_test = test_df.drop(columns=['target_1', 'target_2', 'target_3'])\n",
    "y_test = test_df['target_1']"
   ]
  },
  {
   "cell_type": "markdown",
   "id": "fc7fa0c0",
   "metadata": {},
   "source": [
    "## Set up preprocessor"
   ]
  },
  {
   "cell_type": "code",
   "execution_count": null,
   "id": "c87c88cd",
   "metadata": {},
   "outputs": [],
   "source": [
    "header_text_feats = 'subject'\n",
    "\n",
    "header_bool_feats = [\n",
    "    'url_present_in_subject', \n",
    "    'dmarc_authentication_present',\n",
    "    'dkim_sender_domains_match',\n",
    "    'to_from_addresses_match', \n",
    "    'sender_email_spf_match',\n",
    "    'different_reply_domains',\n",
    "    'name_server_match', \n",
    "]\n",
    "\n",
    "header_cat_feats = [\n",
    "    'dkim_result',\n",
    "    'spf_result',\n",
    "    'dmarc_result',\n",
    "]\n",
    "\n",
    "header_num_feats = [\n",
    "    'routing_length_before_ubc',\n",
    "    'internal_server_transfer_count',\n",
    "]\n",
    "\n",
    "body_text_feats = 'text_clean'\n",
    "\n",
    "body_bool_feats = [\n",
    "    'non_ascii_present',\n",
    "    'hidden_text_present',\n",
    "    'empty_body',\n",
    "]\n",
    "\n",
    "body_cat_feats = [\n",
    "    'html_parsing_error',\n",
    "]\n",
    "\n",
    "body_num_feats = [\n",
    "    'word_count',\n",
    "    'readable_proportion',\n",
    "    'whitespace_ratio',\n",
    "    'alphabet_proportion',\n",
    "    'grammar_error_rate',\n",
    "    'english_french_proportion',\n",
    "    'text_content_count',\n",
    "    'multimedia_content_count',\n",
    "    'others_content_count',\n",
    "    'hyperlink_proportion',\n",
    "]"
   ]
  },
  {
   "cell_type": "code",
   "execution_count": null,
   "id": "4b72f3b3",
   "metadata": {},
   "outputs": [],
   "source": [
    "preprocessor_header = make_column_transformer(\n",
    "    (OneHotEncoder(handle_unknown='ignore', drop='if_binary'), header_bool_feats + header_cat_feats),\n",
    "    (StandardScaler(), header_num_feats),\n",
    "    remainder='drop',\n",
    ")\n",
    "\n",
    "preprocessor_subject = make_column_transformer(\n",
    "    (CountVectorizer(strip_accents='unicode', lowercase=True, stop_words=['english', 'french']), header_text_feats),\n",
    "    remainder='drop'    \n",
    ")\n",
    "\n",
    "preprocessor_body = make_column_transformer(\n",
    "    (CountVectorizer(strip_accents='unicode', lowercase=True, stop_words=['english', 'french']), body_text_feats),\n",
    "    remainder='drop'\n",
    ")\n",
    "\n",
    "preprocessor_body_nontext = make_column_transformer(\n",
    "    (OneHotEncoder(handle_unknown='ignore', drop='if_binary'), body_bool_feats + body_cat_feats),\n",
    "    (StandardScaler(), body_num_feats),\n",
    "    remainder='drop'\n",
    ")"
   ]
  },
  {
   "cell_type": "markdown",
   "id": "c7f0c7b8",
   "metadata": {},
   "source": [
    "## Set up pipelines"
   ]
  },
  {
   "cell_type": "code",
   "execution_count": null,
   "id": "bbec1b0e",
   "metadata": {},
   "outputs": [],
   "source": [
    "pipe_header = make_pipeline(\n",
    "    preprocessor_header,\n",
    "    XGBClassifier(n_jobs=-1, objective=\"binary:logistic\", enable_categorical=True)\n",
    ")\n",
    "\n",
    "pipe_subject = make_pipeline(\n",
    "    preprocessor_subject,\n",
    "    XGBClassifier(n_jobs=-1, objective=\"binary:logistic\")\n",
    ")\n",
    "\n",
    "pipe_body = make_pipeline(\n",
    "    preprocessor_body,\n",
    "    XGBClassifier(n_jobs=-1, objective=\"binary:logistic\")\n",
    ")\n",
    "\n",
    "pipe_body_nontext = make_pipeline(\n",
    "    preprocessor_body_nontext,\n",
    "    XGBClassifier(n_jobs=-1, objective=\"binary:logistic\", enable_categorical=True)\n",
    ")"
   ]
  },
  {
   "cell_type": "markdown",
   "id": "301c0ced",
   "metadata": {},
   "source": [
    "## Set up `StackingClassifier`"
   ]
  },
  {
   "cell_type": "code",
   "execution_count": null,
   "id": "21f43655",
   "metadata": {},
   "outputs": [],
   "source": [
    "estimators = [\n",
    "    (\"header\", pipe_header), \n",
    "    (\"subject\", pipe_subject), \n",
    "    (\"body\", pipe_body),\n",
    "    (\"body_nontext\", pipe_body_nontext)\n",
    "]\n",
    "\n",
    "sc_svc = StackingClassifier(\n",
    "    estimators=estimators,\n",
    "    final_estimator=SVC(\n",
    "        probability=True, \n",
    "        class_weight='balanced',\n",
    "    ),\n",
    "    n_jobs=-1,\n",
    ")"
   ]
  },
  {
   "cell_type": "code",
   "execution_count": null,
   "id": "8ca555da",
   "metadata": {},
   "outputs": [],
   "source": [
    "sc_svc.fit(X_train, y_train)"
   ]
  },
  {
   "cell_type": "markdown",
   "id": "4b264fa4",
   "metadata": {},
   "source": [
    "## Classification report (`train`)"
   ]
  },
  {
   "cell_type": "code",
   "execution_count": null,
   "id": "eddb260f",
   "metadata": {},
   "outputs": [],
   "source": [
    "from sklearn.metrics import classification_report\n",
    "from sklearn.metrics import ConfusionMatrixDisplay\n",
    "\n",
    "y_pred = sc_svc.predict(X_train)\n",
    "print(classification_report(y_train, y_pred))"
   ]
  },
  {
   "cell_type": "code",
   "execution_count": null,
   "id": "08aa4473",
   "metadata": {},
   "outputs": [],
   "source": [
    "ConfusionMatrixDisplay.from_predictions(\n",
    "    y_train, y_pred\n",
    ")"
   ]
  },
  {
   "cell_type": "code",
   "execution_count": null,
   "id": "18d0d608",
   "metadata": {},
   "outputs": [],
   "source": [
    "from sklearn.metrics import confusion_matrix\n",
    "\n",
    "cm = confusion_matrix(y_train, y_pred)\n",
    "tn, fp, fn, tp = cm.ravel()\n",
    "fpr = fp / (fp + tn) if (fp + tn) > 0 else 0\n",
    "fnr = fn / (fn + tp) if (fn + tp) > 0 else 0\n",
    "\n",
    "print(f\"False Positive Rate: {fpr:.4f}\")\n",
    "print(f\"False Negative Rate: {fnr:.4f}\")"
   ]
  },
  {
   "cell_type": "markdown",
   "id": "e468d8a5",
   "metadata": {},
   "source": [
    "## Classification report (`test`)"
   ]
  },
  {
   "cell_type": "code",
   "execution_count": null,
   "id": "917431a0",
   "metadata": {},
   "outputs": [],
   "source": [
    "y_pred = sc_svc.predict(X_test)\n",
    "print(classification_report(y_test, y_pred))"
   ]
  },
  {
   "cell_type": "code",
   "execution_count": null,
   "id": "c3d5fa3a",
   "metadata": {},
   "outputs": [],
   "source": [
    "ConfusionMatrixDisplay.from_predictions(\n",
    "    y_test, y_pred\n",
    ")"
   ]
  },
  {
   "cell_type": "code",
   "execution_count": null,
   "id": "05e8e538",
   "metadata": {},
   "outputs": [],
   "source": [
    "cm = confusion_matrix(y_test, y_pred)\n",
    "tn, fp, fn, tp = cm.ravel()\n",
    "fpr = fp / (fp + tn) if (fp + tn) > 0 else 0\n",
    "fnr = fn / (fn + tp) if (fn + tp) > 0 else 0\n",
    "\n",
    "print(f\"False Positive Rate: {fpr:.4f}\")\n",
    "print(f\"False Negative Rate: {fnr:.4f}\")"
   ]
  },
  {
   "cell_type": "markdown",
   "id": "69854cfa",
   "metadata": {},
   "source": [
    "## Adjusted probability threshold"
   ]
  },
  {
   "cell_type": "code",
   "execution_count": null,
   "id": "faf747cc",
   "metadata": {},
   "outputs": [],
   "source": [
    "y_pred_proba = sc_svc.predict_proba(X_test)\n",
    "y_pred_custom = y_pred_proba[:, 1] > 0.5\n",
    "\n",
    "y_pred_custom = ['malicious' if y is True else 'benign' for y in y_pred_custom.tolist()]\n",
    "print(classification_report(y_test, y_pred_custom))"
   ]
  },
  {
   "cell_type": "code",
   "execution_count": null,
   "id": "84bea3f0",
   "metadata": {},
   "outputs": [],
   "source": [
    "ConfusionMatrixDisplay.from_predictions(\n",
    "    y_test, y_pred_custom\n",
    ")"
   ]
  },
  {
   "cell_type": "code",
   "execution_count": null,
   "id": "10d7e17b",
   "metadata": {},
   "outputs": [],
   "source": [
    "cm = confusion_matrix(y_test, y_pred_custom)\n",
    "tn, fp, fn, tp = cm.ravel()\n",
    "fpr = fp / (fp + tn) if (fp + tn) > 0 else 0\n",
    "fnr = fn / (fn + tp) if (fn + tp) > 0 else 0\n",
    "\n",
    "print(f\"False Positive Rate: {fpr:.4f}\")\n",
    "print(f\"False Negative Rate: {fnr:.4f}\")"
   ]
  },
  {
   "cell_type": "code",
   "execution_count": null,
   "id": "9fa91be5",
   "metadata": {},
   "outputs": [],
   "source": []
  }
 ],
 "metadata": {
  "kernelspec": {
   "display_name": "dev-danishki",
   "language": "python",
   "name": "python3"
  },
  "language_info": {
   "codemirror_mode": {
    "name": "ipython",
    "version": 3
   },
   "file_extension": ".py",
   "mimetype": "text/x-python",
   "name": "python",
   "nbconvert_exporter": "python",
   "pygments_lexer": "ipython3",
   "version": "3.12.10"
  }
 },
 "nbformat": 4,
 "nbformat_minor": 5
}
