{
 "cells": [
  {
   "cell_type": "markdown",
   "id": "4a25ba78",
   "metadata": {},
   "source": [
    "# Import libraries"
   ]
  },
  {
   "cell_type": "code",
   "execution_count": null,
   "id": "9253065a",
   "metadata": {},
   "outputs": [],
   "source": [
    "import os\n",
    "import sys\n",
    "import warnings\n",
    "import pandas as pd\n",
    "import json\n",
    "import matplotlib.pyplot as plt\n",
    "\n",
    "from sklearn.model_selection import train_test_split\n",
    "from sklearn.preprocessing import LabelEncoder\n",
    "from sklearn.metrics import confusion_matrix, classification_report, ConfusionMatrixDisplay\n",
    "\n",
    "# Hide warnings\n",
    "warnings.filterwarnings('ignore')\n"
   ]
  },
  {
   "cell_type": "markdown",
   "id": "5e9a29e9",
   "metadata": {},
   "source": [
    "# Import and prepare dataset"
   ]
  },
  {
   "cell_type": "code",
   "execution_count": null,
   "id": "bad5303e",
   "metadata": {},
   "outputs": [],
   "source": [
    "# Full dataset\n",
    "test_df = pd.read_parquet('/data/workspace/dataset/full-dataset/raw/test.parquet')\n",
    "test_df[\"Subject\"] = test_df[\"Subject\"].fillna(\"\")\n",
    "test_df[\"text_plain\"] = test_df[\"text_plain\"].fillna(\"\")\n",
    "test_df = test_df[test_df['target_3'] != 'self_phishing']\n",
    "\n",
    "test_df.head()"
   ]
  },
  {
   "cell_type": "code",
   "execution_count": null,
   "id": "b0d28369",
   "metadata": {},
   "outputs": [],
   "source": [
    "json_df = test_df[['Subject', 'text_plain', 'target_1']].copy().reset_index()\n",
    "json_df.head()"
   ]
  },
  {
   "cell_type": "code",
   "execution_count": null,
   "id": "a1f93b53",
   "metadata": {},
   "outputs": [],
   "source": [
    "# Initialize final structure\n",
    "output = {'malicious': {}, 'benign': {}}\n",
    "\n",
    "# Loop through rows\n",
    "for _, row in json_df.iterrows():\n",
    "    label = row['target_1']\n",
    "    path = row['path']\n",
    "    subject = row['Subject']\n",
    "    body = row['text_plain']\n",
    "    \n",
    "    output[label][path] = {\n",
    "        'subjects': [subject],\n",
    "        'bodies': [body]\n",
    "    }\n",
    "\n",
    "# Save to JSON file\n",
    "with open(\"/data/workspace/dataset/phishsense/phishsense_input.json\", \"w\") as f:\n",
    "    json.dump(output, f, indent=2)"
   ]
  },
  {
   "cell_type": "markdown",
   "id": "85040705",
   "metadata": {},
   "source": [
    "# Run Phishsense Model\n",
    "\n",
    "Open a terminal and run the following command:\n",
    "1. `cd /data/phishsense-1/app` \n",
    "2. `source ./venv/bin/activate` \n",
    "3. `python -uB src/app.py`"
   ]
  },
  {
   "cell_type": "markdown",
   "id": "c206c950",
   "metadata": {},
   "source": [
    "The following is curl will pass the input into Phishsense and obtain the model's predictions."
   ]
  },
  {
   "cell_type": "code",
   "execution_count": null,
   "id": "65bc9e1c",
   "metadata": {},
   "outputs": [],
   "source": [
    "!curl \\\n",
    "    -H \"Content-Type: application/json\" \\\n",
    "    -d @/data/workspace/dataset/phishsense/phishsense_input.json \\\n",
    "    -o /data/workspace/dataset/phishsense/phishsense_output.json \\\n",
    "    localhost:8080\n"
   ]
  },
  {
   "cell_type": "markdown",
   "id": "95ad47e5",
   "metadata": {},
   "source": [
    "# Read in Phishsense's predictions"
   ]
  },
  {
   "cell_type": "code",
   "execution_count": null,
   "id": "3ff3eb42",
   "metadata": {},
   "outputs": [],
   "source": [
    "# Read in the phishsense output JSON file\n",
    "with open(\"/data/workspace/dataset/phishsense/phishsense_output.json\", \"r\") as f:\n",
    "    phishsense_prediction = json.load(f)"
   ]
  },
  {
   "cell_type": "code",
   "execution_count": null,
   "id": "ba40862d",
   "metadata": {},
   "outputs": [],
   "source": [
    "rows = []\n",
    "\n",
    "for label, emails in phishsense_prediction.items():\n",
    "    for path, data in emails.items():\n",
    "        row = {\n",
    "            \"path\": path,\n",
    "            \"body_ceo_fraud\": data[\"body\"].get(\"CEO Fraud\", 0),\n",
    "            \"body_legitimate\": data[\"body\"].get(\"Legitimate\", 0),\n",
    "            \"body_phishing\": data[\"body\"].get(\"Phishing\", 0),\n",
    "            \"body_spam\": data[\"body\"].get(\"Spam\", 0),\n",
    "            \"subject_ceo_fraud\": data[\"subject\"].get(\"CEO Fraud\", 0),\n",
    "            \"subject_legitimate\": data[\"subject\"].get(\"Legitimate\", 0),\n",
    "            \"subject_phishing\": data[\"subject\"].get(\"Phishing\", 0),\n",
    "            \"subject_spam\": data[\"subject\"].get(\"Spam\", 0),\n",
    "            \"label\": label  # optional: to keep track of benign/malicious\n",
    "        }\n",
    "        rows.append(row)\n",
    "\n",
    "# Convert to DataFrame\n",
    "phishsense_pred_df = pd.DataFrame(rows)"
   ]
  },
  {
   "cell_type": "code",
   "execution_count": null,
   "id": "ef3e467a",
   "metadata": {},
   "outputs": [],
   "source": [
    "body_map = {\n",
    "    'body_legitimate': 'benign',\n",
    "    'body_spam': 'benign',\n",
    "    'body_ceo_fraud': 'malicious',\n",
    "    'body_phishing': 'malicious'\n",
    "}\n",
    "subject_map = {\n",
    "    'subject_legitimate': 'benign',\n",
    "    'subject_spam': 'benign',\n",
    "    'subject_ceo_fraud': 'malicious',\n",
    "    'subject_phishing': 'malicious'\n",
    "}\n",
    "\n",
    "phishsense_pred_df['body_prediction'] = (\n",
    "    phishsense_pred_df[['body_ceo_fraud', 'body_legitimate', 'body_phishing', 'body_spam']]\n",
    "    .idxmax(axis=1)\n",
    "    .replace(body_map)\n",
    ")\n",
    "phishsense_pred_df['subject_prediction'] = (\n",
    "    phishsense_pred_df[['subject_ceo_fraud', 'subject_legitimate', 'subject_phishing', 'subject_spam']]\n",
    "    .idxmax(axis=1)\n",
    "    .replace(subject_map)\n",
    ")"
   ]
  },
  {
   "cell_type": "code",
   "execution_count": null,
   "id": "a41c9164",
   "metadata": {},
   "outputs": [],
   "source": [
    "body_pred_df = phishsense_pred_df[['path', 'label', 'body_prediction']].copy()\n",
    "body_pred_df.head()\n"
   ]
  },
  {
   "cell_type": "code",
   "execution_count": null,
   "id": "de5984ca",
   "metadata": {},
   "outputs": [],
   "source": [
    "subject_pred_df = phishsense_pred_df[['path', 'label', 'subject_prediction']].copy()\n",
    "subject_pred_df.head()"
   ]
  },
  {
   "cell_type": "markdown",
   "id": "d5db1584",
   "metadata": {},
   "source": [
    "# Calculate the confusion matrix"
   ]
  },
  {
   "cell_type": "markdown",
   "id": "15bda6e8",
   "metadata": {},
   "source": [
    "## Phishsense - Body Model's prediction"
   ]
  },
  {
   "cell_type": "code",
   "execution_count": null,
   "id": "4b2e8f29",
   "metadata": {},
   "outputs": [],
   "source": [
    "y_true_body = body_pred_df['label']\n",
    "y_pred_body = body_pred_df['body_prediction']\n",
    "\n",
    "cm_body = confusion_matrix(y_true_body, y_pred_body)\n",
    "tn_body, fp_body, fn_body, tp_body = cm_body.ravel()\n",
    "disp = ConfusionMatrixDisplay(confusion_matrix=cm_body, display_labels=['benign', 'malicious'])\n",
    "\n",
    "disp.plot()\n",
    "print(\"Confusion Matrix:\")\n",
    "plt.show()\n",
    "\n",
    "report_body = classification_report(y_true_body, y_pred_body)\n",
    "print(\"\\nClassification Report of Phishsense Body Model:\\n\", report_body)\n",
    "\n",
    "fpr_body = fp_body / (fp_body + tn_body)\n",
    "fnr_body = fn_body / (fn_body + tp_body)\n",
    "\n",
    "print(f\"\\nFalse Positive Rate (FPR): {fpr_body:.4f}\")\n",
    "print(f\"\\nFalse Negative Rate (FNR): {fnr_body:.4f}\")"
   ]
  },
  {
   "cell_type": "markdown",
   "id": "94bc82d5",
   "metadata": {},
   "source": [
    "## Phishsense - Subject Model's prediction"
   ]
  },
  {
   "cell_type": "code",
   "execution_count": null,
   "id": "1b5cf023",
   "metadata": {},
   "outputs": [],
   "source": [
    "y_true_subject = subject_pred_df['label']\n",
    "y_pred_subject = subject_pred_df['subject_prediction']\n",
    "\n",
    "cm_subject = confusion_matrix(y_true_subject, y_pred_subject)\n",
    "tn_subject, fp_subject, fn_subject, tp_subject = cm_subject.ravel()\n",
    "disp = ConfusionMatrixDisplay(confusion_matrix=cm_subject, display_labels=['benign', 'malicious'])\n",
    "\n",
    "disp.plot()\n",
    "print(\"Confusion Matrix:\")\n",
    "plt.show()\n",
    "\n",
    "report_subject = classification_report(y_true_subject, y_pred_subject)\n",
    "print(\"\\nClassification Report of Phishsense Subject Model:\\n\", report_subject)\n",
    "\n",
    "fpr_subject = fp_subject / (fp_subject + tn_subject)\n",
    "fnr_subject = fn_subject / (fn_subject + tp_subject)\n",
    "\n",
    "print(f\"\\nFalse Positive Rate (FPR): {fpr_subject:.4f}\")\n",
    "print(f\"\\nFalse Negative Rate (FNR): {fnr_subject:.4f}\")"
   ]
  }
 ],
 "metadata": {
  "kernelspec": {
   "display_name": "dev-jiaquan",
   "language": "python",
   "name": "python3"
  },
  "language_info": {
   "codemirror_mode": {
    "name": "ipython",
    "version": 3
   },
   "file_extension": ".py",
   "mimetype": "text/x-python",
   "name": "python",
   "nbconvert_exporter": "python",
   "pygments_lexer": "ipython3",
   "version": "3.12.10"
  }
 },
 "nbformat": 4,
 "nbformat_minor": 5
}
