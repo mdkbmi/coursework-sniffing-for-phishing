{
 "cells": [
  {
   "cell_type": "code",
   "execution_count": null,
   "id": "c5f684f7",
   "metadata": {},
   "outputs": [],
   "source": [
    "import pandas as pd\n",
    "import os\n",
    "print(os.getcwd())\n",
    "import matplotlib.pyplot as plt\n",
    "import seaborn as sns\n",
    "import re\n",
    "pd.set_option('display.max_rows', 10)\n",
    "pd.set_option('display.max_columns', 20)\n",
    "pd.set_option('display.max_colwidth', 20)\n"
   ]
  },
  {
   "cell_type": "markdown",
   "id": "4807d0bb",
   "metadata": {},
   "source": [
    "# Data"
   ]
  },
  {
   "cell_type": "code",
   "execution_count": null,
   "id": "1bc87238",
   "metadata": {},
   "outputs": [],
   "source": [
    "data_train=pd.read_parquet(\"../../../../dataset/full-dataset/raw/train.parquet\")\n",
    "data_test=pd.read_parquet(\"../../../../dataset/full-dataset/raw/test.parquet\")\n",
    "data = pd.concat([data_train, data_test], axis=0, ignore_index=True)\n",
    "data.head()\n"
   ]
  },
  {
   "cell_type": "markdown",
   "id": "a9027b5d",
   "metadata": {},
   "source": [
    "#check exist features"
   ]
  },
  {
   "cell_type": "markdown",
   "id": "d70504f9",
   "metadata": {},
   "source": [
    "# Columns description"
   ]
  },
  {
   "cell_type": "markdown",
   "id": "a534d14e",
   "metadata": {},
   "source": [
    "| Column Name          | Description |\n",
    "|----------------------|-------------|\n",
    "| `is_multipart`       | Whether the email is a multipart email (i.e., contains multiple parts like text and attachments). |\n",
    "| `From`               | Full `From` field in raw format, often includes display name and email address. |\n",
    "| `From_name`          | Display name of the sender, parsed from the `From` field. |\n",
    "| `From_email`         | Email address of the sender. |\n",
    "| `From_email_domain`  | Domain portion of the sender’s email address (after `@`). |\n",
    "| `To`                 | Full `To` field in raw format, possibly containing multiple addresses. |\n",
    "| `To_name`            | Display name(s) in the `To` field, if available. |\n",
    "| `To_email`           | Parsed email address from the `To` field. |\n",
    "| `To_email_domain`    | Domain portion of the recipient’s email address. |\n",
    "| `Subject`            | Subject line of the email. |\n",
    "| `Content_types`      | List of MIME content types present in the email (e.g., `text/plain`, `text/html`, `application/pdf`). |\n",
    "| `text_plain`         | Plain text content extracted from the email body. |\n",
    "| `text_clean`         | Preprocessed plain text (cleaned version of `text_plain`), typically lowercased and stripped of formatting. |\n",
    "| `text_html`          | HTML content extracted from the email body, if present. |\n",
    "| `text_preprocessed`  | Tokenized and normalized version of the email body text for modeling (could be used for NLP). |\n",
    "| `text_hyperlinks`    | List of hyperlinks or `mailto:` links found in the body content. |\n",
    "| `attachment_types`   | List of MIME types of any attachments in the email (e.g., `[application/pdf]`). |\n",
    "| `target_1`           | Binary label for classification (e.g., `malicious` vs `benign`). |\n",
    "| `target_2`           | More specific label for intent (e.g., `phishing`, `legitimate`). |\n",
    "| `target_3`           | Granular label describing type/source of the email (e.g., `self_phishing`, `third_party`, `legitimate_email`). |\n"
   ]
  },
  {
   "cell_type": "markdown",
   "id": "6b4a20d2",
   "metadata": {},
   "source": [
    "---"
   ]
  },
  {
   "cell_type": "markdown",
   "id": "fb258fc9",
   "metadata": {},
   "source": [
    "# is_multipart"
   ]
  },
  {
   "cell_type": "code",
   "execution_count": null,
   "id": "9f1601b0",
   "metadata": {},
   "outputs": [],
   "source": [
    "counts = data['is_multipart'].value_counts(dropna=False).sort_index()\n",
    "\n",
    "ax = counts.plot(kind='bar', figsize=(6, 4), color=['steelblue', 'orange'])\n",
    "plt.title(\"is_multipart distribution\")\n",
    "plt.xlabel(\"is_multipart\")\n",
    "plt.ylabel(\"Count\")\n",
    "plt.grid(True, linestyle='--', alpha=0.5)\n",
    "plt.xticks(rotation=0)"
   ]
  },
  {
   "cell_type": "code",
   "execution_count": null,
   "id": "5af86f33",
   "metadata": {},
   "outputs": [],
   "source": [
    "target_dist = data.groupby('is_multipart')['target_1'].value_counts(normalize=False).unstack().fillna(0)\n",
    "\n",
    "target_percent = target_dist.div(target_dist.sum(axis=1), axis=0).round(3) * 100 \n",
    "\n",
    "ax = target_dist.plot(kind='bar', stacked=True, figsize=(8, 5), colormap='Set2')\n",
    "plt.title(\"target_1 Distribution by is_multipart\")\n",
    "plt.xlabel(\"is_multipart\")\n",
    "plt.ylabel(\"Count\")\n",
    "plt.xticks(rotation=0)\n",
    "plt.grid(axis='y', linestyle='--', alpha=0.5)\n",
    "plt.legend(title='target_1')\n",
    "\n",
    "for i in range(target_dist.shape[0]):\n",
    "    total = target_dist.iloc[i].sum()\n",
    "    cum = 0\n",
    "    for j, val in enumerate(target_dist.iloc[i]):\n",
    "        y = cum + val / 2\n",
    "        pct = target_percent.iloc[i, j]\n",
    "        ax.text(i, y, f\"{pct:.1f}%\", ha='center', va='center', fontsize=9)\n",
    "        cum += val\n",
    "\n",
    "plt.tight_layout()\n",
    "plt.show()\n"
   ]
  },
  {
   "cell_type": "code",
   "execution_count": null,
   "id": "2c1b5fca",
   "metadata": {},
   "outputs": [],
   "source": [
    "def plot_stacked_target_by_is_multipart(target_col):\n",
    "    target_dist = data.groupby('is_multipart')[target_col].value_counts(normalize=False).unstack().fillna(0)\n",
    "    target_percent = target_dist.div(target_dist.sum(axis=1), axis=0).round(3) * 100\n",
    "\n",
    "    fig, ax = plt.subplots(figsize=(10, 6))\n",
    "    target_dist.plot(kind='bar', stacked=True, ax=ax, colormap='tab20')\n",
    "\n",
    "    ax.set_title(f\"{target_col} Distribution by is_multipart\")\n",
    "    ax.set_xlabel(\"is_multipart\")\n",
    "    ax.set_ylabel(\"Count\")\n",
    "    ax.grid(axis='y', linestyle='--', alpha=0.5)\n",
    "    ax.set_xticklabels(target_dist.index, rotation=0)\n",
    "\n",
    "    for i in range(target_dist.shape[0]):\n",
    "        total = target_dist.iloc[i].sum()\n",
    "        cum = 0\n",
    "        for j, val in enumerate(target_dist.iloc[i]):\n",
    "            y = cum + val / 2\n",
    "            pct = target_percent.iloc[i, j]\n",
    "            if pct > 1:\n",
    "                ax.text(i, y, f\"{pct:.1f}%\", ha='center', va='center', fontsize=9)\n",
    "            cum += val\n",
    "\n",
    "    ax.legend(title=target_col, bbox_to_anchor=(1.02, 1), loc='upper left', borderaxespad=0.)\n",
    "    plt.tight_layout()\n",
    "    plt.show()\n",
    "\n",
    "plot_stacked_target_by_is_multipart(\"target_2\")\n",
    "\n"
   ]
  },
  {
   "cell_type": "markdown",
   "id": "58c49520",
   "metadata": {},
   "source": [
    "# From and To"
   ]
  },
  {
   "cell_type": "code",
   "execution_count": null,
   "id": "d8713335",
   "metadata": {},
   "outputs": [],
   "source": [
    "email_cols = [\n",
    "    'From', 'From_name', 'From_email', 'From_email_domain',\n",
    "    'To', 'To_name', 'To_email', 'To_email_domain'\n",
    "]\n",
    "\n",
    "email_col_summary = []\n",
    "\n",
    "for col in email_cols:\n",
    "    nunique = data[col].nunique(dropna=False)\n",
    "    missing = data[col].isnull().sum()\n",
    "    email_col_summary.append({\n",
    "        \"Column\": col,\n",
    "        \"Unique Values\": nunique,\n",
    "        \"Missing Values\": missing\n",
    "    })\n",
    "\n",
    "email_summary_df = pd.DataFrame(email_col_summary)\n",
    "email_summary_df"
   ]
  },
  {
   "cell_type": "code",
   "execution_count": null,
   "id": "3b6261d5",
   "metadata": {},
   "outputs": [],
   "source": [
    "columns = [\n",
    "    'From', 'From_name', 'From_email', 'From_email_domain',\n",
    "    'To', 'To_name', 'To_email', 'To_email_domain'\n",
    "]\n",
    "\n",
    "for col in columns:\n",
    "    print(f\"Top 10 values in column: {col}\")\n",
    "    print(data[col].value_counts(dropna=False).head(10).to_frame('Count'))\n"
   ]
  },
  {
   "cell_type": "markdown",
   "id": "6a145933",
   "metadata": {},
   "source": [
    "From_email_domain vs target_1"
   ]
  },
  {
   "cell_type": "code",
   "execution_count": null,
   "id": "0be9aa49",
   "metadata": {},
   "outputs": [],
   "source": [
    "top_domains = data['From_email_domain'].value_counts().nlargest(20).index\n",
    "\n",
    "df_top = data[data['From_email_domain'].isin(top_domains)]\n",
    "\n",
    "count_table = pd.crosstab(df_top['From_email_domain'], df_top['target_1'])\n",
    "\n",
    "count_table.plot(kind='bar', stacked=True, figsize=(12,6))\n",
    "plt.title('Top 20 From_email_domain vs target_1 Counts')\n",
    "plt.xlabel('From_email_domain')\n",
    "plt.ylabel('Count')\n",
    "plt.xticks(rotation=45, ha='right')\n",
    "plt.legend(title='target_1')\n",
    "plt.tight_layout()\n",
    "plt.show()"
   ]
  },
  {
   "cell_type": "markdown",
   "id": "51a364a7",
   "metadata": {},
   "source": [
    "From_email_domain vs target_2"
   ]
  },
  {
   "cell_type": "code",
   "execution_count": null,
   "id": "3b9d877f",
   "metadata": {},
   "outputs": [],
   "source": [
    "top_domains = data['From_email_domain'].value_counts().nlargest(20).index\n",
    "\n",
    "df_top = data[data['From_email_domain'].isin(top_domains)]\n",
    "\n",
    "count_table = pd.crosstab(df_top['From_email_domain'], df_top['target_2'])\n",
    "\n",
    "count_table.plot(kind='bar', stacked=True, figsize=(12,6))\n",
    "plt.title('Top 20 From_email_domain vs target_2 Counts')\n",
    "plt.xlabel('From_email_domain')\n",
    "plt.ylabel('Count')\n",
    "plt.xticks(rotation=45, ha='right')\n",
    "plt.legend(title='target_2')\n",
    "plt.tight_layout()\n",
    "plt.show()\n"
   ]
  },
  {
   "cell_type": "markdown",
   "id": "6c84bb7e",
   "metadata": {},
   "source": [
    "To_email_domain vs target_1"
   ]
  },
  {
   "cell_type": "code",
   "execution_count": null,
   "id": "dcf8d9a8",
   "metadata": {},
   "outputs": [],
   "source": [
    "top_domains = data['To_email_domain'].value_counts().nlargest(20).index\n",
    "\n",
    "df_top = data[data['To_email_domain'].isin(top_domains)]\n",
    "\n",
    "count_table = pd.crosstab(df_top['To_email_domain'], df_top['target_1'])\n",
    "\n",
    "count_table.plot(kind='bar', stacked=True, figsize=(12,6))\n",
    "plt.title('Top 20 To_email_domain vs target_1 Counts')\n",
    "plt.xlabel('To_email_domain')\n",
    "plt.ylabel('Count')\n",
    "plt.xticks(rotation=45, ha='right')\n",
    "plt.legend(title='target_1')\n",
    "plt.tight_layout()\n",
    "plt.show()"
   ]
  },
  {
   "cell_type": "markdown",
   "id": "6b5ccf0c",
   "metadata": {},
   "source": [
    "To_email_domain vs target_2"
   ]
  },
  {
   "cell_type": "code",
   "execution_count": null,
   "id": "4edecc8b",
   "metadata": {},
   "outputs": [],
   "source": [
    "top_domains = data['To_email_domain'].value_counts().nlargest(20).index\n",
    "\n",
    "df_top = data[data['To_email_domain'].isin(top_domains)]\n",
    "\n",
    "count_table = pd.crosstab(df_top['To_email_domain'], df_top['target_2'])\n",
    "\n",
    "count_table.plot(kind='bar', stacked=True, figsize=(12,6))\n",
    "plt.title('Top 20 To_email_domain vs target_2 Counts')\n",
    "plt.xlabel('To_email_domain')\n",
    "plt.ylabel('Count')\n",
    "plt.xticks(rotation=45, ha='right')\n",
    "plt.legend(title='target_2')\n",
    "plt.tight_layout()\n",
    "plt.show()"
   ]
  },
  {
   "cell_type": "markdown",
   "id": "a70a10c2",
   "metadata": {},
   "source": [
    "# Subject"
   ]
  },
  {
   "cell_type": "code",
   "execution_count": null,
   "id": "4d473c9b",
   "metadata": {},
   "outputs": [],
   "source": [
    "subject_missing = data['Subject'].isnull().sum()\n",
    "subject_unique = data['Subject'].nunique(dropna=False)\n",
    "top_subjects = data['Subject'].value_counts(dropna=False).head(15)\n",
    "top_subjects"
   ]
  },
  {
   "cell_type": "code",
   "execution_count": null,
   "id": "cdd15d9e",
   "metadata": {},
   "outputs": [],
   "source": [
    "top_subjects = data['Subject'].value_counts().head(15).index.tolist()\n",
    "\n",
    "df_top_subjects = data[data['Subject'].isin(top_subjects)]\n",
    "\n",
    "subject_target_crosstab = pd.crosstab(df_top_subjects['Subject'], df_top_subjects['target_1'])\n",
    "\n",
    "subject_target_crosstab.plot(kind='barh', stacked=True, figsize=(10, 7), colormap='Set2')\n",
    "plt.title(\"Top 15 Subjects vs target_1\")\n",
    "plt.xlabel(\"Email Count\")\n",
    "plt.ylabel(\"Subject\")\n",
    "plt.tight_layout()\n",
    "plt.show()"
   ]
  },
  {
   "cell_type": "markdown",
   "id": "d6ff4de0",
   "metadata": {},
   "source": [
    "# Received"
   ]
  },
  {
   "cell_type": "code",
   "execution_count": null,
   "id": "9192069e",
   "metadata": {},
   "outputs": [],
   "source": [
    "data['Received_str'] = data['Received'].apply(lambda x: '\\n'.join(x) if isinstance(x, list) else str(x))\n",
    "data[['Received_str']].head()\n"
   ]
  },
  {
   "cell_type": "markdown",
   "id": "1df9dd61",
   "metadata": {},
   "source": [
    "# Authentication-Results (spf_result,dkim_result,dmarc_result)"
   ]
  },
  {
   "cell_type": "code",
   "execution_count": null,
   "id": "8a07d106",
   "metadata": {},
   "outputs": [],
   "source": [
    "auth_null_count = data['Authentication-Results'].isnull().sum()\n",
    "auth_null_ratio = round(auth_null_count / len(data) * 100, 2)\n",
    "\n",
    "pd.DataFrame({\n",
    "    \"Metric\": [\"Missing Values\", \"Missing Ratio (%)\"],\n",
    "    \"Value\": [auth_null_count, f\"{auth_null_ratio}%\"]\n",
    "})"
   ]
  },
  {
   "cell_type": "code",
   "execution_count": null,
   "id": "fea6dfe9",
   "metadata": {},
   "outputs": [],
   "source": [
    "def extract_auth_result(field, method):\n",
    "    pattern = rf'{method}\\s*=\\s*(\\w+)'\n",
    "    if isinstance(field, str):\n",
    "        match = re.search(pattern, field, re.IGNORECASE)\n",
    "        return match.group(1).lower() if match else 'none'\n",
    "    return 'none'\n",
    "\n",
    "data['spf_result'] = data['Authentication-Results'].apply(lambda x: extract_auth_result(x, 'spf'))\n",
    "data['dkim_result'] = data['Authentication-Results'].apply(lambda x: extract_auth_result(x, 'dkim'))\n",
    "data['dmarc_result'] = data['Authentication-Results'].apply(lambda x: extract_auth_result(x, 'dmarc'))\n"
   ]
  },
  {
   "cell_type": "markdown",
   "id": "96c2daed",
   "metadata": {},
   "source": [
    "vs target_1"
   ]
  },
  {
   "cell_type": "code",
   "execution_count": null,
   "id": "6e57926a",
   "metadata": {},
   "outputs": [],
   "source": [
    "for col in ['spf_result', 'dkim_result', 'dmarc_result']:\n",
    "    plt.figure(figsize=(6,4))\n",
    "    sns.countplot(x=col, hue='target_1', data=data, order=data[col].value_counts().index)\n",
    "    plt.title(f\"{col} vs target_1\")\n",
    "    plt.xlabel(col)\n",
    "    plt.ylabel(\"Count\")\n",
    "    plt.legend(title=\"target_1\")\n",
    "    plt.tight_layout()\n",
    "    plt.show()\n"
   ]
  },
  {
   "cell_type": "markdown",
   "id": "da555b83",
   "metadata": {},
   "source": [
    "vs target_2"
   ]
  },
  {
   "cell_type": "code",
   "execution_count": null,
   "id": "a6413398",
   "metadata": {},
   "outputs": [],
   "source": [
    "for col in ['spf_result', 'dkim_result', 'dmarc_result']:\n",
    "    plt.figure(figsize=(6,4))\n",
    "    sns.countplot(x=col, hue='target_2', data=data, order=data[col].value_counts().index)\n",
    "    plt.title(f\"{col} vs target_2\")\n",
    "    plt.xlabel(col)\n",
    "    plt.ylabel(\"Count\")\n",
    "    plt.legend(title=\"target_2\")\n",
    "    plt.tight_layout()\n",
    "    plt.show()"
   ]
  },
  {
   "cell_type": "markdown",
   "id": "0d32d5e0",
   "metadata": {},
   "source": [
    "# Return-Path"
   ]
  },
  {
   "cell_type": "code",
   "execution_count": null,
   "id": "ea8db652",
   "metadata": {},
   "outputs": [],
   "source": [
    "print(data['Return-Path'])\n",
    "data['return_path_missing'] = data['Return-Path'].isnull()"
   ]
  },
  {
   "cell_type": "code",
   "execution_count": null,
   "id": "ea8db652",
   "metadata": {},
   "outputs": [],
   "source": [
    "return_path_null_count = data['Return-Path'].isnull().sum()\n",
    "return_path_null_ratio = round(return_path_null_count / len(data) * 100, 2)\n",
    "\n",
    "pd.DataFrame({\n",
    "    \"Metric\": [\"Missing Return-Path Count\", \"Missing Ratio (%)\"],\n",
    "    \"Value\": [return_path_null_count, f\"{return_path_null_ratio}%\"]\n",
    "})\n"
   ]
  },
  {
   "cell_type": "code",
   "execution_count": null,
   "id": "40834476",
   "metadata": {},
   "outputs": [],
   "source": [
    "return_path_counts = data['Return-Path'].value_counts(dropna=False)\n",
    "\n",
    "return_path_counts.head(10)\n"
   ]
  },
  {
   "cell_type": "markdown",
   "id": "70526da7",
   "metadata": {},
   "source": [
    "## Return_path match From_email?"
   ]
  },
  {
   "cell_type": "code",
   "execution_count": null,
   "id": "ef084557",
   "metadata": {},
   "outputs": [],
   "source": [
    "def extract_domain(email):\n",
    "    if isinstance(email, str) and '@' in email:\n",
    "        return email.strip().split('@')[-1].lower()\n",
    "    return None\n",
    "\n",
    "data['return_path_domain'] = data['Return-Path'].apply(extract_domain)\n",
    "data['return_path_match'] = data['return_path_domain'] == data['From_email_domain']\n",
    "data['return_path_match'].value_counts(dropna=False)"
   ]
  },
  {
   "cell_type": "code",
   "execution_count": null,
   "id": "ef084557",
   "metadata": {},
   "outputs": [],
   "source": [
    "plt.figure(figsize=(6, 4))\n",
    "sns.countplot(x='return_path_match', hue='target_1', data=data)\n",
    "plt.title(\"Return-Path Domain Matches From_email Domain?\")\n",
    "plt.xlabel(\"Match\")\n",
    "plt.ylabel(\"Email Count\")\n",
    "plt.tight_layout()\n",
    "plt.show()\n"
   ]
  },
  {
   "cell_type": "markdown",
   "id": "7c9cd6f6",
   "metadata": {},
   "source": [
    "# Content-Language"
   ]
  },
  {
   "cell_type": "code",
   "execution_count": null,
   "id": "a9849aca",
   "metadata": {},
   "outputs": [],
   "source": [
    "data['Content-Language'].value_counts(dropna=False)\n"
   ]
  },
  {
   "cell_type": "code",
   "execution_count": null,
   "id": "ab606a18",
   "metadata": {},
   "outputs": [],
   "source": [
    "top_langs = data['Content-Language'].value_counts().head(8).index\n",
    "\n",
    "filtered = data[data['Content-Language'].isin(top_langs)]\n",
    "\n",
    "plt.figure(figsize=(10, 5))\n",
    "sns.countplot(x='Content-Language', hue='target_1', data=filtered)\n",
    "plt.title(\"Top 8 Content-Language vs target_1\")\n",
    "plt.xlabel(\"Content-Language\")\n",
    "plt.ylabel(\"Count\")\n",
    "plt.legend(title='target_1')\n",
    "plt.xticks(rotation=45)\n",
    "plt.tight_layout()\n",
    "plt.show()\n"
   ]
  },
  {
   "cell_type": "code",
   "execution_count": null,
   "id": "5b7bf41a",
   "metadata": {},
   "outputs": [],
   "source": [
    "top_langs = data['Content-Language'].value_counts().head(8).index\n",
    "\n",
    "filtered = data[data['Content-Language'].isin(top_langs)]\n",
    "\n",
    "plt.figure(figsize=(10, 5))\n",
    "sns.countplot(x='Content-Language', hue='target_2', data=filtered)\n",
    "plt.title(\"Top 8 Content-Language vs target_2\")\n",
    "plt.xlabel(\"Content-Language\")\n",
    "plt.ylabel(\"Count\")\n",
    "plt.legend(title='target_2')\n",
    "plt.xticks(rotation=45)\n",
    "plt.tight_layout()\n",
    "plt.show()\n"
   ]
  },
  {
   "cell_type": "markdown",
   "id": "c7bf54b2",
   "metadata": {},
   "source": [
    "# Reply"
   ]
  },
  {
   "cell_type": "code",
   "execution_count": null,
   "id": "6163a15c",
   "metadata": {},
   "outputs": [],
   "source": [
    "data['Reply-To_domain'].value_counts(dropna=False)"
   ]
  },
  {
   "cell_type": "code",
   "execution_count": null,
   "id": "9b032a44",
   "metadata": {},
   "outputs": [],
   "source": [
    "top_domains = data['Reply-To_domain'].value_counts().dropna().head(10).index\n",
    "\n",
    "filtered = data[data['Reply-To_domain'].isin(top_domains)]\n",
    "\n",
    "plt.figure(figsize=(12, 6))\n",
    "sns.countplot(data=filtered, x='Reply-To_domain', hue='target_1')\n",
    "plt.title(\"Top Reply-To Domains vs target_1\")\n",
    "plt.xlabel(\"Reply-To Domain\")\n",
    "plt.ylabel(\"Count\")\n",
    "plt.xticks(rotation=45, ha='right')\n",
    "plt.legend(title=\"target_1\")\n",
    "plt.tight_layout()\n",
    "plt.show()\n"
   ]
  },
  {
   "cell_type": "code",
   "execution_count": null,
   "id": "ddb790f8",
   "metadata": {},
   "outputs": [],
   "source": [
    "top_domains = data['Reply-To_domain'].value_counts().dropna().head(10).index\n",
    "\n",
    "filtered = data[data['Reply-To_domain'].isin(top_domains)]\n",
    "\n",
    "plt.figure(figsize=(12, 6))\n",
    "sns.countplot(data=filtered, x='Reply-To_domain', hue='target_2')\n",
    "plt.title(\"Top Reply-To Domains vs target_2\")\n",
    "plt.xlabel(\"Reply-To Domain\")\n",
    "plt.ylabel(\"Count\")\n",
    "plt.xticks(rotation=45, ha='right')\n",
    "plt.legend(title=\"target_2\")\n",
    "plt.tight_layout()\n",
    "plt.show()\n"
   ]
  },
  {
   "cell_type": "markdown",
   "id": "526a2038",
   "metadata": {},
   "source": [
    "# Content-types"
   ]
  },
  {
   "cell_type": "code",
   "execution_count": null,
   "id": "9aab72e7",
   "metadata": {},
   "outputs": [],
   "source": [
    "print(data['Content_types'])"
   ]
  },
  {
   "cell_type": "code",
   "execution_count": null,
   "id": "fb650c8a",
   "metadata": {},
   "outputs": [],
   "source": [
    "exploded = data.explode('Content_types')\n",
    "\n",
    "exploded_non_null = exploded.dropna(subset=['Content_types'])\n",
    "\n",
    "type_counts = exploded_non_null['Content_types'].value_counts()\n",
    "type_counts.head(10)\n"
   ]
  },
  {
   "cell_type": "code",
   "execution_count": null,
   "id": "fb626f48",
   "metadata": {},
   "outputs": [],
   "source": [
    "null_count = data['Content_types'].isnull().sum()\n",
    "null_ratio = round(null_count / len(data) * 100, 2)\n",
    "\n",
    "print(f\"Missing count: {null_count}\")\n",
    "print(f\"Missing ratio: {null_ratio}%\")\n"
   ]
  },
  {
   "cell_type": "code",
   "execution_count": null,
   "id": "cd03b6ac",
   "metadata": {},
   "outputs": [],
   "source": [
    "data['has_pdf'] = data['Content_types'].apply(\n",
    "    lambda x: 'application/pdf' in x if isinstance(x, list) else False\n",
    ")\n",
    "\n",
    "plt.figure(figsize=(6, 4))\n",
    "sns.countplot(x='has_pdf', hue='target_1', data=data)\n",
    "plt.title(\"Presence of application/pdf vs target_1\")\n",
    "plt.xlabel(\"Contains application/pdf?\")\n",
    "plt.ylabel(\"Count\")\n",
    "plt.legend(title=\"target_1\")\n",
    "plt.tight_layout()\n",
    "plt.show()\n"
   ]
  },
  {
   "cell_type": "code",
   "execution_count": null,
   "id": "c9b40e69",
   "metadata": {},
   "outputs": [],
   "source": [
    "plt.figure(figsize=(6, 4))\n",
    "sns.countplot(x='has_pdf', hue='target_2', data=data)\n",
    "plt.title(\"Presence of application/pdf vs target_2\")\n",
    "plt.xlabel(\"Contains application/pdf?\")\n",
    "plt.ylabel(\"Count\")\n",
    "plt.legend(title=\"target_2\")\n",
    "plt.tight_layout()\n",
    "plt.show()"
   ]
  },
  {
   "cell_type": "markdown",
   "id": "06aa5139",
   "metadata": {},
   "source": [
    "# attachment_types"
   ]
  },
  {
   "cell_type": "code",
   "execution_count": null,
   "id": "ef93577b",
   "metadata": {},
   "outputs": [],
   "source": [
    "print(data['attachment_types'])"
   ]
  },
  {
   "cell_type": "code",
   "execution_count": null,
   "id": "7a1ec21c",
   "metadata": {},
   "outputs": [],
   "source": [
    "exploded_attach = data.explode('attachment_types')\n",
    "\n",
    "exploded_attach = exploded_attach[exploded_attach['attachment_types'].notna() & (exploded_attach['attachment_types'] != '')]\n",
    "\n",
    "attachment_counts = exploded_attach['attachment_types'].value_counts()\n",
    "attachment_counts.head(10)\n"
   ]
  },
  {
   "cell_type": "markdown",
   "id": "afc6dc2c",
   "metadata": {},
   "source": [
    "---"
   ]
  },
  {
   "cell_type": "code",
   "execution_count": null,
   "id": "392f11e6",
   "metadata": {},
   "outputs": [],
   "source": [
    "data = data[data['target_3'] != 'self_phishing']"
   ]
  },
  {
   "cell_type": "code",
   "execution_count": null,
   "id": "13650b23",
   "metadata": {},
   "outputs": [],
   "source": [
    "counts = data['target_1'].value_counts(dropna=False).sort_index()\n",
    "\n",
    "ax = counts.plot(kind='bar', figsize=(6, 4), color=['#1f77b4','#ff7f0e'])\n",
    "plt.title(\"target distribution\")\n",
    "plt.xlabel(\"target_1\")\n",
    "plt.ylabel(\"Count\")\n",
    "plt.xticks(rotation=0)"
   ]
  },
  {
   "cell_type": "code",
   "execution_count": null,
   "id": "e1055ecb",
   "metadata": {},
   "outputs": [],
   "source": [
    "import pandas as pd\n",
    "import matplotlib.pyplot as plt\n",
    "\n",
    "counts = (\n",
    "    data\n",
    "    .groupby(['Content-Language', 'target_1'])\n",
    "    .size()\n",
    "    .reset_index(name='n')\n",
    ")\n",
    "\n",
    "wide = counts.pivot(\n",
    "    index='Content-Language',\n",
    "    columns='target_1',\n",
    "    values='n'\n",
    ").fillna(0)\n",
    "\n",
    "wide['total'] = wide.sum(axis=1)\n",
    "wide = wide.sort_values(by='malicious', ascending=False)\n",
    "\n",
    "N = 10\n",
    "topN = wide.head(N).drop(columns='total')\n",
    "\n",
    "plt.figure(figsize=(6, 4))\n",
    "topN.plot(\n",
    "    kind='bar',\n",
    "    color=['#1f77b4','#ff7f0e'],\n",
    "    width=0.8,\n",
    "    ax=plt.gca()\n",
    ")\n",
    "\n",
    "plt.title(f\"Top {N} Content-Language vs target_1\", fontsize=14)\n",
    "plt.xlabel(\"Content-Language\", fontsize=12)\n",
    "plt.ylabel(\"Email Count\", fontsize=12)\n",
    "plt.xticks(rotation=45, ha='right')\n",
    "plt.legend(title='target_1', fontsize=10, title_fontsize=12, loc='upper right')\n",
    "plt.tight_layout()\n",
    "plt.show()\n"
   ]
  },
  {
   "cell_type": "code",
   "execution_count": null,
   "id": "9d993289",
   "metadata": {},
   "outputs": [],
   "source": [
    "for col in ['spf_result', 'dkim_result']:\n",
    "    plt.figure(figsize=(6,4))\n",
    "    sns.countplot(\n",
    "        x=col,\n",
    "        hue='target_1',\n",
    "        data=data,\n",
    "        order=data[col].value_counts().index,\n",
    "        hue_order=['benign','malicious'],\n",
    "        palette={'benign':'#ff7f0e',\n",
    "                 'malicious':'#1f77b4'}\n",
    "    )\n",
    "    plt.title(f\"{col} vs target_1\")\n",
    "    plt.xlabel(col)\n",
    "    plt.ylabel(\"Count\")\n",
    "    plt.legend(title='target_1', loc='upper right')\n",
    "    plt.tight_layout()\n",
    "    plt.show()\n"
   ]
  },
  {
   "cell_type": "code",
   "execution_count": null,
   "id": "ceaa64f4",
   "metadata": {},
   "outputs": [],
   "source": [
    "fig, ax = plt.subplots(figsize=(14, 6))\n",
    "topN.plot(\n",
    "    kind='bar',\n",
    "    stacked=False,\n",
    "    color=['#1f77b4', '#ff7f0e'],\n",
    "    width=0.8,\n",
    "    ax=ax\n",
    ")\n",
    "\n",
    "ax.set_title(\"Top 20 From_email_domain: benign vs malicious\", pad=12)\n",
    "ax.set_xlabel(\"From_email_domain\")\n",
    "ax.set_ylabel(\"Count\")\n",
    "\n",
    "# Rotate and align\n",
    "ax.tick_params(axis='x', labelrotation=45)\n",
    "ax.set_xticklabels(ax.get_xticklabels(), ha='right')\n",
    "\n",
    "ax.legend(\n",
    "    title='target_1',\n",
    "    loc='upper left',\n",
    "    bbox_to_anchor=(1.02, 1),\n",
    "    borderaxespad=0\n",
    ")\n",
    "\n",
    "plt.subplots_adjust(bottom=0.25, right=0.8)\n",
    "plt.tight_layout()\n",
    "plt.show()\n"
   ]
  }
 ],
 "metadata": {
  "kernelspec": {
   "display_name": "dev-xuci",
   "language": "python",
   "name": "python3"
  },
  "language_info": {
   "codemirror_mode": {
    "name": "ipython",
    "version": 3
   },
   "file_extension": ".py",
   "mimetype": "text/x-python",
   "name": "python",
   "nbconvert_exporter": "python",
   "pygments_lexer": "ipython3",
   "version": "3.12.0"
  }
 },
 "nbformat": 4,
 "nbformat_minor": 5
}
