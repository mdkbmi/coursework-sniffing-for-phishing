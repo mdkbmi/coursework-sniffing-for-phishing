{
 "cells": [
  {
   "cell_type": "code",
   "execution_count": null,
   "id": "5e802ca0",
   "metadata": {},
   "outputs": [],
   "source": [
    "import pandas as pd\n",
    "import numpy as np\n",
    "from pathlib import Path\n",
    "\n",
    "from sklearn.model_selection import train_test_split, StratifiedKFold, GridSearchCV\n",
    "from sklearn.linear_model import LogisticRegression\n",
    "from sklearn.metrics import classification_report, confusion_matrix, f1_score, roc_auc_score, roc_curve, ConfusionMatrixDisplay\n",
    "from sklearn.feature_extraction.text import TfidfVectorizer\n",
    "from sklearn.preprocessing import StandardScaler\n",
    "\n",
    "import matplotlib.pyplot as plt\n",
    "import seaborn as sns\n",
    "import warnings\n",
    "warnings.filterwarnings('ignore')\n",
    "import os\n",
    "import sys\n",
    "import shap\n",
    "os.getcwd()"
   ]
  },
  {
   "cell_type": "markdown",
   "id": "c660e892",
   "metadata": {},
   "source": [
    "# Read in data"
   ]
  },
  {
   "cell_type": "code",
   "execution_count": null,
   "id": "fd455163",
   "metadata": {},
   "outputs": [],
   "source": [
    "df_raw_large = pd.read_parquet('../../../../dataset/sampled-dataset/raw/sample-large.parquet')\n",
    "df_pro_large=o_small = pd.read_parquet('../../../../dataset/sampled-dataset/processed/sample-large.parquet')\n",
    "df_large = df_raw_large.join(df_pro_large)\n",
    "df_large"
   ]
  },
  {
   "cell_type": "markdown",
   "id": "a0af56cc",
   "metadata": {},
   "source": [
    "# EDA"
   ]
  },
  {
   "cell_type": "code",
   "execution_count": null,
   "id": "42f6054a",
   "metadata": {},
   "outputs": [],
   "source": [
    "\n",
    "numerical_features = [\n",
    "    'routing_length', 'word_count', 'readable_proportion',\n",
    "    'whitespace_ratio', 'alphabet_proportion', 'grammar_error_rate',\n",
    "    'english_french_proportion', 'url_count'\n",
    "]\n",
    "categorical_features = [\n",
    "    'dkim_result', 'spf_result', 'dmarc_result', 'html_parsing_error'\n",
    "]\n",
    "binary_features = [\n",
    "    'is_multipart', 'attachments_present',\n",
    "    'dmarc_authentication_present', 'dkim_sender_domains_match',\n",
    "    'to_from_addresses_match', 'sender_email_spf_match',\n",
    "    'non_ascii_present', 'hidden_text_present',\n",
    "    'ip_addr_urls', 'http_urls_present', 'url_at_symbol',\n",
    "    'url_port_number', 'any_long_urls', 'url_multiple_subdomains'\n",
    "]\n",
    "\n",
    "target_col = 'target_1'\n",
    "\n",
    "model_features = numerical_features + categorical_features + binary_features\n",
    "X = df_large[model_features].copy()\n",
    "y = df_large[target_col].map({'benign': 0, 'malicious': 1}) "
   ]
  },
  {
   "cell_type": "markdown",
   "id": "a57133fd",
   "metadata": {},
   "source": [
    "# Numerical features distribution"
   ]
  },
  {
   "cell_type": "code",
   "execution_count": null,
   "id": "6709f040",
   "metadata": {},
   "outputs": [],
   "source": [
    "num_feats = len(numerical_features)\n",
    "cols = 4\n",
    "rows = (num_feats + cols - 1) // cols\n",
    "\n",
    "fig, axes = plt.subplots(rows, cols, figsize=(cols*4, rows*3))\n",
    "axes = axes.flatten()\n",
    "for i, col in enumerate(numerical_features):\n",
    "    temp = X.copy()\n",
    "    temp['target'] = y\n",
    "    sns.histplot(\n",
    "        data=temp, x=col, hue='target', kde=True, bins=30, \n",
    "        stat='count', palette='Set1', alpha=0.6, ax=axes[i]\n",
    "    )\n",
    "    axes[i].set_title(f\"{col} by target\")\n",
    "for i in range(len(numerical_features), len(axes)):\n",
    "    fig.delaxes(axes[i])\n",
    "plt.tight_layout()\n",
    "plt.show()"
   ]
  },
  {
   "cell_type": "markdown",
   "id": "98fee02a",
   "metadata": {},
   "source": [
    "# categorical features distribution"
   ]
  },
  {
   "cell_type": "code",
   "execution_count": null,
   "id": "e257cbf9",
   "metadata": {},
   "outputs": [],
   "source": [
    "cat_feats = len(categorical_features)\n",
    "cols = 4\n",
    "rows = (cat_feats + cols - 1) // cols\n",
    "\n",
    "fig, axes = plt.subplots(rows, cols, figsize=(cols*4, rows*3))\n",
    "axes = axes.flatten()\n",
    "for i, col in enumerate(categorical_features):\n",
    "    temp = X.copy()\n",
    "    temp['target'] = y\n",
    "    sns.countplot(data=temp, x=col, hue='target', palette='Set1', ax=axes[i])\n",
    "    axes[i].set_title(f\"{col} by target\")\n",
    "    axes[i].legend(loc='upper right', fontsize='small')\n",
    "for i in range(len(categorical_features), len(axes)):\n",
    "    fig.delaxes(axes[i])\n",
    "plt.tight_layout()\n",
    "plt.show()\n"
   ]
  },
  {
   "cell_type": "markdown",
   "id": "afd305eb",
   "metadata": {},
   "source": [
    "# Binary features distribution"
   ]
  },
  {
   "cell_type": "code",
   "execution_count": null,
   "id": "c084f2e3",
   "metadata": {},
   "outputs": [],
   "source": [
    "bin_feats = len(binary_features)\n",
    "cols = 4\n",
    "rows = (bin_feats + cols - 1) // cols\n",
    "\n",
    "fig, axes = plt.subplots(rows, cols, figsize=(cols*4, rows*3))\n",
    "axes = axes.flatten()\n",
    "for i, col in enumerate(binary_features):\n",
    "    temp = X.copy()\n",
    "    temp['target'] = y\n",
    "    sns.countplot(data=temp, x=col, hue='target', palette='Set1', ax=axes[i])\n",
    "    axes[i].set_title(f\"{col} by target\")\n",
    "    axes[i].legend(loc='upper right', fontsize='small')\n",
    "for i in range(len(binary_features), len(axes)):\n",
    "    fig.delaxes(axes[i])\n",
    "plt.tight_layout()\n",
    "plt.show()"
   ]
  },
  {
   "cell_type": "code",
   "execution_count": null,
   "id": "241e62cf",
   "metadata": {},
   "outputs": [],
   "source": [
    "# NA check\n",
    "print(X.isnull().sum())\n",
    "\n",
    "# feature statistics\n",
    "display(X.describe())\n",
    "print(y.value_counts(normalize=True))"
   ]
  },
  {
   "cell_type": "code",
   "execution_count": null,
   "id": "c1c2eee0",
   "metadata": {},
   "outputs": [],
   "source": [
    "corr = X[numerical_features].corr()\n",
    "plt.figure(figsize=(8,5))\n",
    "sns.heatmap(corr, annot=True, cmap='coolwarm')\n",
    "plt.title(\"Numerical Feature Correlation\")\n",
    "plt.show()\n"
   ]
  },
  {
   "cell_type": "markdown",
   "id": "45d11960",
   "metadata": {},
   "source": [
    "# Model"
   ]
  },
  {
   "cell_type": "code",
   "execution_count": null,
   "id": "2b5f5d7f",
   "metadata": {},
   "outputs": [],
   "source": [
    "X_train, X_val, y_train, y_val = train_test_split(\n",
    "    X, y, test_size=0.2, stratify=y, random_state=42\n",
    ")\n"
   ]
  },
  {
   "cell_type": "code",
   "execution_count": null,
   "id": "1db17eed",
   "metadata": {},
   "outputs": [],
   "source": [
    "X_train = pd.get_dummies(X_train, columns=categorical_features, dummy_na=True)\n",
    "X_val = pd.get_dummies(X_val, columns=categorical_features, dummy_na=True)\n",
    "X_train, X_val = X_train.align(X_val, join='left', axis=1, fill_value=0)"
   ]
  },
  {
   "cell_type": "code",
   "execution_count": null,
   "id": "5fb5b4a6",
   "metadata": {},
   "outputs": [],
   "source": [
    "from sklearn.linear_model import LogisticRegression\n",
    "\n",
    "lr = LogisticRegression(max_iter=1000, class_weight='balanced', random_state=42)\n",
    "lr.fit(X_train, y_train)\n",
    "y_pred = lr.predict(X_val)\n",
    "y_prob = lr.predict_proba(X_val)[:, 1] "
   ]
  },
  {
   "cell_type": "code",
   "execution_count": null,
   "id": "45fd0943",
   "metadata": {},
   "outputs": [],
   "source": [
    "plt.hist(y_prob[y_val==0], bins=20, alpha=0.6, label='Benign')\n",
    "plt.hist(y_prob[y_val==1], bins=20, alpha=0.6, label='Malicious')\n",
    "plt.xlabel('Predicted Probability')\n",
    "plt.ylabel('Count')\n",
    "plt.title('Predicted Probabilities by Class')\n",
    "plt.legend()\n",
    "plt.show()\n",
    "\n"
   ]
  },
  {
   "cell_type": "code",
   "execution_count": null,
   "id": "28c63e91",
   "metadata": {},
   "outputs": [],
   "source": [
    "f1 = f1_score(y_val, y_pred, average='binary')\n",
    "print(\"F1-score:\", f1)\n",
    "\n",
    "cm = confusion_matrix(y_val, y_pred)\n",
    "TN, FP, FN, TP = cm.ravel()\n",
    "\n",
    "FPR = FP / (FP + TN) if (FP + TN) > 0 else 0\n",
    "print(\"False Positive Rate (FPR):\", FPR)"
   ]
  },
  {
   "cell_type": "code",
   "execution_count": null,
   "id": "b8d7fe05",
   "metadata": {},
   "outputs": [],
   "source": [
    "param_grid = {\n",
    "    'C': [0.01, 0.1, 1, 10, 100],\n",
    "    'penalty': ['l2', 'l1'],\n",
    "    'solver': ['liblinear', 'saga']\n",
    "}"
   ]
  },
  {
   "cell_type": "code",
   "execution_count": null,
   "id": "16138ba7",
   "metadata": {},
   "outputs": [],
   "source": [
    "lr_grid = LogisticRegression(class_weight='balanced', max_iter=5000, random_state=42)\n",
    "grid_search = GridSearchCV(\n",
    "    lr_grid, param_grid, cv=5, scoring='f1', n_jobs=-1\n",
    ")\n",
    "grid_search.fit(X_train, y_train)"
   ]
  },
  {
   "cell_type": "code",
   "execution_count": null,
   "id": "267d068b",
   "metadata": {},
   "outputs": [],
   "source": [
    "print(\"Best Params:\", grid_search.best_params_)\n",
    "best_lr = grid_search.best_estimator_\n",
    "y_pred = best_lr.predict(X_val)\n",
    "y_prob = best_lr.predict_proba(X_val)[:, 1]\n",
    "print(classification_report(y_val, y_pred))\n",
    "print('Confusion Matrix:\\n', confusion_matrix(y_val, y_pred))\n",
    "print('ROC-AUC:', roc_auc_score(y_val, y_prob))\n",
    "print('F1-score:', f1_score(y_val, y_pred))"
   ]
  },
  {
   "cell_type": "code",
   "execution_count": null,
   "id": "2da9a80e",
   "metadata": {},
   "outputs": [],
   "source": [
    "cm = confusion_matrix(y_val, y_pred)\n",
    "TN, FP, FN, TP = cm.ravel()\n",
    "fpr = FP / (FP + TN) if (FP + TN) > 0 else 0\n",
    "print('False Positive Rate (FPR):', fpr)"
   ]
  },
  {
   "cell_type": "code",
   "execution_count": null,
   "id": "0af26dd8",
   "metadata": {},
   "outputs": [],
   "source": [
    "thresholds = np.arange(0.01, 1, 0.01)\n",
    "f1s, fprs = [], []\n",
    "\n",
    "for t in thresholds:\n",
    "    y_pred_thr = (y_prob >= t).astype(int)\n",
    "    f1s.append(f1_score(y_val, y_pred_thr))\n",
    "    cm = confusion_matrix(y_val, y_pred_thr)\n",
    "    tn, fp, fn, tp = cm.ravel()\n",
    "    fpr = fp / (fp + tn) if (fp + tn) > 0 else 0\n",
    "    fprs.append(fpr)\n",
    "\n",
    "plt.figure(figsize=(8,5))\n",
    "plt.plot(thresholds, f1s, label='F1-score')\n",
    "plt.plot(thresholds, fprs, label='FPR')\n",
    "plt.xlabel('Threshold')\n",
    "plt.ylabel('Score')\n",
    "plt.legend()\n",
    "plt.title('F1-score & FPR vs. Threshold')\n",
    "plt.show()"
   ]
  },
  {
   "cell_type": "code",
   "execution_count": null,
   "id": "0febe706",
   "metadata": {},
   "outputs": [],
   "source": [
    "fprs_arr = np.array(fprs)\n",
    "f1s_arr = np.array(f1s)\n",
    "thresholds_arr = np.array(thresholds)\n",
    "\n",
    "idx = np.argmin(np.abs(fprs_arr - 0.05))\n",
    "\n",
    "print(f\"Threshold at closest FPR=0.05: {thresholds_arr[idx]:.2f}\")\n",
    "print(f\"Actual FPR: {fprs_arr[idx]:.4f}\")\n",
    "print(f\"F1-score: {f1s_arr[idx]:.4f}\")"
   ]
  },
  {
   "cell_type": "code",
   "execution_count": null,
   "id": "f9308240",
   "metadata": {},
   "outputs": [],
   "source": [
    "fprs_arr = np.array(fprs)\n",
    "f1s_arr = np.array(f1s)\n",
    "thresholds_arr = np.array(thresholds)\n",
    "\n",
    "idx = np.argmin(np.abs(f1s_arr - 0.8))\n",
    "\n",
    "print(f\"Threshold at closest FPR=0.05: {thresholds_arr[idx]:.2f}\")\n",
    "print(f\"Actual FPR: {fprs_arr[idx]:.4f}\")\n",
    "print(f\"F1-score: {f1s_arr[idx]:.4f}\")"
   ]
  },
  {
   "cell_type": "markdown",
   "id": "2f88a1b5",
   "metadata": {},
   "source": [
    "# SHAP"
   ]
  },
  {
   "cell_type": "code",
   "execution_count": null,
   "id": "83d7b84d",
   "metadata": {},
   "outputs": [],
   "source": [
    "X_val = X_val.dropna(axis=1, how='all')\n",
    "X_train = X_train.dropna(axis=1, how='all')\n",
    "X_val = X_val.astype(np.float64)\n",
    "X_train = X_train.astype(np.float64)\n",
    "X_val.columns = X_val.columns.map(str)\n",
    "X_train.columns = X_train.columns.map(str)"
   ]
  },
  {
   "cell_type": "code",
   "execution_count": null,
   "id": "9652dbf5",
   "metadata": {},
   "outputs": [],
   "source": [
    "import shap\n",
    "\n",
    "explainer = shap.Explainer(best_lr, X_train)\n",
    "shap_values = explainer(X_val)\n",
    "\n",
    "shap.summary_plot(shap_values, X_val, plot_type='bar')\n",
    "\n",
    "shap.summary_plot(shap_values, X_val)"
   ]
  },
  {
   "cell_type": "code",
   "execution_count": null,
   "id": "51487de0",
   "metadata": {},
   "outputs": [],
   "source": [
    "coefs = pd.Series(best_lr.coef_.ravel(), index=X_train.columns)\n",
    "print(coefs.sort_values(ascending=False))\n"
   ]
  },
  {
   "cell_type": "code",
   "execution_count": null,
   "id": "35ffe3b2",
   "metadata": {},
   "outputs": [],
   "source": [
    "def summarize_features(df):\n",
    "    summary = []\n",
    "    for col in df.columns:\n",
    "        unique = df[col].nunique(dropna=False)\n",
    "        non_null = df[col].notnull().sum()\n",
    "        dtype = df[col].dtype\n",
    "        if unique == 2:\n",
    "            ftype = \"binary\"\n",
    "        elif unique < 20:\n",
    "            ftype = \"categorical\"\n",
    "        elif np.issubdtype(dtype, np.number):\n",
    "            ftype = \"numerical\"\n",
    "        else:\n",
    "            ftype = \"text/object\"\n",
    "        summary.append({\n",
    "            \"col\": col,\n",
    "            \"dtype\": dtype,\n",
    "            \"unique\": unique,\n",
    "            \"non_null\": non_null,\n",
    "            \"auto_type\": ftype,\n",
    "        })\n",
    "    return pd.DataFrame(summary).sort_values(by='auto_type')\n",
    "\n",
    "summary = summarize_features(df_pro_large)\n",
    "display(summary)"
   ]
  }
 ],
 "metadata": {
  "kernelspec": {
   "display_name": "dev-xuci",
   "language": "python",
   "name": "python3"
  },
  "language_info": {
   "codemirror_mode": {
    "name": "ipython",
    "version": 3
   },
   "file_extension": ".py",
   "mimetype": "text/x-python",
   "name": "python",
   "nbconvert_exporter": "python",
   "pygments_lexer": "ipython3",
   "version": "3.12.0"
  }
 },
 "nbformat": 4,
 "nbformat_minor": 5
}
