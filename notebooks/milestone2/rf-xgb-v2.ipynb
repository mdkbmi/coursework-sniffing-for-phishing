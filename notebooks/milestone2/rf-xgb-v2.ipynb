{
 "cells": [
  {
   "cell_type": "markdown",
   "id": "f5203657",
   "metadata": {},
   "source": [
    "# Libraries"
   ]
  },
  {
   "cell_type": "code",
   "execution_count": null,
   "id": "c7c1a60e",
   "metadata": {},
   "outputs": [],
   "source": [
    "import pandas as pd\n",
    "import numpy as np\n",
    "\n",
    "import sys\n",
    "import os\n",
    "username = os.environ.get('USER')\n",
    "sys.path.append(f'/data/workspace/{username}')\n",
    "\n",
    "sys.path.append(os.path.join(os.path.abspath(\"../../\"), \"src\"))\n",
    "from extract_header_features import *\n",
    "from extract_text_features import *\n",
    "from extract_url_features import *\n",
    "from extract_text_keywords import *\n",
    "\n",
    "from sklearn.model_selection import train_test_split\n",
    "from sklearn.preprocessing import LabelEncoder\n",
    "\n",
    "from sklearn.preprocessing import OneHotEncoder, OrdinalEncoder, StandardScaler\n",
    "from sklearn.pipeline import Pipeline, make_pipeline\n",
    "from sklearn.compose import ColumnTransformer, make_column_transformer\n",
    "from sklearn.ensemble import RandomForestClassifier\n",
    "from sklearn.impute import SimpleImputer\n",
    "from sklearn.feature_extraction.text import CountVectorizer\n",
    "from sklearn.model_selection import (\n",
    "    GridSearchCV,\n",
    "    RandomizedSearchCV,\n",
    "    cross_val_score,\n",
    "    cross_validate,\n",
    "    train_test_split,\n",
    ")\n",
    "\n",
    "from sklearn.preprocessing import FunctionTransformer\n",
    "\n",
    "from sklearn.feature_extraction.text import CountVectorizer, TfidfVectorizer\n",
    "from sklearn.compose import make_column_transformer\n",
    "\n",
    "from sklearn.metrics import confusion_matrix\n",
    "\n",
    "from sklearn.model_selection import RandomizedSearchCV\n",
    "from scipy.stats import expon, lognorm, loguniform, randint, uniform, norm, randint\n",
    "\n",
    "from sklearn.metrics import f1_score\n",
    "from sklearn.metrics import classification_report"
   ]
  },
  {
   "cell_type": "markdown",
   "id": "9802b7b5",
   "metadata": {},
   "source": [
    "# Reading in dataset"
   ]
  },
  {
   "cell_type": "code",
   "execution_count": null,
   "id": "3a4322a3",
   "metadata": {},
   "outputs": [],
   "source": [
    "# Full dataset\n",
    "original_df = pd.read_parquet('/data/workspace/dataset/full-dataset/raw/train.parquet')\n",
    "original_df"
   ]
  },
  {
   "cell_type": "code",
   "execution_count": null,
   "id": "9832486b",
   "metadata": {},
   "outputs": [],
   "source": [
    "# Full dataset\n",
    "input_df = pd.read_parquet('/data/workspace/dataset/full-dataset/processed/train.parquet')\n",
    "input_df"
   ]
  },
  {
   "cell_type": "code",
   "execution_count": null,
   "id": "53983df3",
   "metadata": {},
   "outputs": [],
   "source": [
    "# Join original_df with features_df and features_df_2\n",
    "combined_df = original_df.join(input_df)\n",
    "combined_df"
   ]
  },
  {
   "cell_type": "code",
   "execution_count": null,
   "id": "a62d0822",
   "metadata": {},
   "outputs": [],
   "source": [
    "# Filter out self-phishing emails\n",
    "combined_df_without_self_phishing = combined_df[combined_df['target_3'] != 'self_phishing'].copy()\n",
    "combined_df_without_self_phishing"
   ]
  },
  {
   "cell_type": "code",
   "execution_count": null,
   "id": "7807acf7",
   "metadata": {},
   "outputs": [],
   "source": [
    "# # Filter out columns that are related to the subject and body\n",
    "# filter_cols = ['Subject', 'text_preprocessed', 'target_1']\n",
    "# filtered_combined_df = combined_df.copy()\n",
    "# filtered_combined_df = combined_df[filter_cols]\n",
    "# filtered_combined_df\n"
   ]
  },
  {
   "cell_type": "code",
   "execution_count": null,
   "id": "35c78aee",
   "metadata": {},
   "outputs": [],
   "source": [
    "# filtered_combined_df['Subject'] = filtered_combined_df['Subject'].fillna('')\n",
    "# filtered_combined_df['subject_preprocessed'] = preprocess_text(filtered_combined_df['Subject'])"
   ]
  },
  {
   "cell_type": "code",
   "execution_count": null,
   "id": "be974409",
   "metadata": {},
   "outputs": [],
   "source": [
    "train_df, test_df = train_test_split(combined_df_without_self_phishing, test_size=0.3, random_state=42)"
   ]
  },
  {
   "cell_type": "code",
   "execution_count": null,
   "id": "3e8b59e9",
   "metadata": {},
   "outputs": [],
   "source": [
    "X_train = train_df.drop(columns=['target_1'])\n",
    "y_train = train_df['target_1']\n",
    "\n",
    "X_test = test_df.drop(columns=['target_1'])\n",
    "y_test = test_df['target_1']\n",
    "\n",
    "label_encoder = LabelEncoder()\n",
    "y_train_num = label_encoder.fit_transform(y_train)\n",
    "y_test_num = label_encoder.transform(y_test)"
   ]
  },
  {
   "cell_type": "code",
   "execution_count": null,
   "id": "50eb24af",
   "metadata": {},
   "outputs": [],
   "source": [
    "X_train"
   ]
  },
  {
   "cell_type": "markdown",
   "id": "b2177c50",
   "metadata": {},
   "source": [
    "# Preprocessor"
   ]
  },
  {
   "cell_type": "code",
   "execution_count": null,
   "id": "2bd04f95",
   "metadata": {},
   "outputs": [],
   "source": [
    "# numeric_feats = [\n",
    "#     \"routing_length\", \"html_parsing_error\", \"word_count\", \n",
    "#     \"readable_proportion\", \"whitespace_ratio\", \"alphabet_proportion\",\n",
    "#     \"grammar_error_rate\", \"english_french_proportion\",\n",
    "#     \"url_count\"\n",
    "# ]  # apply scaling\n",
    "\n",
    "# binary_feats = [\n",
    "#     \"is_multipart\",\n",
    "#     \"dmarc_authentication_present\", \"dkim_result\",\n",
    "#     \"spf_result\", \"dmarc_result\", \"dkim_sender_domains_match\",\n",
    "#     \"attachments_present\", \"to_from_addresses_match\", \"sender_email_spf_match\",\n",
    "#     \"non_ascii_present\", \"hidden_text_present\"\n",
    "#     #\"ip_addr_urls\", \"http_urls_present\", \"url_at_symbol\",\n",
    "#     #\"url_port_number\", \"any_long_urls\", \"url_multiple_subdomains\"\n",
    "#     ]\n",
    "\n",
    "# text_feats = [\n",
    "#     \"Content_types\" ,\n",
    "#     \"urls\",\n",
    "#     \"attachment_types\",\n",
    "#     \"Subject\",\n",
    "#     \"text_preprocessed\",\n",
    "#     ]\n",
    "\n",
    "# categorical_feats = [\n",
    "#     \"From_name\", \"From_email\", \"From_email_domain\", \n",
    "#     \"To_name\", \"To_email\", \"To_email_domain\",\n",
    "#     \"Content-Language\"\n",
    "#     ]  # apply one-hot encoding\n",
    "\n",
    "# passthrough_feats = [\"\"]  # do not apply any transformation\n",
    "\n",
    "# drop_feats = [\n",
    "#     \"From\",                         # Info extracted to From_name, From_email, From_email_domain\n",
    "#     \"To\",                           # Info extracted to To_name, To_email, To_email_domain\n",
    "#     \"Received\",                     # Info extracted to routing_length\n",
    "#     \"Authentication-Results\",       # Info extracted to dmarc_authentication_present, dkim_result, spf_result, dmarc_result\n",
    "#     \"received-spf\",                 # Info extracted to spf_result, sender_email_spf_match\n",
    "#     \"DKIM-Signature\",               # Info extracted to dkim_sender_domains_match\n",
    "#     \"Reply-To\",                     # Mostly missing, not useful\n",
    "#     \"Return-Path\",                  # Mostly missing, not useful\n",
    "#     \"text_plain\",                   \n",
    "#     \"text_clean\", \n",
    "#     \"text_html\", \n",
    "#     # \"attachment_types\",             # Info extracted to attachments_present\n",
    "#     # \"urls\",                         # Info extracted to url_count, http_urls_present, ip_addr_urls, url_at_symbol, url_port_number, any_long_urls, url_multiple_subdomains (not used yet)\n",
    "#     \"target_2\",                     # Level 2 target variable\n",
    "#     \"target_3\",                     # Level 3 target variable\n",
    "#     # \"Subject\",                      # To be used later\n",
    "#     # \"text_preprocessed\",            # To be used later\n",
    "#     # \"Content_types\"                 # To be used later\n",
    "# ]\n",
    "\n"
   ]
  },
  {
   "cell_type": "code",
   "execution_count": null,
   "id": "d1fa9621",
   "metadata": {},
   "outputs": [],
   "source": [
    "numeric_feats = [\n",
    "    \"routing_length\", \"html_parsing_error\", \"word_count\", \n",
    "    \"readable_proportion\", \"whitespace_ratio\", \"alphabet_proportion\",\n",
    "    \"grammar_error_rate\", \"english_french_proportion\",\n",
    "    \"url_count\"\n",
    "]  # apply scaling\n",
    "\n",
    "binary_feats = [\n",
    "    \"is_multipart\",\n",
    "    \"dmarc_authentication_present\", \"dkim_result\",\n",
    "    \"spf_result\", \"dmarc_result\", \"dkim_sender_domains_match\",\n",
    "    \"attachments_present\", \"to_from_addresses_match\", \"sender_email_spf_match\",\n",
    "    \"non_ascii_present\", \"hidden_text_present\"\n",
    "    #\"ip_addr_urls\", \"http_urls_present\", \"url_at_symbol\",\n",
    "    #\"url_port_number\", \"any_long_urls\", \"url_multiple_subdomains\"\n",
    "    ]\n",
    "\n",
    "text_feats = [\n",
    "    \"Content_types\" ,\n",
    "    \"urls\",\n",
    "    \"attachment_types\",\n",
    "    \"Subject\",\n",
    "    \"text_preprocessed\",\n",
    "    ]\n",
    "\n",
    "categorical_feats = [\n",
    "    \"From_name\", \"From_email\", \"From_email_domain\", \n",
    "    \"To_name\", \"To_email\", \"To_email_domain\",\n",
    "    \"Content-Language\"\n",
    "    ]  # apply one-hot encoding\n",
    "\n",
    "passthrough_feats = [\"\"]  # do not apply any transformation\n",
    "\n",
    "drop_feats = [\n",
    "    \"From\",                         # Info extracted to From_name, From_email, From_email_domain\n",
    "    \"To\",                           # Info extracted to To_name, To_email, To_email_domain\n",
    "    \"Received\",                     # Info extracted to routing_length\n",
    "    \"Authentication-Results\",       # Info extracted to dmarc_authentication_present, dkim_result, spf_result, dmarc_result\n",
    "    \"received-spf\",                 # Info extracted to spf_result, sender_email_spf_match\n",
    "    \"DKIM-Signature\",               # Info extracted to dkim_sender_domains_match\n",
    "    \"Reply-To\",                     # Mostly missing, not useful\n",
    "    \"Return-Path\",                  # Mostly missing, not useful\n",
    "    \"text_plain\",                   \n",
    "    \"text_clean\", \n",
    "    \"text_html\", \n",
    "    # \"attachment_types\",             # Info extracted to attachments_present\n",
    "    # \"urls\",                         # Info extracted to url_count, http_urls_present, ip_addr_urls, url_at_symbol, url_port_number, any_long_urls, url_multiple_subdomains (not used yet)\n",
    "    \"target_2\",                     # Level 2 target variable\n",
    "    \"target_3\",                     # Level 3 target variable\n",
    "    # \"Subject\",                      # To be used later\n",
    "    # \"text_preprocessed\",            # To be used later\n",
    "    # \"Content_types\"                 # To be used later\n",
    "]\n",
    "\n"
   ]
  },
  {
   "cell_type": "code",
   "execution_count": null,
   "id": "3fe57538",
   "metadata": {},
   "outputs": [],
   "source": [
    "cols = [\"Content_types\", \"attachment_types\", \"urls\"]\n",
    "\n",
    "for col in cols:\n",
    "    X_train[col] = X_train[col].apply(lambda x: \" \".join(x) if isinstance(x, (list, np.ndarray)) else str(x))\n",
    "    X_test[col] = X_test[col].apply(lambda x: \" \".join(x) if isinstance(x, (list, np.ndarray)) else str(x))\n",
    "\n",
    "numeric_transformer = make_pipeline(StandardScaler())\n",
    "\n",
    "binary_transformer = make_pipeline(OneHotEncoder(handle_unknown='ignore', drop='if_binary'))\n",
    "\n",
    "categorical_transformer = make_pipeline(SimpleImputer(strategy=\"constant\", fill_value=\"None\"), OneHotEncoder(handle_unknown='ignore'))\n",
    "\n",
    "X_train[\"Subject\"] = X_train[\"Subject\"].fillna(\"\")\n",
    "X_train[\"text_preprocessed\"] = X_train[\"text_preprocessed\"].fillna(\"\")\n",
    "X_test[\"Subject\"] = X_test[\"Subject\"].fillna(\"\")\n",
    "X_test[\"text_preprocessed\"] = X_test[\"text_preprocessed\"].fillna(\"\")\n",
    "\n"
   ]
  },
  {
   "cell_type": "code",
   "execution_count": null,
   "id": "4781e331",
   "metadata": {},
   "outputs": [],
   "source": [
    "tfidf_subject_pipeline = Pipeline([\n",
    "    (\"imputer\", SimpleImputer(strategy=\"constant\", fill_value=\"\")),\n",
    "    (\"flatten\", FunctionTransformer(lambda x: x.ravel(), validate=False)),\n",
    "    (\"tfidf\", TfidfVectorizer())\n",
    "])\n",
    "\n",
    "tfidf_text_preprocessed_pipeline = Pipeline([\n",
    "    (\"imputer\", SimpleImputer(strategy=\"constant\", fill_value=\"\")),\n",
    "    (\"flatten\", FunctionTransformer(lambda x: x.ravel(), validate=False)),\n",
    "    (\"tfidf\", TfidfVectorizer())\n",
    "])\n",
    "\n",
    "preprocessor = make_column_transformer(\n",
    "    # (numeric_transformer, numeric_feats),\n",
    "    # (binary_transformer, binary_feats),\n",
    "    # (categorical_transformer, categorical_feats),\n",
    "    # (CountVectorizer(), \"Content_types\"),\n",
    "    # (CountVectorizer(), \"urls\"),\n",
    "    # (CountVectorizer(), \"attachment_types\"),\n",
    "    (tfidf_subject_pipeline, [\"Subject\"]),\n",
    "    (tfidf_text_preprocessed_pipeline, [\"text_preprocessed\"]),\n",
    "    (\"drop\", drop_feats + numeric_feats + binary_feats + categorical_feats + [\"Content_types\", \"urls\", \"attachment_types\"])\n",
    ")"
   ]
  },
  {
   "cell_type": "markdown",
   "id": "0175ebb4",
   "metadata": {},
   "source": [
    "# XGBoost"
   ]
  },
  {
   "cell_type": "code",
   "execution_count": null,
   "id": "c0b4bdb1",
   "metadata": {},
   "outputs": [],
   "source": [
    "from xgboost import XGBClassifier"
   ]
  },
  {
   "cell_type": "code",
   "execution_count": null,
   "id": "854fc0df",
   "metadata": {},
   "outputs": [],
   "source": [
    "pipe_xgb = make_pipeline(\n",
    "    preprocessor, XGBClassifier(\n",
    "        random_state=123, verbosity=0\n",
    "    )\n",
    ")\n",
    "pipe_xgb.fit(X_train, y_train_num)\n"
   ]
  },
  {
   "cell_type": "code",
   "execution_count": null,
   "id": "c7a27acc",
   "metadata": {},
   "outputs": [],
   "source": [
    "# Code adapted from DSCI571: Lecture 4 \n",
    "def mean_std_cross_val_scores(model, X_train, y_train, **kwargs):\n",
    "    \"\"\"\n",
    "    Returns mean and std of cross validation\n",
    "\n",
    "    Parameters\n",
    "    ----------\n",
    "    model :\n",
    "        scikit-learn model\n",
    "    X_train : numpy array or pandas DataFrame\n",
    "        X in the training data\n",
    "    y_train :\n",
    "        y in the training data\n",
    "\n",
    "    Returns\n",
    "    ----------\n",
    "        pandas Series with mean scores from cross_validation\n",
    "    \"\"\"\n",
    "\n",
    "    scores = cross_validate(model, X_train, y_train, **kwargs)\n",
    "\n",
    "    mean_scores = pd.DataFrame(scores).mean()\n",
    "    std_scores = pd.DataFrame(scores).std()\n",
    "    out_col = []\n",
    "\n",
    "    for i in range(len(mean_scores)):\n",
    "        out_col.append((f\"%0.3f (+/- %0.3f)\" % (mean_scores.iloc[i], std_scores.iloc[i])))\n",
    "\n",
    "    return pd.Series(data=out_col, index=mean_scores.index)"
   ]
  },
  {
   "cell_type": "code",
   "execution_count": null,
   "id": "9576ad16",
   "metadata": {},
   "outputs": [],
   "source": [
    "scoring = ['accuracy', 'f1', 'precision', 'recall']\n",
    "results_dict = {}\n",
    "results_dict[\"xgb\"] = mean_std_cross_val_scores(pipe_xgb, X_train, y_train_num, scoring=scoring, return_train_score=True)\n",
    "pd.DataFrame(results_dict)"
   ]
  },
  {
   "cell_type": "code",
   "execution_count": null,
   "id": "249ada6d",
   "metadata": {},
   "outputs": [],
   "source": [
    "# TRAIN SET EVALUATION\n",
    "y_pred = pipe_xgb.predict(X_train)\n",
    "cm = confusion_matrix(y_train_num, y_pred)\n",
    "\n",
    "TN, FP, FN, TP = cm.ravel()\n",
    "fpr = FP / (FP + TN)\n",
    "print(\"False Positive Rate on Train Set:\", fpr)"
   ]
  },
  {
   "cell_type": "code",
   "execution_count": null,
   "id": "a80e81fc",
   "metadata": {},
   "outputs": [],
   "source": [
    "y_pred_test = pipe_xgb.predict(X_test)"
   ]
  },
  {
   "cell_type": "code",
   "execution_count": null,
   "id": "aa0ad976",
   "metadata": {},
   "outputs": [],
   "source": [
    "# TEST SET EVALUATION\n",
    "print(classification_report(y_test_num, y_pred_test, target_names=label_encoder.classes_))"
   ]
  },
  {
   "cell_type": "code",
   "execution_count": null,
   "id": "231859e7",
   "metadata": {},
   "outputs": [],
   "source": [
    "cm_test = confusion_matrix(y_test_num, y_pred_test)\n",
    "TN_test, FP_test, FN_test, TP_test = cm_test.ravel()\n",
    "\n",
    "cm_test"
   ]
  },
  {
   "cell_type": "code",
   "execution_count": null,
   "metadata": {},
   "outputs": [],
   "source": [
    "f1 = f1_score(y_test_num, y_pred_test)\n",
    "print(\"F1 Score on Test Set:\", f1)\n",
    "fpr_test = FP_test / (FP_test + TN_test)\n",
    "print(\"False Positive Rate on Test Set:\", fpr_test)"
   ]
  },
  {
   "cell_type": "code",
   "execution_count": null,
   "id": "3e9c5dfc",
   "metadata": {},
   "outputs": [],
   "source": [
    "f1_benign = f1_score(y_test_num, y_pred_test, pos_label=0)\n",
    "f1_malicious = f1_score(y_test_num, y_pred_test, pos_label=1)"
   ]
  },
  {
   "cell_type": "code",
   "execution_count": null,
   "id": "ad69dddf",
   "metadata": {},
   "outputs": [],
   "source": [
    "test_dict = {}\n",
    "test_dict[\"xgb\"] = {\n",
    "    \"F1_benign\": f1_benign,\n",
    "    \"F1_malicious\": f1_malicious,\n",
    "    \"FPR\": fpr_test,\n",
    "    \"confusion_matrix\": cm_test\n",
    "}\n",
    "pd.DataFrame(test_dict)"
   ]
  },
  {
   "cell_type": "markdown",
   "id": "21c487a0",
   "metadata": {},
   "source": [
    "### Balanced class weight with wrapper"
   ]
  },
  {
   "cell_type": "code",
   "execution_count": null,
   "id": "d9bad9c3",
   "metadata": {},
   "outputs": [],
   "source": [
    "from sklearn.utils import class_weight\n",
    "classes_weights = class_weight.compute_sample_weight(\n",
    "    class_weight='balanced',\n",
    "    y=train_df['target_1']\n",
    ")\n"
   ]
  },
  {
   "cell_type": "code",
   "execution_count": null,
   "id": "937da44e",
   "metadata": {},
   "outputs": [],
   "source": [
    "pipe_xgb.fit(X_train, y_train_num, xgbclassifier__sample_weight=classes_weights)"
   ]
  },
  {
   "cell_type": "code",
   "execution_count": null,
   "id": "4ff42b7a",
   "metadata": {},
   "outputs": [],
   "source": [
    "results_dict[\"xgb_balanced\"] = mean_std_cross_val_scores(pipe_xgb, X_train, y_train_num, scoring=scoring, return_train_score=True)\n",
    "pd.DataFrame(results_dict)"
   ]
  },
  {
   "cell_type": "code",
   "execution_count": null,
   "id": "4de8ae79",
   "metadata": {},
   "outputs": [],
   "source": [
    "# TRAIN SET EVALUATION\n",
    "y_pred = pipe_xgb.predict(X_train)\n",
    "cm = confusion_matrix(y_train_num, y_pred)\n",
    "\n",
    "TN, FP, FN, TP = cm.ravel()\n",
    "fpr = FP / (FP + TN)\n",
    "print(\"False Positive Rate on Train Set:\", fpr)"
   ]
  },
  {
   "cell_type": "code",
   "execution_count": null,
   "id": "a4764ed5",
   "metadata": {},
   "outputs": [],
   "source": [
    "y_pred_test = pipe_xgb.predict(X_test)"
   ]
  },
  {
   "cell_type": "code",
   "execution_count": null,
   "id": "664ae1d5",
   "metadata": {},
   "outputs": [],
   "source": [
    "# TEST SET EVALUATION\n",
    "print(classification_report(y_test_num, y_pred_test, target_names=label_encoder.classes_))"
   ]
  },
  {
   "cell_type": "code",
   "execution_count": null,
   "id": "985aa297",
   "metadata": {},
   "outputs": [],
   "source": [
    "cm_test = confusion_matrix(y_test_num, y_pred_test)\n",
    "TN_test, FP_test, FN_test, TP_test = cm_test.ravel()\n",
    "\n",
    "cm_test"
   ]
  },
  {
   "cell_type": "code",
   "execution_count": null,
   "id": "7a33022e",
   "metadata": {},
   "outputs": [],
   "source": [
    "f1 = f1_score(y_test_num, y_pred_test)\n",
    "print(\"F1 Score on Test Set:\", f1)\n",
    "fpr_test = FP_test / (FP_test + TN_test)\n",
    "print(\"False Positive Rate on Test Set:\", fpr_test)"
   ]
  },
  {
   "cell_type": "code",
   "execution_count": null,
   "id": "ef50342c",
   "metadata": {},
   "outputs": [],
   "source": [
    "f1_benign = f1_score(y_test_num, y_pred_test, pos_label=0)\n",
    "f1_malicious = f1_score(y_test_num, y_pred_test, pos_label=1)\n",
    "\n",
    "test_dict[\"xgb_balanced\"] = {\n",
    "    \"F1_benign\": f1_benign,\n",
    "    \"F1_malicious\": f1_malicious,\n",
    "    \"FPR\": fpr_test,\n",
    "    \"confusion_matrix\": cm_test\n",
    "}\n",
    "pd.DataFrame(test_dict)"
   ]
  },
  {
   "cell_type": "markdown",
   "id": "90c0090c",
   "metadata": {},
   "source": [
    "# Hyperparameter Tuning for XGB"
   ]
  },
  {
   "cell_type": "code",
   "execution_count": null,
   "id": "1f821aba",
   "metadata": {},
   "outputs": [],
   "source": [
    "param_dist_xgb = {\n",
    "    \"xgbclassifier__n_estimators\": randint(100, 1000),\n",
    "    \"xgbclassifier__learning_rate\": uniform(0.01, 0.3),\n",
    "    \"xgbclassifier__max_depth\": randint(3, 10),\n",
    "    \"xgbclassifier__min_child_weight\": randint(1, 10),\n",
    "    \"xgbclassifier__subsample\": uniform(0.5, 0.5),\n",
    "    \"xgbclassifier__colsample_bytree\": uniform(0.5, 0.5),\n",
    "    \"xgbclassifier__gamma\": uniform(0, 5),\n",
    "    \"xgbclassifier__reg_alpha\": uniform(0, 5),\n",
    "    \"xgbclassifier__reg_lambda\": uniform(0, 5)\n",
    "}\n",
    "\n",
    "random_search_xgb = RandomizedSearchCV(\n",
    "    pipe_xgb,\n",
    "    param_distributions=param_dist_xgb,\n",
    "    n_iter=5,\n",
    "    scoring=\"f1\",\n",
    "    cv=5,\n",
    "    verbose=1,\n",
    "    n_jobs=-1,\n",
    "    random_state=123,\n",
    ")"
   ]
  },
  {
   "cell_type": "code",
   "execution_count": null,
   "id": "28cfc393",
   "metadata": {},
   "outputs": [],
   "source": [
    "random_search_xgb.fit(X_train, y_train_num)"
   ]
  },
  {
   "cell_type": "code",
   "execution_count": null,
   "id": "74f5a1e6",
   "metadata": {},
   "outputs": [],
   "source": [
    "results_dict[\"xgb_tuned\"] = mean_std_cross_val_scores(random_search_xgb.best_estimator_, X_train, y_train_num, scoring=scoring, return_train_score=True)\n",
    "pd.DataFrame(results_dict)"
   ]
  },
  {
   "cell_type": "code",
   "execution_count": null,
   "id": "b110fb55",
   "metadata": {},
   "outputs": [],
   "source": [
    "# TRAIN SET EVALUATION\n",
    "y_pred = random_search_xgb.best_estimator_.predict(X_train)\n",
    "cm = confusion_matrix(y_train_num, y_pred)\n",
    "\n",
    "TN, FP, FN, TP = cm.ravel()\n",
    "fpr = FP / (FP + TN)\n",
    "print(\"False Positive Rate on Train Set:\", fpr)"
   ]
  },
  {
   "cell_type": "code",
   "execution_count": null,
   "id": "0843dda7",
   "metadata": {},
   "outputs": [],
   "source": [
    "# TEST SET EVALUATION\n",
    "y_pred_test = random_search_xgb.best_estimator_.predict(X_test)\n",
    "print(classification_report(y_test_num, y_pred_test, target_names=label_encoder.classes_))"
   ]
  },
  {
   "cell_type": "code",
   "execution_count": null,
   "id": "d56c2f94",
   "metadata": {},
   "outputs": [],
   "source": [
    "cm_test = confusion_matrix(y_test_num, y_pred_test)\n",
    "TN_test, FP_test, FN_test, TP_test = cm_test.ravel()\n",
    "\n",
    "cm_test"
   ]
  },
  {
   "cell_type": "code",
   "execution_count": null,
   "id": "d80e5007",
   "metadata": {},
   "outputs": [],
   "source": [
    "f1 = f1_score(y_test_num, y_pred_test)\n",
    "print(\"F1 Score on Test Set:\", f1)\n",
    "fpr_test = FP_test / (FP_test + TN_test)\n",
    "print(\"False Positive Rate on test set:\", fpr_test)"
   ]
  },
  {
   "cell_type": "markdown",
   "id": "16251be6",
   "metadata": {},
   "source": [
    "# Random Forest"
   ]
  },
  {
   "cell_type": "code",
   "execution_count": null,
   "id": "bb5ade95",
   "metadata": {},
   "outputs": [],
   "source": [
    "pipe_rf = make_pipeline(\n",
    "    preprocessor, RandomForestClassifier(max_depth=2, n_estimators=3, class_weight=\"balanced\", random_state=123)\n",
    ")\n",
    "pipe_rf.fit(X_train, y_train_num)\n"
   ]
  },
  {
   "cell_type": "code",
   "execution_count": null,
   "id": "1f90d0c8",
   "metadata": {},
   "outputs": [],
   "source": [
    "results_dict[\"rf\"] = mean_std_cross_val_scores(pipe_rf, X_train, y_train_num, scoring=scoring, return_train_score=True)\n",
    "pd.DataFrame(results_dict)"
   ]
  },
  {
   "cell_type": "code",
   "execution_count": null,
   "id": "bd7e8158",
   "metadata": {},
   "outputs": [],
   "source": [
    "# TRAIN SET EVALUATION\n",
    "y_pred = pipe_rf.predict(X_train)\n",
    "cm = confusion_matrix(y_train_num, y_pred)\n",
    "cm"
   ]
  },
  {
   "cell_type": "code",
   "execution_count": null,
   "id": "ba1197c8",
   "metadata": {},
   "outputs": [],
   "source": [
    "TN, FP, FN, TP = cm.ravel()\n",
    "fpr = FP / (FP + TN)\n",
    "print(\"False Positive Rate on Train set:\", fpr)"
   ]
  },
  {
   "cell_type": "code",
   "execution_count": null,
   "id": "429092af",
   "metadata": {},
   "outputs": [],
   "source": [
    "# TEST SET EVALUATION\n",
    "y_pred_test = pipe_rf.predict(X_test)\n",
    "print(classification_report(y_test_num, y_pred_test, target_names=label_encoder.classes_))\n"
   ]
  },
  {
   "cell_type": "code",
   "execution_count": null,
   "id": "a861f225",
   "metadata": {},
   "outputs": [],
   "source": [
    "f1 = f1_score(y_test_num, y_pred_test)\n",
    "print(\"F1 Score on Test Set:\", f1)"
   ]
  },
  {
   "cell_type": "code",
   "execution_count": null,
   "id": "e7449c7f",
   "metadata": {},
   "outputs": [],
   "source": [
    "cm_test = confusion_matrix(y_test_num, y_pred_test)\n",
    "TN_test, FP_test, FN_test, TP_test = cm_test.ravel()\n",
    "\n",
    "cm_test"
   ]
  },
  {
   "cell_type": "code",
   "execution_count": null,
   "id": "5c514655",
   "metadata": {},
   "outputs": [],
   "source": [
    "fpr_test = FP_test / (FP_test + TN_test)\n",
    "print(\"False Positive Rate on test set:\", fpr_test)"
   ]
  },
  {
   "cell_type": "markdown",
   "id": "6302f6fc",
   "metadata": {},
   "source": [
    "# Hyperparameter Tuning for RF"
   ]
  },
  {
   "cell_type": "code",
   "execution_count": null,
   "id": "07366432",
   "metadata": {},
   "outputs": [],
   "source": [
    "param_dist = {\n",
    "    \"randomforestclassifier__criterion\": [\"gini\", \"entropy\", \"log_loss\"],\n",
    "    \"randomforestclassifier__n_estimators\": randint(10, 200),\n",
    "    \"randomforestclassifier__max_depth\": randint(1, 20),\n",
    "    \"randomforestclassifier__min_samples_split\": randint(2, 20),\n",
    "    \"randomforestclassifier__min_samples_leaf\": randint(1, 20),\n",
    "    \"randomforestclassifier__max_features\": uniform(0.1, 0.9),\n",
    "    \"randomforestclassifier__bootstrap\": [True, False],\n",
    "    \"columntransformer__pipeline-4__tfidf__max_features\": [None, 1000, 5000, 10000, 15000, 20000],\n",
    "    \"columntransformer__pipeline-5__tfidf__max_features\": [None, 1000, 5000, 10000, 15000, 20000]\n",
    "}\n",
    "\n",
    "pipe_rf = make_pipeline(preprocessor, RandomForestClassifier(random_state=123, class_weight=\"balanced\", n_jobs=-1))\n",
    "\n",
    "random_search_rf = RandomizedSearchCV(\n",
    "    pipe_rf,\n",
    "    param_distributions=param_dist,\n",
    "    n_iter=10,\n",
    "    scoring=\"f1\",\n",
    "    cv=5,\n",
    "    verbose=1,\n",
    "    n_jobs=-1,\n",
    "    random_state=123,\n",
    ")"
   ]
  },
  {
   "cell_type": "code",
   "execution_count": null,
   "id": "3bc43cb0",
   "metadata": {},
   "outputs": [],
   "source": [
    "random_search_rf.fit(X_train, y_train_num)"
   ]
  },
  {
   "cell_type": "code",
   "execution_count": null,
   "id": "93a9248d",
   "metadata": {},
   "outputs": [],
   "source": [
    "results_dict[\"rf_tuned\"] = mean_std_cross_val_scores(random_search_rf.best_estimator_, X_train, y_train_num, scoring=scoring, return_train_score=True)\n",
    "pd.DataFrame(results_dict)"
   ]
  },
  {
   "cell_type": "code",
   "execution_count": null,
   "id": "5486e4d3",
   "metadata": {},
   "outputs": [],
   "source": [
    "# TRAIN SET EVALUATION\n",
    "y_pred = random_search_rf.best_estimator_.predict(X_train)\n",
    "cm = confusion_matrix(y_train_num, y_pred)\n",
    "\n",
    "TN, FP, FN, TP = cm.ravel()\n",
    "fpr = FP / (FP + TN)\n",
    "print(\"False Positive Rate on Train Set:\", fpr)"
   ]
  },
  {
   "cell_type": "code",
   "execution_count": null,
   "id": "84f0e3e2",
   "metadata": {},
   "outputs": [],
   "source": [
    "# TEST SET EVALUATION\n",
    "y_pred_test = random_search_rf.best_estimator_.predict(X_test)\n",
    "print(classification_report(y_test_num, y_pred_test, target_names=label_encoder.classes_))"
   ]
  },
  {
   "cell_type": "code",
   "execution_count": null,
   "id": "48a066a9",
   "metadata": {},
   "outputs": [],
   "source": [
    "f1 = f1_score(y_test_num, y_pred_test)\n",
    "print(\"F1 Score on Test Set:\", f1)"
   ]
  },
  {
   "cell_type": "code",
   "execution_count": null,
   "id": "7716b12a",
   "metadata": {},
   "outputs": [],
   "source": [
    "cm_test = confusion_matrix(y_test_num, y_pred_test)\n",
    "TN_test, FP_test, FN_test, TP_test = cm_test.ravel()\n",
    "\n",
    "cm_test"
   ]
  },
  {
   "cell_type": "code",
   "execution_count": null,
   "id": "8139ef52",
   "metadata": {},
   "outputs": [],
   "source": [
    "fpr_test = FP_test / (FP_test + TN_test)\n",
    "print(\"False Positive Rate on test set:\", fpr_test)"
   ]
  },
  {
   "cell_type": "code",
   "execution_count": null,
   "id": "f6359dad",
   "metadata": {},
   "outputs": [],
   "source": []
  }
 ],
 "metadata": {
  "kernelspec": {
   "display_name": "dev-jiaquan",
   "language": "python",
   "name": "python3"
  },
  "language_info": {
   "codemirror_mode": {
    "name": "ipython",
    "version": 3
   },
   "file_extension": ".py",
   "mimetype": "text/x-python",
   "name": "python",
   "nbconvert_exporter": "python",
   "pygments_lexer": "ipython3",
   "version": "3.12.10"
  }
 },
 "nbformat": 4,
 "nbformat_minor": 5
}
