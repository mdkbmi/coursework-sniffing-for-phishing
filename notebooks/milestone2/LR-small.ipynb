{
 "cells": [
  {
   "cell_type": "code",
   "execution_count": null,
   "id": "4687e636",
   "metadata": {},
   "outputs": [],
   "source": [
    "import pandas as pd\n",
    "import numpy as np\n",
    "from pathlib import Path\n",
    "\n",
    "from sklearn.model_selection import train_test_split, StratifiedKFold, GridSearchCV\n",
    "from sklearn.linear_model import LogisticRegression\n",
    "from sklearn.metrics import classification_report, confusion_matrix, f1_score, roc_auc_score, roc_curve, ConfusionMatrixDisplay\n",
    "from sklearn.feature_extraction.text import TfidfVectorizer\n",
    "from sklearn.preprocessing import StandardScaler\n",
    "\n",
    "import matplotlib.pyplot as plt\n",
    "import seaborn as sns\n",
    "import warnings\n",
    "warnings.filterwarnings('ignore')\n",
    "import os\n",
    "import sys\n",
    "import shap\n",
    "os.getcwd()\n"
   ]
  },
  {
   "cell_type": "markdown",
   "id": "f4cb2462",
   "metadata": {},
   "source": [
    "# Read in data"
   ]
  },
  {
   "cell_type": "code",
   "execution_count": null,
   "id": "2d2fe646",
   "metadata": {},
   "outputs": [],
   "source": [
    "df_raw_small = pd.read_parquet('../../../../dataset/sampled-dataset/raw/sample-small.parquet')\n",
    "df_pro_small = pd.read_parquet('../../../../dataset/sampled-dataset/processed/sample-small.parquet')\n",
    "df_small = df_raw_small.join(df_pro_small)\n",
    "df_small"
   ]
  },
  {
   "cell_type": "markdown",
   "id": "47d71554",
   "metadata": {},
   "source": [
    "# Now we have\n",
    "- df_raw_small: raw dataset small\n",
    "- df_raw_large: processed datased \n",
    "- df_small: combined dataset"
   ]
  },
  {
   "cell_type": "markdown",
   "id": "0f7814c9",
   "metadata": {},
   "source": [
    "# EDA"
   ]
  },
  {
   "cell_type": "code",
   "execution_count": null,
   "id": "941a8bad",
   "metadata": {},
   "outputs": [],
   "source": [
    "\n",
    "numerical_features = [\n",
    "    'routing_length', 'word_count', 'readable_proportion',\n",
    "    'whitespace_ratio', 'alphabet_proportion', 'grammar_error_rate',\n",
    "    'english_french_proportion', 'url_count'\n",
    "]\n",
    "categorical_features = [\n",
    "    'dkim_result', 'spf_result', 'dmarc_result', 'html_parsing_error'\n",
    "]\n",
    "binary_features = [\n",
    "    'is_multipart', 'attachments_present',\n",
    "    'dmarc_authentication_present', 'dkim_sender_domains_match',\n",
    "    'to_from_addresses_match', 'sender_email_spf_match',\n",
    "    'non_ascii_present', 'hidden_text_present',\n",
    "    'ip_addr_urls', 'http_urls_present', 'url_at_symbol',\n",
    "    'url_port_number', 'any_long_urls', 'url_multiple_subdomains'\n",
    "]\n",
    "\n",
    "target_col = 'target_1'\n",
    "\n",
    "model_features = numerical_features + categorical_features + binary_features\n",
    "X = df_small[model_features].copy()\n",
    "y = df_small[target_col].map({'benign': 0, 'malicious': 1}) \n"
   ]
  },
  {
   "cell_type": "markdown",
   "id": "378ba3c4",
   "metadata": {},
   "source": [
    "# Numerical features distribution"
   ]
  },
  {
   "cell_type": "code",
   "execution_count": null,
   "id": "dd0aa28a",
   "metadata": {},
   "outputs": [],
   "source": [
    "num_feats = len(numerical_features)\n",
    "cols = 4\n",
    "rows = (num_feats + cols - 1) // cols\n",
    "\n",
    "fig, axes = plt.subplots(rows, cols, figsize=(cols*4, rows*3))\n",
    "axes = axes.flatten()\n",
    "for i, col in enumerate(numerical_features):\n",
    "    temp = X.copy()\n",
    "    temp['target'] = y\n",
    "    sns.histplot(\n",
    "        data=temp, x=col, hue='target', kde=True, bins=30, \n",
    "        stat='count', palette='Set1', alpha=0.6, ax=axes[i]\n",
    "    )\n",
    "    axes[i].set_title(f\"{col} by target\")\n",
    "for i in range(len(numerical_features), len(axes)):\n",
    "    fig.delaxes(axes[i])\n",
    "plt.tight_layout()\n",
    "plt.show()"
   ]
  },
  {
   "cell_type": "markdown",
   "id": "0864c996",
   "metadata": {},
   "source": [
    "# categorical features distribution"
   ]
  },
  {
   "cell_type": "code",
   "execution_count": null,
   "id": "2a815512",
   "metadata": {},
   "outputs": [],
   "source": [
    "cat_feats = len(categorical_features)\n",
    "cols = 4\n",
    "rows = (cat_feats + cols - 1) // cols\n",
    "\n",
    "fig, axes = plt.subplots(rows, cols, figsize=(cols*4, rows*3))\n",
    "axes = axes.flatten()\n",
    "for i, col in enumerate(categorical_features):\n",
    "    temp = X.copy()\n",
    "    temp['target'] = y\n",
    "    sns.countplot(data=temp, x=col, hue='target', palette='Set1', ax=axes[i])\n",
    "    axes[i].set_title(f\"{col} by target\")\n",
    "    axes[i].legend(loc='upper right', fontsize='small')\n",
    "for i in range(len(categorical_features), len(axes)):\n",
    "    fig.delaxes(axes[i])\n",
    "plt.tight_layout()\n",
    "plt.show()\n"
   ]
  },
  {
   "cell_type": "markdown",
   "id": "ea8bfd25",
   "metadata": {},
   "source": [
    "# Binary features distribution"
   ]
  },
  {
   "cell_type": "code",
   "execution_count": null,
   "id": "933e06a2",
   "metadata": {},
   "outputs": [],
   "source": [
    "bin_feats = len(binary_features)\n",
    "cols = 4\n",
    "rows = (bin_feats + cols - 1) // cols\n",
    "\n",
    "fig, axes = plt.subplots(rows, cols, figsize=(cols*4, rows*3))\n",
    "axes = axes.flatten()\n",
    "for i, col in enumerate(binary_features):\n",
    "    temp = X.copy()\n",
    "    temp['target'] = y\n",
    "    sns.countplot(data=temp, x=col, hue='target', palette='Set1', ax=axes[i])\n",
    "    axes[i].set_title(f\"{col} by target\")\n",
    "    axes[i].legend(loc='upper right', fontsize='small')\n",
    "for i in range(len(binary_features), len(axes)):\n",
    "    fig.delaxes(axes[i])\n",
    "plt.tight_layout()\n",
    "plt.show()"
   ]
  },
  {
   "cell_type": "code",
   "execution_count": null,
   "id": "993899cc",
   "metadata": {},
   "outputs": [],
   "source": [
    "# NA check\n",
    "print(X.isnull().sum())\n",
    "\n",
    "# feature statistics\n",
    "display(X.describe())\n",
    "print(y.value_counts(normalize=True))"
   ]
  },
  {
   "cell_type": "code",
   "execution_count": null,
   "id": "5b924654",
   "metadata": {},
   "outputs": [],
   "source": [
    "corr = X[numerical_features].corr()\n",
    "plt.figure(figsize=(8,5))\n",
    "sns.heatmap(corr, annot=True, cmap='coolwarm')\n",
    "plt.title(\"Numerical Feature Correlation\")\n",
    "plt.show()"
   ]
  },
  {
   "cell_type": "markdown",
   "id": "0c5f4e37",
   "metadata": {},
   "source": [
    "# Model"
   ]
  },
  {
   "cell_type": "code",
   "execution_count": null,
   "id": "5e689c55",
   "metadata": {},
   "outputs": [],
   "source": [
    "X_train, X_val, y_train, y_val = train_test_split(\n",
    "    X, y, test_size=0.2, stratify=y, random_state=42\n",
    ")"
   ]
  },
  {
   "cell_type": "code",
   "execution_count": null,
   "id": "8499a184",
   "metadata": {},
   "outputs": [],
   "source": [
    "X_train = pd.get_dummies(X_train, columns=categorical_features, dummy_na=True)\n",
    "X_val = pd.get_dummies(X_val, columns=categorical_features, dummy_na=True)\n",
    "\n",
    "X_train, X_val = X_train.align(X_val, join='left', axis=1, fill_value=0)"
   ]
  },
  {
   "cell_type": "code",
   "execution_count": null,
   "id": "6b7c326f",
   "metadata": {},
   "outputs": [],
   "source": [
    "lr = LogisticRegression(max_iter=1000, class_weight='balanced', random_state=42)\n",
    "lr.fit(X_train, y_train)\n",
    "\n",
    "y_pred = lr.predict(X_val)\n",
    "y_prob = lr.predict_proba(X_val)[:, 1]"
   ]
  },
  {
   "cell_type": "code",
   "execution_count": null,
   "id": "5ba9ecf4",
   "metadata": {},
   "outputs": [],
   "source": [
    "plt.hist(y_prob[y_val==0], bins=20, alpha=0.6, label='Benign')\n",
    "plt.hist(y_prob[y_val==1], bins=20, alpha=0.6, label='Malicious')\n",
    "plt.xlabel('Predicted Probability')\n",
    "plt.ylabel('Count')\n",
    "plt.title('Predicted Probabilities by Class')\n",
    "plt.legend()\n",
    "plt.show()"
   ]
  },
  {
   "cell_type": "code",
   "execution_count": null,
   "id": "81426fa4",
   "metadata": {},
   "outputs": [],
   "source": [
    "f1 = f1_score(y_val, y_pred, average='binary')\n",
    "print(\"F1-score:\", f1)\n",
    "\n",
    "cm = confusion_matrix(y_val, y_pred)\n",
    "TN, FP, FN, TP = cm.ravel()\n",
    "\n",
    "FPR = FP / (FP + TN) if (FP + TN) > 0 else 0\n",
    "print(\"False Positive Rate (FPR):\", FPR)\n"
   ]
  },
  {
   "cell_type": "code",
   "execution_count": null,
   "id": "3065af37",
   "metadata": {},
   "outputs": [],
   "source": [
    "param_grid = {\n",
    "    'C': [0.01, 0.1, 1, 10, 100],\n",
    "    'penalty': ['l2', 'l1'],\n",
    "    'solver': ['liblinear', 'saga'],\n",
    "    'class_weight': [None, 'balanced']\n",
    "}"
   ]
  },
  {
   "cell_type": "code",
   "execution_count": null,
   "id": "b9d7fbf8",
   "metadata": {},
   "outputs": [],
   "source": [
    "lr_grid = LogisticRegression(max_iter=5000, random_state=42)\n",
    "\n",
    "grid_search = GridSearchCV(\n",
    "    lr_grid, param_grid, cv=5, scoring='f1', n_jobs=-1\n",
    ")\n",
    "\n",
    "grid_search.fit(X_train, y_train)\n"
   ]
  },
  {
   "cell_type": "code",
   "execution_count": null,
   "id": "3744bea2",
   "metadata": {},
   "outputs": [],
   "source": [
    "print(\"Best Params:\", grid_search.best_params_)\n",
    "best_lr = grid_search.best_estimator_\n",
    "y_pred = best_lr.predict(X_val)\n",
    "y_prob = best_lr.predict_proba(X_val)[:, 1]\n",
    "print(classification_report(y_val, y_pred))\n",
    "print('Confusion Matrix:\\n', confusion_matrix(y_val, y_pred))\n",
    "print('ROC-AUC:', roc_auc_score(y_val, y_prob))\n",
    "print('F1-score:', f1_score(y_val, y_pred))"
   ]
  },
  {
   "cell_type": "code",
   "execution_count": null,
   "id": "81e2f09b",
   "metadata": {},
   "outputs": [],
   "source": [
    "cm = confusion_matrix(y_val, y_pred)\n",
    "TN, FP, FN, TP = cm.ravel()\n",
    "fpr = FP / (FP + TN) if (FP + TN) > 0 else 0\n",
    "print('False Positive Rate (FPR):', fpr)\n"
   ]
  },
  {
   "cell_type": "code",
   "execution_count": null,
   "id": "1b0fb52a",
   "metadata": {},
   "outputs": [],
   "source": [
    "thresholds = np.arange(0.01, 1, 0.01)\n",
    "f1s, fprs = [], []\n",
    "\n",
    "for t in thresholds:\n",
    "    y_pred_thr = (y_prob >= t).astype(int)\n",
    "    f1s.append(f1_score(y_val, y_pred_thr))\n",
    "    cm = confusion_matrix(y_val, y_pred_thr)\n",
    "    tn, fp, fn, tp = cm.ravel()\n",
    "    fpr = fp / (fp + tn) if (fp + tn) > 0 else 0\n",
    "    fprs.append(fpr)\n",
    "\n",
    "plt.figure(figsize=(8,5))\n",
    "plt.plot(thresholds, f1s, label='F1-score')\n",
    "plt.plot(thresholds, fprs, label='FPR')\n",
    "plt.xlabel('Threshold')\n",
    "plt.ylabel('Score')\n",
    "plt.legend()\n",
    "plt.title('F1-score & FPR vs. Threshold')\n",
    "plt.show()\n"
   ]
  },
  {
   "cell_type": "code",
   "execution_count": null,
   "id": "27b0e0a6",
   "metadata": {},
   "outputs": [],
   "source": [
    "fprs_arr = np.array(fprs)\n",
    "f1s_arr = np.array(f1s)\n",
    "thresholds_arr = np.array(thresholds)\n",
    "\n",
    "idx = np.argmin(np.abs(fprs_arr - 0.05))\n",
    "\n",
    "print(f\"Threshold at closest FPR=0.05: {thresholds_arr[idx]:.2f}\")\n",
    "print(f\"Actual FPR: {fprs_arr[idx]:.4f}\")\n",
    "print(f\"F1-score: {f1s_arr[idx]:.4f}\")"
   ]
  },
  {
   "cell_type": "code",
   "execution_count": null,
   "id": "44c9cf22",
   "metadata": {},
   "outputs": [],
   "source": [
    "fprs_arr = np.array(fprs)\n",
    "f1s_arr = np.array(f1s)\n",
    "thresholds_arr = np.array(thresholds)\n",
    "\n",
    "idx = np.argmin(np.abs(f1s_arr - 0.8))\n",
    "\n",
    "print(f\"Threshold at closest FPR=0.05: {thresholds_arr[idx]:.2f}\")\n",
    "print(f\"Actual FPR: {fprs_arr[idx]:.4f}\")\n",
    "print(f\"F1-score: {f1s_arr[idx]:.4f}\")"
   ]
  },
  {
   "cell_type": "markdown",
   "id": "f79867ed",
   "metadata": {},
   "source": [
    "# SHAP "
   ]
  },
  {
   "cell_type": "code",
   "execution_count": null,
   "id": "c77cf17f",
   "metadata": {},
   "outputs": [],
   "source": [
    "X_val = X_val.dropna(axis=1, how='all')\n",
    "X_train = X_train.dropna(axis=1, how='all')\n",
    "X_val = X_val.astype(np.float64)\n",
    "X_train = X_train.astype(np.float64)\n",
    "X_val.columns = X_val.columns.map(str)\n",
    "X_train.columns = X_train.columns.map(str)"
   ]
  },
  {
   "cell_type": "code",
   "execution_count": null,
   "id": "c4e3b858",
   "metadata": {},
   "outputs": [],
   "source": [
    "import shap\n",
    "\n",
    "explainer = shap.Explainer(best_lr, X_train)\n",
    "shap_values = explainer(X_val)\n",
    "\n",
    "shap.summary_plot(shap_values, X_val, plot_type='bar')\n",
    "\n",
    "shap.summary_plot(shap_values, X_val)"
   ]
  }
 ],
 "metadata": {
  "kernelspec": {
   "display_name": "dev-xuci",
   "language": "python",
   "name": "python3"
  },
  "language_info": {
   "codemirror_mode": {
    "name": "ipython",
    "version": 3
   },
   "file_extension": ".py",
   "mimetype": "text/x-python",
   "name": "python",
   "nbconvert_exporter": "python",
   "pygments_lexer": "ipython3",
   "version": "3.12.0"
  }
 },
 "nbformat": 4,
 "nbformat_minor": 5
}
