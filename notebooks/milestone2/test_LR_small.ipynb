{
 "cells": [
  {
   "cell_type": "code",
   "execution_count": null,
   "id": "879034b3",
   "metadata": {},
   "outputs": [],
   "source": [
    "import pandas as pd\n",
    "import numpy as np\n",
    "from pathlib import Path\n",
    "\n",
    "from sklearn.model_selection import train_test_split, StratifiedKFold, GridSearchCV\n",
    "from sklearn.linear_model import LogisticRegression\n",
    "from sklearn.metrics import classification_report, confusion_matrix, f1_score, roc_auc_score, roc_curve, ConfusionMatrixDisplay\n",
    "from sklearn.feature_extraction.text import TfidfVectorizer\n",
    "from sklearn.preprocessing import StandardScaler\n",
    "\n",
    "import matplotlib.pyplot as plt\n",
    "import seaborn as sns\n",
    "import warnings\n",
    "warnings.filterwarnings('ignore')\n",
    "import os\n",
    "import sys\n",
    "import shap\n",
    "os.getcwd()\n"
   ]
  },
  {
   "cell_type": "code",
   "execution_count": null,
   "id": "7f6fe22b",
   "metadata": {},
   "outputs": [],
   "source": [
    "df_raw_small = pd.read_parquet('../../../../dataset/sampled-dataset/raw/sample-small.parquet')\n",
    "df_pro_small = pd.read_parquet('../../../../dataset/sampled-dataset/processed/sample-small.parquet')\n",
    "df_small = df_raw_small.join(df_pro_small)\n",
    "df_small"
   ]
  },
  {
   "cell_type": "code",
   "execution_count": null,
   "id": "aff20e01",
   "metadata": {},
   "outputs": [],
   "source": [
    "print(df_small.columns)\n",
    "print(df_small.head())\n"
   ]
  },
  {
   "cell_type": "code",
   "execution_count": null,
   "id": "3171c300",
   "metadata": {},
   "outputs": [],
   "source": [
    "sys.path.append(os.path.abspath('../../src'))\n",
    "\n",
    "from extract_extra_features import (\n",
    "    compute_name_email_similarity,\n",
    "    from_name_email_sim, from_email_length,\n",
    "    to_is_hidden, subject_word_count_series,\n",
    "    subject_contains_malicious_words, subject_contains_benign_words\n",
    ")\n",
    "\n",
    "\n",
    "df_small['name_email_similarity'] = compute_name_email_similarity(df_small['From_name'], df_small['From_email'])\n",
    "df_small['from_name_email_sim'] = from_name_email_sim(df_small, from_name_col='From_name', from_email_col='From_email')\n",
    "df_small['to_is_hidden'] = to_is_hidden(df_small, to_col='To')\n",
    "df_small['subject_word_count'] = subject_word_count_series(df_small['Subject'])\n",
    "df_small['subject_contains_malicious_words'] = subject_contains_malicious_words(df_small['Subject'])\n",
    "df_small['subject_contains_benign_words'] = subject_contains_benign_words(df_small['Subject'])\n",
    "df_small['from_email_length'] = from_email_length(df_small['From_email'])\n",
    "df_small\n",
    "\n"
   ]
  },
  {
   "cell_type": "code",
   "execution_count": null,
   "id": "c07b1085",
   "metadata": {},
   "outputs": [],
   "source": [
    "numerical_features = [\n",
    "    'routing_length', 'word_count', 'readable_proportion',\n",
    "    'whitespace_ratio', 'alphabet_proportion', 'grammar_error_rate',\n",
    "    'english_french_proportion', 'url_count',\n",
    "    'name_email_similarity', 'from_name_email_sim', 'subject_word_count',\n",
    "    'from_email_length',\n",
    "]\n",
    "\n",
    "categorical_features = [\n",
    "    'dkim_result', 'spf_result', 'dmarc_result', 'html_parsing_error'\n",
    "]\n",
    "\n",
    "binary_features = [\n",
    "    'is_multipart', 'attachments_present',\n",
    "    'dmarc_authentication_present', 'dkim_sender_domains_match',\n",
    "    'to_from_addresses_match', 'sender_email_spf_match',\n",
    "    'non_ascii_present', 'hidden_text_present',\n",
    "    'ip_addr_urls', 'http_urls_present', 'url_at_symbol',\n",
    "    'url_port_number', 'any_long_urls', 'url_multiple_subdomains',\n",
    "    'to_is_hidden', 'subject_contains_malicious_words', 'subject_contains_benign_words',\n",
    "]\n",
    "\n",
    "\n",
    "target_col = 'target_1'\n",
    "\n",
    "model_features = numerical_features + categorical_features + binary_features\n",
    "X = df_small[model_features].copy()\n",
    "y = df_small[target_col].map({'benign': 0, 'malicious': 1}) \n"
   ]
  },
  {
   "cell_type": "code",
   "execution_count": null,
   "id": "ccf77e34",
   "metadata": {},
   "outputs": [],
   "source": [
    "X_train, X_val, y_train, y_val = train_test_split(\n",
    "    X, y, test_size=0.2, stratify=y, random_state=42\n",
    ")"
   ]
  },
  {
   "cell_type": "code",
   "execution_count": null,
   "id": "13ffb4a0",
   "metadata": {},
   "outputs": [],
   "source": [
    "X_train = pd.get_dummies(X_train, columns=categorical_features, dummy_na=True)\n",
    "X_val = pd.get_dummies(X_val, columns=categorical_features, dummy_na=True)\n",
    "\n",
    "X_train, X_val = X_train.align(X_val, join='left', axis=1, fill_value=0)"
   ]
  },
  {
   "cell_type": "code",
   "execution_count": null,
   "id": "d14befeb",
   "metadata": {},
   "outputs": [],
   "source": [
    "lr = LogisticRegression(max_iter=1000, class_weight='balanced', random_state=42)\n",
    "lr.fit(X_train, y_train)\n",
    "\n",
    "y_pred = lr.predict(X_val)\n",
    "y_prob = lr.predict_proba(X_val)[:, 1]"
   ]
  },
  {
   "cell_type": "code",
   "execution_count": null,
   "id": "881bd92b",
   "metadata": {},
   "outputs": [],
   "source": [
    "f1 = f1_score(y_val, y_pred, average='binary')\n",
    "print(\"F1-score:\", f1)\n",
    "\n",
    "cm = confusion_matrix(y_val, y_pred)\n",
    "TN, FP, FN, TP = cm.ravel()\n",
    "\n",
    "FPR = FP / (FP + TN) if (FP + TN) > 0 else 0\n",
    "print(\"False Positive Rate (FPR):\", FPR)\n"
   ]
  },
  {
   "cell_type": "code",
   "execution_count": null,
   "id": "72a100ae",
   "metadata": {},
   "outputs": [],
   "source": [
    "param_grid = {\n",
    "    'C': [0.01, 0.1, 1, 10, 100],\n",
    "    'penalty': ['l2', 'l1'],\n",
    "    'solver': ['liblinear', 'saga'],\n",
    "    'class_weight': [None, 'balanced']\n",
    "}\n"
   ]
  },
  {
   "cell_type": "code",
   "execution_count": null,
   "id": "89bf055a",
   "metadata": {},
   "outputs": [],
   "source": [
    "lr_grid = LogisticRegression(max_iter=5000, random_state=42)\n",
    "\n",
    "grid_search = GridSearchCV(\n",
    "    lr_grid, param_grid, cv=5, scoring='f1', n_jobs=-1\n",
    ")\n",
    "\n",
    "grid_search.fit(X_train, y_train)"
   ]
  },
  {
   "cell_type": "code",
   "execution_count": null,
   "id": "5e83dd94",
   "metadata": {},
   "outputs": [],
   "source": [
    "print(\"Best Params:\", grid_search.best_params_)\n",
    "best_lr = grid_search.best_estimator_\n",
    "y_pred = best_lr.predict(X_val)\n",
    "y_prob = best_lr.predict_proba(X_val)[:, 1]\n",
    "print(classification_report(y_val, y_pred))\n",
    "print('Confusion Matrix:\\n', confusion_matrix(y_val, y_pred))\n",
    "print('ROC-AUC:', roc_auc_score(y_val, y_prob))\n",
    "print('F1-score:', f1_score(y_val, y_pred))"
   ]
  },
  {
   "cell_type": "code",
   "execution_count": null,
   "id": "c36fdaeb",
   "metadata": {},
   "outputs": [],
   "source": [
    "cm = confusion_matrix(y_val, y_pred)\n",
    "TN, FP, FN, TP = cm.ravel()\n",
    "fpr = FP / (FP + TN) if (FP + TN) > 0 else 0\n",
    "print('False Positive Rate (FPR):', fpr)\n"
   ]
  },
  {
   "cell_type": "code",
   "execution_count": null,
   "id": "9a15e8a7",
   "metadata": {},
   "outputs": [],
   "source": [
    "thresholds = np.arange(0.01, 1, 0.01)\n",
    "f1s, fprs = [], []\n",
    "\n",
    "for t in thresholds:\n",
    "    y_pred_thr = (y_prob >= t).astype(int)\n",
    "    f1s.append(f1_score(y_val, y_pred_thr))\n",
    "    cm = confusion_matrix(y_val, y_pred_thr)\n",
    "    tn, fp, fn, tp = cm.ravel()\n",
    "    fpr = fp / (fp + tn) if (fp + tn) > 0 else 0\n",
    "    fprs.append(fpr)\n",
    "\n",
    "plt.figure(figsize=(8,5))\n",
    "plt.plot(thresholds, f1s, label='F1-score')\n",
    "plt.plot(thresholds, fprs, label='FPR')\n",
    "plt.xlabel('Threshold')\n",
    "plt.ylabel('Score')\n",
    "plt.legend()\n",
    "plt.title('F1-score & FPR vs. Threshold')\n",
    "plt.show()\n"
   ]
  },
  {
   "cell_type": "code",
   "execution_count": null,
   "id": "e647e6c6",
   "metadata": {},
   "outputs": [],
   "source": [
    "X_val = X_val.dropna(axis=1, how='all')\n",
    "X_train = X_train.dropna(axis=1, how='all')\n",
    "X_val = X_val.astype(np.float64)\n",
    "X_train = X_train.astype(np.float64)\n",
    "X_val.columns = X_val.columns.map(str)\n",
    "X_train.columns = X_train.columns.map(str)"
   ]
  },
  {
   "cell_type": "code",
   "execution_count": null,
   "id": "681f91e7",
   "metadata": {},
   "outputs": [],
   "source": [
    "import shap\n",
    "\n",
    "explainer = shap.Explainer(best_lr, X_train)\n",
    "shap_values = explainer(X_val)\n",
    "\n",
    "shap.summary_plot(shap_values, X_val, plot_type='bar')\n",
    "\n",
    "shap.summary_plot(shap_values, X_val)"
   ]
  },
  {
   "cell_type": "code",
   "execution_count": null,
   "id": "559f1f66",
   "metadata": {},
   "outputs": [],
   "source": []
  }
 ],
 "metadata": {
  "kernelspec": {
   "display_name": "dev-xuci",
   "language": "python",
   "name": "python3"
  },
  "language_info": {
   "codemirror_mode": {
    "name": "ipython",
    "version": 3
   },
   "file_extension": ".py",
   "mimetype": "text/x-python",
   "name": "python",
   "nbconvert_exporter": "python",
   "pygments_lexer": "ipython3",
   "version": "3.12.0"
  }
 },
 "nbformat": 4,
 "nbformat_minor": 5
}
