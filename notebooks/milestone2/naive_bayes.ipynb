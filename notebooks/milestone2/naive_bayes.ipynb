{
 "cells": [
  {
   "cell_type": "code",
   "execution_count": null,
   "metadata": {},
   "outputs": [],
   "source": [
    "import os\n",
    "import sys\n",
    "\n",
    "sys.path.append(os.path.join(os.path.abspath(\"../../\"), \"src\"))\n",
    "\n",
    "import IPython\n",
    "import matplotlib.pyplot as plt\n",
    "import numpy as np\n",
    "import pandas as pd\n",
    "from IPython.display import HTML\n",
    "\n",
    "from sklearn.dummy import DummyClassifier\n",
    "from sklearn.feature_extraction.text import CountVectorizer, TfidfVectorizer\n",
    "from sklearn.metrics import make_scorer, precision_score, recall_score, f1_score, roc_auc_score, confusion_matrix, ConfusionMatrixDisplay, classification_report\n",
    "from sklearn.model_selection import (\n",
    "    GridSearchCV,\n",
    "    cross_val_score,\n",
    "    cross_validate,\n",
    "    train_test_split,\n",
    ")\n",
    "from sklearn.preprocessing import FunctionTransformer\n",
    "\n",
    "%matplotlib inline\n",
    "from sklearn.naive_bayes import BernoulliNB, GaussianNB, MultinomialNB\n",
    "from sklearn.neighbors import KNeighborsClassifier\n",
    "from sklearn.pipeline import Pipeline, make_pipeline\n",
    "from sklearn.svm import SVC\n",
    "\n",
    "from imblearn.over_sampling import SMOTE, KMeansSMOTE , ADASYN,SVMSMOTE,KMeansSMOTE,BorderlineSMOTE\n",
    "from imblearn.combine import SMOTEENN, SMOTETomek\n",
    "from imblearn.metrics import classification_report_imbalanced\n",
    "from imblearn.pipeline import Pipeline\n",
    "\n",
    "from extract_text_keywords import preprocess_text"
   ]
  },
  {
   "cell_type": "code",
   "execution_count": null,
   "metadata": {},
   "outputs": [],
   "source": [
    "# read in sample data set \n",
    "original_df = pd.read_parquet('/data/workspace/alexww14/2025-cv/data/sampled-dataset/raw/sample-large.parquet')\n",
    "inputs_df = pd.read_parquet('/data/workspace/alexww14/2025-cv/data/sampled-dataset/processed/sample-small.parquet')"
   ]
  },
  {
   "cell_type": "code",
   "execution_count": null,
   "metadata": {},
   "outputs": [],
   "source": [
    "# only take subject text and subject content to the input_df\n",
    "inputs_df = inputs_df.join(original_df[['Subject', 'text_preprocessed', 'target_1']])"
   ]
  },
  {
   "cell_type": "code",
   "execution_count": null,
   "metadata": {},
   "outputs": [],
   "source": [
    "# train_df, test_df = train_test_split(inputs_df, test_size=0.3, random_state=40)\n",
    "# X_train_body = train_df['text_preprocessed']\n",
    "# X_train_subject = train_df['Subject']\n",
    "# y_train = train_df['target_1']\n",
    "# X_test_body = test_df['text_preprocessed']\n",
    "# X_test_subject = test_df['Subject']\n",
    "# y_test = test_df['target_1']"
   ]
  },
  {
   "cell_type": "markdown",
   "metadata": {},
   "source": [
    "#### Clean up Subject line and create new feature by combining subject with body "
   ]
  },
  {
   "cell_type": "code",
   "execution_count": null,
   "metadata": {},
   "outputs": [],
   "source": [
    "train_df, test_df = train_test_split(original_df, test_size=0.3, random_state=40)\n",
    "\n",
    "train_df['subject_preprocessed'] = preprocess_text(train_df['Subject'].fillna(\"\"))\n",
    "train_df['combined_text_preprocessed'] = train_df['subject_preprocessed'] + \" \" + train_df['text_preprocessed']\n",
    "\n",
    "test_df['subject_preprocessed'] = preprocess_text(test_df['Subject'].fillna(\"\"))\n",
    "test_df['combined_text_preprocessed'] = test_df['subject_preprocessed'] + \" \" + test_df['text_preprocessed']\n"
   ]
  },
  {
   "cell_type": "code",
   "execution_count": null,
   "metadata": {},
   "outputs": [],
   "source": [
    "# creating different X_trains, each model only use one of these \n",
    "\n",
    "X_train_body = train_df['text_preprocessed']\n",
    "X_train_subject = train_df['subject_preprocessed']\n",
    "X_train_combined = train_df['combined_text_preprocessed']\n",
    "y_train = train_df['target_1']\n",
    "\n",
    "X_test_body = test_df['text_preprocessed']\n",
    "X_test_subject = test_df['subject_preprocessed']\n",
    "X_test_combined = test_df['combined_text_preprocessed']\n",
    "y_test = test_df['target_1']"
   ]
  },
  {
   "cell_type": "markdown",
   "metadata": {},
   "source": [
    "#### EDA"
   ]
  },
  {
   "cell_type": "markdown",
   "metadata": {},
   "source": [
    "#### Check class distribution"
   ]
  },
  {
   "cell_type": "code",
   "execution_count": null,
   "metadata": {},
   "outputs": [],
   "source": [
    "y_train.value_counts() / len(y_train)"
   ]
  },
  {
   "cell_type": "code",
   "execution_count": null,
   "metadata": {},
   "outputs": [],
   "source": [
    "def mean_std_cross_val_scores(model, X_train, y_train, **kwargs):\n",
    "    \"\"\"\n",
    "    Returns mean and std of cross validation\n",
    "\n",
    "    Parameters\n",
    "    ----------\n",
    "    model :\n",
    "        scikit-learn model\n",
    "    X_train : numpy array or pandas DataFrame\n",
    "        X in the training data\n",
    "    y_train :\n",
    "        y in the training data\n",
    "\n",
    "    Returns\n",
    "    ----------\n",
    "        pandas Series with mean scores from cross_validation\n",
    "    \"\"\"\n",
    "\n",
    "    scores = cross_validate(model, X_train, y_train, cv = 5, **kwargs)\n",
    "\n",
    "    mean_scores = pd.DataFrame(scores).mean()\n",
    "    std_scores = pd.DataFrame(scores).std()\n",
    "    out_col = []\n",
    "\n",
    "    for i in range(len(mean_scores)):\n",
    "        out_col.append((f\"%0.3f (+/- %0.3f)\" % (mean_scores.iloc[i], std_scores.iloc[i])))\n",
    "\n",
    "    return pd.Series(data=out_col, index=mean_scores.index)"
   ]
  },
  {
   "cell_type": "code",
   "execution_count": null,
   "metadata": {},
   "outputs": [],
   "source": [
    "scoring = {\n",
    "    'precision': make_scorer(precision_score, pos_label='malicious'),\n",
    "    'recall': make_scorer(recall_score, pos_label='malicious'),\n",
    "    'f1': make_scorer(f1_score, pos_label='malicious')\n",
    "}"
   ]
  },
  {
   "cell_type": "markdown",
   "metadata": {},
   "source": [
    "## Bernoulli NB "
   ]
  },
  {
   "cell_type": "code",
   "execution_count": null,
   "metadata": {},
   "outputs": [],
   "source": [
    "inputs_dict = {\n",
    "    'body': X_train_body, \n",
    "    'subject': X_train_subject, \n",
    "    'combined':X_train_combined }\n"
   ]
  },
  {
   "cell_type": "markdown",
   "metadata": {},
   "source": [
    "#### trying to see which X_train yielded the best result with bernoulli NB"
   ]
  },
  {
   "cell_type": "code",
   "execution_count": null,
   "metadata": {},
   "outputs": [],
   "source": [
    "result_dict = {}\n",
    "\n",
    "for name, X in inputs_dict.items(): \n",
    "\n",
    "    count_vec = CountVectorizer(binary=False)\n",
    "    model = BernoulliNB()\n",
    "    pipe_nb = make_pipeline(count_vec, model)\n",
    "    result_dict[f\"{name}\"] = mean_std_cross_val_scores(pipe_nb, X, y_train, return_train_score=True, scoring=scoring)\n",
    "\n",
    "pd.DataFrame(result_dict)\n"
   ]
  },
  {
   "cell_type": "markdown",
   "metadata": {},
   "source": [
    "#### Hyperparameter tuning - email subject only"
   ]
  },
  {
   "cell_type": "code",
   "execution_count": null,
   "metadata": {},
   "outputs": [],
   "source": [
    "param_grid = {\n",
    "    'bernoullinb__alpha': [0.1, 0.5, 1.0, 2.0],\n",
    "    'bernoullinb__class_prior': [None, [0.5,0.5], [0.4,0.6], [0.6,0.4], [0.3,0.7], [0.7,0.3]]  \n",
    "}"
   ]
  },
  {
   "cell_type": "code",
   "execution_count": null,
   "metadata": {},
   "outputs": [],
   "source": [
    "count_vec = CountVectorizer(binary=False)\n",
    "model = BernoulliNB()\n",
    "pipe_nb = make_pipeline(count_vec, model)"
   ]
  },
  {
   "cell_type": "code",
   "execution_count": null,
   "metadata": {},
   "outputs": [],
   "source": [
    "param_grid_search = GridSearchCV(pipe_nb, param_grid, n_jobs=-1, cv=5, return_train_score = True, scoring = scoring, refit='f1')\n",
    "\n",
    "param_grid_search.fit(X_train_subject, y_train)"
   ]
  },
  {
   "cell_type": "code",
   "execution_count": null,
   "metadata": {},
   "outputs": [],
   "source": [
    "param_grid_search.cv_results_.keys()"
   ]
  },
  {
   "cell_type": "code",
   "execution_count": null,
   "metadata": {},
   "outputs": [],
   "source": [
    "pd.DataFrame(param_grid_search.cv_results_)[\n",
    "\n",
    "    ['rank_test_f1',\n",
    "     'mean_test_f1',\n",
    "     'mean_train_f1',\n",
    "     'mean_fit_time',\n",
    "     'mean_score_time',\n",
    "     'param_bernoullinb__alpha',\n",
    "     'param_bernoullinb__class_prior'\n",
    "    ]\n",
    "].set_index('rank_test_f1').sort_index()[:5]"
   ]
  },
  {
   "cell_type": "markdown",
   "metadata": {},
   "source": [
    "#### Test best model"
   ]
  },
  {
   "cell_type": "code",
   "execution_count": null,
   "metadata": {},
   "outputs": [],
   "source": [
    "best_nb_alpha = param_grid_search.best_params_['bernoullinb__alpha']\n",
    "best_class_prior = param_grid_search.best_params_['bernoullinb__class_prior']\n",
    "\n",
    "count_vec = CountVectorizer(binary=False)\n",
    "X_train_vec = count_vec.fit_transform(X_train_subject)\n",
    "X_test_vec = count_vec.transform(X_test_subject)\n",
    "\n",
    "best_nb = BernoulliNB(alpha=best_nb_alpha,class_prior=best_class_prior)\n",
    "best_nb.fit(X_train_vec, y_train)\n",
    "y_pred = best_nb.predict(X_test_vec)"
   ]
  },
  {
   "cell_type": "code",
   "execution_count": null,
   "metadata": {},
   "outputs": [],
   "source": [
    "cm = ConfusionMatrixDisplay(confusion_matrix(y_test, y_pred))\n",
    "cm.plot()"
   ]
  },
  {
   "cell_type": "code",
   "execution_count": null,
   "metadata": {},
   "outputs": [],
   "source": [
    "print(classification_report(y_true=y_test, y_pred=y_pred))"
   ]
  },
  {
   "cell_type": "markdown",
   "metadata": {},
   "source": [
    "## Bernoulli NB - with SMOTE"
   ]
  },
  {
   "cell_type": "markdown",
   "metadata": {},
   "source": [
    "#### Hyperparameter tuning"
   ]
  },
  {
   "cell_type": "code",
   "execution_count": null,
   "metadata": {},
   "outputs": [],
   "source": [
    "pipe_nb = Pipeline([\n",
    "    ('count_vec', CountVectorizer(binary=False)),  \n",
    "    ('smote', SMOTE(random_state=42)),     \n",
    "    ('nb', BernoulliNB())                  \n",
    "])\n",
    "\n",
    "param_grid = {\n",
    "    'count_vec__max_df': [0.8, 0.9, 1.0],          # Filter out very common words\n",
    "    'count_vec__min_df': [1, 3, 5],                # Filter out rare words\n",
    "    'count_vec__max_features': [500, 1000, 5000],\n",
    "    'smote__k_neighbors': [3, 5, 7],  \n",
    "    'smote__sampling_strategy': ['auto', 1, 0.8, 0.6]  \n",
    "}\n"
   ]
  },
  {
   "cell_type": "code",
   "execution_count": null,
   "metadata": {},
   "outputs": [],
   "source": [
    "param_grid_search = GridSearchCV(pipe_nb, param_grid, n_jobs=-1, cv=5, return_train_score = True, scoring = 'roc_auc')\n",
    "param_grid_search.fit(X_train_subject, y_train)"
   ]
  },
  {
   "cell_type": "code",
   "execution_count": null,
   "metadata": {},
   "outputs": [],
   "source": [
    "param_grid_search.cv_results_.keys()"
   ]
  },
  {
   "cell_type": "code",
   "execution_count": null,
   "metadata": {},
   "outputs": [],
   "source": [
    "pd.DataFrame(param_grid_search.cv_results_)[\n",
    "\n",
    "    ['rank_test_score',\n",
    "     'mean_test_score',\n",
    "     'mean_train_score',\n",
    "     'mean_fit_time',\n",
    "     'mean_score_time',\n",
    "     'param_smote__k_neighbors',\n",
    "     'param_smote__sampling_strategy', \n",
    "     'param_count_vec__max_df', \n",
    "     'param_count_vec__max_features', \n",
    "     'param_count_vec__min_df'\n",
    "    ]\n",
    "].set_index('rank_test_score').sort_index()"
   ]
  },
  {
   "cell_type": "markdown",
   "metadata": {},
   "source": [
    "#### Try best model "
   ]
  },
  {
   "cell_type": "code",
   "execution_count": null,
   "metadata": {},
   "outputs": [],
   "source": [
    "param_grid_search.best_params_"
   ]
  },
  {
   "cell_type": "code",
   "execution_count": null,
   "metadata": {},
   "outputs": [],
   "source": [
    "best_count_vec__max_df = param_grid_search.best_params_['count_vec__max_df']\n",
    "best_count_vec__max_features = param_grid_search.best_params_['count_vec__max_features']\n",
    "best_count_vec__min_df = param_grid_search.best_params_['count_vec__min_df']\n",
    "best_smote__k_neighbors = param_grid_search.best_params_['smote__k_neighbors']\n",
    "best_smote_sampling_strategy = param_grid_search.best_params_['smote__sampling_strategy']\n",
    "\n",
    "count_vec = CountVectorizer(max_df=best_count_vec__max_df, max_features=best_count_vec__max_features, min_df=best_count_vec__min_df)\n",
    "smote = SMOTE(k_neighbors=best_smote__k_neighbors, sampling_strategy=best_smote_sampling_strategy, random_state=42)\n",
    "model = BernoulliNB()\n",
    "\n",
    "# vectorize data\n",
    "X_train_subject_vec = count_vec.fit_transform(X_train_subject)\n",
    "X_test_subject_vec = count_vec.transform(X_test_subject)\n",
    "\n",
    "# Upsample with SMOTE \n",
    "X_train_subject_vec_over, y_train_over = smote.fit_resample(X_train_subject_vec, y_train)\n",
    "\n",
    "model.fit(X_train_subject_vec_over, y_train_over)\n",
    "y_pred = model.predict(X_test_subject_vec)\n",
    "\n",
    "cm = confusion_matrix(y_test, y_pred)"
   ]
  },
  {
   "cell_type": "code",
   "execution_count": null,
   "metadata": {},
   "outputs": [],
   "source": [
    "tn, fp, fn, tp = cm.ravel()\n",
    "fpr = fp / (fp+tn)\n",
    "print(fpr)"
   ]
  },
  {
   "cell_type": "code",
   "execution_count": null,
   "metadata": {},
   "outputs": [],
   "source": [
    "print(classification_report(y_true=y_test, y_pred=y_pred))"
   ]
  },
  {
   "cell_type": "markdown",
   "metadata": {},
   "source": [
    "## Guassian NB "
   ]
  },
  {
   "cell_type": "code",
   "execution_count": null,
   "metadata": {},
   "outputs": [],
   "source": [
    "result_dict = {}\n",
    "\n",
    "for name, X in inputs_dict.items(): \n",
    "\n",
    "    tfidf_vec = TfidfVectorizer()\n",
    "    to_dense = FunctionTransformer(lambda x: x.toarray(), accept_sparse=True)\n",
    "    model = GaussianNB()\n",
    "    pipe_gnb = make_pipeline(tfidf_vec, to_dense, model)\n",
    "    result_dict[f\"{name}\"] = mean_std_cross_val_scores(pipe_gnb, X, y_train, return_train_score=True, scoring=scoring)\n",
    "\n",
    "pd.DataFrame(result_dict)"
   ]
  },
  {
   "cell_type": "code",
   "execution_count": null,
   "metadata": {},
   "outputs": [],
   "source": [
    "tfidf_vec = TfidfVectorizer()\n",
    "\n",
    "# transform with tfidf and then to dense matrix \n",
    "x_train_vec = tfidf_vec.fit_transform(X_train_combined) \n",
    "x_train_vec = x_train_vec.toarray()\n",
    "\n",
    "x_test_vec = tfidf_vec.transform(X_test_combined)\n",
    "x_test_vec = x_test_vec.toarray()\n",
    "\n",
    "gnb = GaussianNB(priors=[0.1,0.9])\n",
    "gnb.fit(x_train_vec, y_train)\n",
    "y_pred = gnb.predict(x_test_vec)"
   ]
  },
  {
   "cell_type": "code",
   "execution_count": null,
   "metadata": {},
   "outputs": [],
   "source": [
    "cm = confusion_matrix(y_test, y_pred)\n",
    "\n",
    "cm_plot = ConfusionMatrixDisplay(cm)\n",
    "cm_plot.plot()"
   ]
  },
  {
   "cell_type": "code",
   "execution_count": null,
   "metadata": {},
   "outputs": [],
   "source": [
    "tn, fp, fn, tp = cm.ravel()\n",
    "\n",
    "fpr = fp / (fp+tn)\n",
    "\n",
    "print(fpr)"
   ]
  },
  {
   "cell_type": "code",
   "execution_count": null,
   "metadata": {},
   "outputs": [],
   "source": [
    "print(classification_report(y_true=y_test, y_pred=y_pred))"
   ]
  },
  {
   "cell_type": "markdown",
   "metadata": {},
   "source": [
    "## Gaussian NB - with SMOTE "
   ]
  },
  {
   "cell_type": "code",
   "execution_count": null,
   "metadata": {},
   "outputs": [],
   "source": [
    "tfidf_vec = TfidfVectorizer()\n",
    "\n",
    "# transform with tfidf and then to dense matrix \n",
    "x_train_vec = tfidf_vec.fit_transform(X_train_combined) \n",
    "x_train_vec = x_train_vec.toarray()\n",
    "\n",
    "x_test_vec = tfidf_vec.transform(X_test_combined)\n",
    "x_test_vec = x_test_vec.toarray()\n",
    "\n",
    "# upsample with SMOTE \n",
    "oversample=SMOTE(sampling_strategy=1) \n",
    "x_train_vec_over, y_train_over = oversample.fit_resample(x_train_vec, y_train)\n",
    "\n",
    "gnb = GaussianNB()\n",
    "gnb.fit(x_train_vec_over, y_train_over)\n",
    "y_pred = gnb.predict(x_test_vec)"
   ]
  },
  {
   "cell_type": "code",
   "execution_count": null,
   "metadata": {},
   "outputs": [],
   "source": [
    "cm = confusion_matrix(y_test, y_pred)\n",
    "\n",
    "cm_plot = ConfusionMatrixDisplay(cm)\n",
    "cm_plot.plot()"
   ]
  },
  {
   "cell_type": "code",
   "execution_count": null,
   "metadata": {},
   "outputs": [],
   "source": [
    "tn, fp, fn, tp = cm.ravel()\n",
    "\n",
    "fpr = fp / (fp+tn)\n",
    "\n",
    "print(fpr)"
   ]
  },
  {
   "cell_type": "code",
   "execution_count": null,
   "metadata": {},
   "outputs": [],
   "source": [
    "print(classification_report(y_true=y_test, y_pred=y_pred))"
   ]
  },
  {
   "cell_type": "markdown",
   "metadata": {},
   "source": [
    "#### Hyperparameter tuning - Gaussian NB with SMOTE"
   ]
  },
  {
   "cell_type": "code",
   "execution_count": null,
   "metadata": {},
   "outputs": [],
   "source": [
    "to_dense = FunctionTransformer(lambda x: x.toarray(), accept_sparse=True)\n",
    "tfidf_vec = TfidfVectorizer()\n",
    "smote = SMOTE()\n",
    "model = GaussianNB()\n",
    "\n",
    "pipe_gnb = Pipeline([\n",
    "    ('tfidf', TfidfVectorizer()),          # Step 1: TF-IDF\n",
    "    ('to_dense', to_dense),                # Step 2: Make it dense for GNB\n",
    "    ('smote', SMOTE(random_state=42)),     # Step 3: SMOTE oversampling\n",
    "    ('gnb', GaussianNB())                  # Step 4: Gaussian Naive Bayes\n",
    "])\n"
   ]
  },
  {
   "cell_type": "code",
   "execution_count": null,
   "metadata": {},
   "outputs": [],
   "source": [
    "param_grid = {\n",
    "    'tfidf__max_df': [0.7, 0.8, 0.9, 1.0],        # Filter out very common words\n",
    "    'tfidf__min_df': [1, 3, 5, 7],                # Filter out rare words\n",
    "    'tfidf__max_features': [500, 1000, 5000],\n",
    "    'smote__k_neighbors': [3, 5, 7],  \n",
    "    'smote__sampling_strategy': ['auto', 0.8, 0.6, 0.4]  \n",
    "}"
   ]
  },
  {
   "cell_type": "code",
   "execution_count": null,
   "metadata": {},
   "outputs": [],
   "source": [
    "# scoring = {\n",
    "#     'precision': make_scorer(precision_score, pos_label='malicious'),\n",
    "#     'recall': make_scorer(recall_score, pos_label='malicious'),\n",
    "#     'f1': make_scorer(f1_score, pos_label='malicious'),\n",
    "#     'roc-auc': make_scorer(roc_auc_score, pos_label='malicious')\n",
    "# }"
   ]
  },
  {
   "cell_type": "code",
   "execution_count": null,
   "metadata": {},
   "outputs": [],
   "source": [
    "param_grid_search = GridSearchCV(pipe_gnb, param_grid, n_jobs=-1, cv=5, return_train_score = True, scoring = 'roc_auc')\n",
    "\n",
    "param_grid_search.fit(X_train_combined, y_train)"
   ]
  },
  {
   "cell_type": "code",
   "execution_count": null,
   "metadata": {},
   "outputs": [],
   "source": [
    "param_grid_search.cv_results_.keys()"
   ]
  },
  {
   "cell_type": "code",
   "execution_count": null,
   "metadata": {},
   "outputs": [],
   "source": [
    "pd.DataFrame(param_grid_search.cv_results_)[\n",
    "\n",
    "    ['rank_test_score',\n",
    "     'mean_test_score',\n",
    "     'mean_train_score',\n",
    "     'mean_fit_time',\n",
    "     'mean_score_time',\n",
    "     'param_smote__k_neighbors',\n",
    "     'param_smote__sampling_strategy', \n",
    "     'param_tfidf__max_df', \n",
    "     'param_tfidf__max_features', \n",
    "     'param_tfidf__min_df'\n",
    "    ]\n",
    "].set_index('rank_test_score').sort_index()"
   ]
  },
  {
   "cell_type": "markdown",
   "metadata": {},
   "source": [
    "#### Try best model"
   ]
  },
  {
   "cell_type": "code",
   "execution_count": null,
   "metadata": {},
   "outputs": [],
   "source": [
    "best_tfidf__max_df = param_grid_search.best_params_['tfidf__max_df']\n",
    "best_tfidf__max_features = param_grid_search.best_params_['tfidf__max_features']\n",
    "best_tfidf__min_df = param_grid_search.best_params_['tfidf__min_df']\n",
    "best_smote__k_neighbors = param_grid_search.best_params_['smote__k_neighbors']\n",
    "best_smote_sampling_strategy = param_grid_search.best_params_['smote__sampling_strategy']\n",
    "\n",
    "\n",
    "to_dense = FunctionTransformer(lambda x: x.toarray(), accept_sparse=True)\n",
    "tfidf_vec = TfidfVectorizer(max_df=best_tfidf__max_df, max_features=best_tfidf__max_features, min_df=best_tfidf__min_df)\n",
    "smote = SMOTE(sampling_strategy=best_smote_sampling_strategy, k_neighbors=best_smote__k_neighbors)\n",
    "model = GaussianNB()\n",
    "\n",
    "x_train_vec = tfidf_vec.fit_transform(X_train_combined) \n",
    "x_train_vec = x_train_vec.toarray()\n",
    "\n",
    "x_test_vec = tfidf_vec.transform(X_test_combined)\n",
    "x_test_vec = x_test_vec.toarray()\n",
    "\n",
    "# upsample with SMOTE \n",
    "x_train_vec_over, y_train_over = smote.fit_resample(x_train_vec, y_train)\n",
    "\n",
    "model = GaussianNB()\n",
    "model.fit(x_train_vec_over, y_train_over)\n",
    "y_pred = model.predict(x_test_vec)"
   ]
  },
  {
   "cell_type": "code",
   "execution_count": null,
   "metadata": {},
   "outputs": [],
   "source": [
    "cm = confusion_matrix(y_test, y_pred)\n",
    "\n",
    "tn, fp, fn, tp = cm.ravel()\n",
    "fpr = fp / (fp+tn)\n",
    "print(fpr)"
   ]
  },
  {
   "cell_type": "code",
   "execution_count": null,
   "metadata": {},
   "outputs": [],
   "source": [
    "cm_plot = ConfusionMatrixDisplay(cm)\n",
    "cm_plot.plot()"
   ]
  },
  {
   "cell_type": "code",
   "execution_count": null,
   "metadata": {},
   "outputs": [],
   "source": [
    "print(classification_report(y_true=y_test, y_pred=y_pred))"
   ]
  }
 ],
 "metadata": {
  "kernelspec": {
   "display_name": "capstone",
   "language": "python",
   "name": "python3"
  },
  "language_info": {
   "codemirror_mode": {
    "name": "ipython",
    "version": 3
   },
   "file_extension": ".py",
   "mimetype": "text/x-python",
   "name": "python",
   "nbconvert_exporter": "python",
   "pygments_lexer": "ipython3",
   "version": "3.12.0"
  }
 },
 "nbformat": 4,
 "nbformat_minor": 2
}
