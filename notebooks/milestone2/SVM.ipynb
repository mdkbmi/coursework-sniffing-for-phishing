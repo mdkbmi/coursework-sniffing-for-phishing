{
 "cells": [
  {
   "cell_type": "code",
   "execution_count": null,
   "metadata": {},
   "outputs": [],
   "source": [
    "import sys\n",
    "import os \n",
    "sys.path.append(os.path.join(os.path.abspath(\"../../\"), \"src\"))\n",
    "\n",
    "from hashlib import sha1\n",
    "import numpy as np\n",
    "import pandas as pd\n",
    "from sklearn.dummy import DummyClassifier\n",
    "from sklearn.feature_extraction.text import CountVectorizer\n",
    "from sklearn.metrics import make_scorer, precision_score, recall_score, f1_score, roc_auc_score, confusion_matrix, ConfusionMatrixDisplay, classification_report\n",
    "from sklearn.model_selection import (\n",
    "    GridSearchCV,\n",
    "    RandomizedSearchCV,\n",
    "    cross_validate,\n",
    "    cross_val_score,\n",
    "    train_test_split,\n",
    ")\n",
    "from sklearn.preprocessing import (\n",
    "    OneHotEncoder,\n",
    "    StandardScaler,\n",
    ")\n",
    "from sklearn.compose import ColumnTransformer, make_column_transformer\n",
    "from sklearn.pipeline import make_pipeline\n",
    "from sklearn.svm import SVC\n",
    "from imblearn.over_sampling import SMOTE, KMeansSMOTE , ADASYN,SVMSMOTE,KMeansSMOTE,BorderlineSMOTE\n",
    "from imblearn.pipeline import Pipeline\n",
    "\n",
    "import altair as alt\n",
    "alt.data_transformers.enable('vegafusion')\n",
    "\n",
    "from extract_text_keywords import preprocess_text"
   ]
  },
  {
   "cell_type": "code",
   "execution_count": null,
   "metadata": {},
   "outputs": [],
   "source": [
    "# import sample dataset \n",
    "original_df = pd.read_parquet('/data/workspace/dataset/sampled-dataset/raw/sample-large.parquet')\n",
    "input_df = pd.read_parquet('/data/workspace/dataset/sampled-dataset/processed/sample-large.parquet')\n",
    "\n",
    "#join the subject text and body text to input_df \n",
    "input_df = input_df.join(original_df[['Subject', 'text_preprocessed']])\n",
    "\n",
    "# preprocess subject text -> this will take a while if we run the full dataset \n",
    "input_df['subject_preprocessed'] = preprocess_text(input_df['Subject'].fillna(\"\"))\n",
    "\n",
    "input_df['text_preprocessed'] = input_df['text_preprocessed'].fillna(\"\")\n",
    "input_df['subject_preprocessed'] = input_df['subject_preprocessed'].fillna(\"\")\n",
    "\n",
    "input_df = input_df.join(original_df[['target_1', 'target_3']])\n",
    "\n",
    "#drop self-phishing\n",
    "input_df = input_df[input_df['target_3'] != 'self_phishing']"
   ]
  },
  {
   "cell_type": "code",
   "execution_count": null,
   "metadata": {},
   "outputs": [],
   "source": [
    "train_df, test_df = train_test_split(input_df, test_size=0.3, random_state=42)\n",
    "\n",
    "X_train = train_df.iloc[:, :-1]\n",
    "y_train = train_df['target_1']\n",
    "X_test = test_df.iloc[:, :-1]\n",
    "y_test = test_df['target_1']"
   ]
  },
  {
   "cell_type": "code",
   "execution_count": null,
   "metadata": {},
   "outputs": [],
   "source": [
    "train_df.select_dtypes(include=['number']).columns"
   ]
  },
  {
   "cell_type": "markdown",
   "metadata": {},
   "source": [
    "## Preprocessor "
   ]
  },
  {
   "cell_type": "code",
   "execution_count": null,
   "metadata": {},
   "outputs": [],
   "source": [
    "train_df.info()"
   ]
  },
  {
   "cell_type": "code",
   "execution_count": null,
   "metadata": {},
   "outputs": [],
   "source": [
    "X_train.select_dtypes(include=['bool, object']).columns"
   ]
  },
  {
   "cell_type": "code",
   "execution_count": null,
   "metadata": {},
   "outputs": [],
   "source": [
    "X_train.select_dtypes(include=['bool', 'object']).columns"
   ]
  },
  {
   "cell_type": "code",
   "execution_count": null,
   "metadata": {},
   "outputs": [],
   "source": [
    "numeric_features = ['routing_length','word_count',\n",
    "       'readable_proportion', 'whitespace_ratio', 'alphabet_proportion',\n",
    "       'grammar_error_rate', 'english_french_proportion', 'url_count']\n",
    "\n",
    "categorical_features = ['spf_result', 'non_ascii_present', 'http_urls_present', 'any_long_urls', 'html_parsing_error']\n",
    "\n",
    "text_features = ['text_preprocessed', 'subject_preprocessed']\n",
    "\n",
    "drop_features = ['dmarc_authentication_present', 'dkim_result', \n",
    "       'dmarc_result', 'dkim_sender_domains_match', 'attachments_present',\n",
    "       'to_from_addresses_match', 'sender_email_spf_match',\n",
    "        'hidden_text_present', 'ip_addr_urls',\n",
    "        'url_at_symbol', 'url_port_number',\n",
    "        'url_multiple_subdomains', 'Subject']"
   ]
  },
  {
   "cell_type": "code",
   "execution_count": null,
   "metadata": {},
   "outputs": [],
   "source": [
    "preprocessor = make_column_transformer(   \n",
    "\n",
    "    (StandardScaler(), numeric_features),\n",
    "    (OneHotEncoder(drop='if_binary'), categorical_features),\n",
    "    (CountVectorizer(binary=False), 'text_preprocessed'),\n",
    "    (CountVectorizer(binary=False), 'subject_preprocessed'),\n",
    "    ('drop', drop_features)\n",
    ")"
   ]
  },
  {
   "cell_type": "code",
   "execution_count": null,
   "metadata": {},
   "outputs": [],
   "source": [
    "#tesing if preprocessor works \n",
    "transformed = preprocessor.fit_transform(X_train)"
   ]
  },
  {
   "cell_type": "code",
   "execution_count": null,
   "metadata": {},
   "outputs": [],
   "source": [
    "preprocessor.named_transformers_"
   ]
  },
  {
   "cell_type": "code",
   "execution_count": null,
   "metadata": {},
   "outputs": [],
   "source": [
    "preprocessor.named_transformers_['standardscaler'].get_feature_names_out()"
   ]
  },
  {
   "cell_type": "code",
   "execution_count": null,
   "metadata": {},
   "outputs": [],
   "source": [
    "preprocessor.named_transformers_['onehotencoder'].get_feature_names_out()"
   ]
  },
  {
   "cell_type": "markdown",
   "metadata": {},
   "source": [
    "#### Hyperparameter tuning - no SMOTE"
   ]
  },
  {
   "cell_type": "code",
   "execution_count": null,
   "metadata": {},
   "outputs": [],
   "source": [
    "svc_pipe = make_pipeline(preprocessor, SVC())"
   ]
  },
  {
   "cell_type": "code",
   "execution_count": null,
   "metadata": {},
   "outputs": [],
   "source": [
    "param_grid = {\"svc__C\": np.logspace(-1, 2, 4),\n",
    "              \"svc__gamma\":np.array([1e-3, 1e-2, 1e-1, 1])}"
   ]
  },
  {
   "cell_type": "code",
   "execution_count": null,
   "metadata": {},
   "outputs": [],
   "source": [
    "param_grid_search = GridSearchCV(svc_pipe, param_grid, n_jobs=-1, cv=5, return_train_score = True, scoring = 'roc_auc')"
   ]
  },
  {
   "cell_type": "code",
   "execution_count": null,
   "metadata": {},
   "outputs": [],
   "source": [
    "param_grid_search.fit(X_train, y_train)"
   ]
  },
  {
   "cell_type": "code",
   "execution_count": null,
   "metadata": {},
   "outputs": [],
   "source": [
    "param_grid_search.cv_results_.keys()"
   ]
  },
  {
   "cell_type": "code",
   "execution_count": null,
   "metadata": {},
   "outputs": [],
   "source": [
    "pd.DataFrame(param_grid_search.cv_results_)[\n",
    "\n",
    "    ['rank_test_score',\n",
    "     'mean_test_score',\n",
    "     'mean_train_score',\n",
    "     'mean_fit_time',\n",
    "     'mean_score_time',\n",
    "     'param_svc__C',\n",
    "     'param_svc__gamma' \n",
    "    ]\n",
    "].set_index('rank_test_score').sort_index().head()"
   ]
  },
  {
   "cell_type": "code",
   "execution_count": null,
   "metadata": {},
   "outputs": [],
   "source": [
    "best_C = param_grid_search.best_params_['svc__C']\n",
    "best_gamma = param_grid_search.best_params_['svc__gamma']"
   ]
  },
  {
   "cell_type": "code",
   "execution_count": null,
   "metadata": {},
   "outputs": [],
   "source": [
    "svc = SVC(C=best_C, gamma=best_gamma)\n",
    "x_train_transformed = preprocessor.fit_transform(X_train)\n",
    "x_test_transformed = preprocessor.transform(X_test)\n",
    "\n",
    "svc.fit(x_train_transformed, y_train)\n",
    "y_pred = svc.predict(x_test_transformed)\n",
    "\n",
    "cm = confusion_matrix(y_test, y_pred)"
   ]
  },
  {
   "cell_type": "code",
   "execution_count": null,
   "metadata": {},
   "outputs": [],
   "source": [
    "cm_plot = ConfusionMatrixDisplay(cm)\n",
    "cm_plot.plot()"
   ]
  },
  {
   "cell_type": "code",
   "execution_count": null,
   "metadata": {},
   "outputs": [],
   "source": [
    "tn, fp, fn, tp = cm.ravel()\n",
    "fpr = fp / (fp+tn)\n",
    "print(fpr)"
   ]
  },
  {
   "cell_type": "code",
   "execution_count": null,
   "metadata": {},
   "outputs": [],
   "source": [
    "print(classification_report(y_true=y_test, y_pred=y_pred))"
   ]
  },
  {
   "cell_type": "markdown",
   "metadata": {},
   "source": [
    "#### Hyperparameter tuning - with SMOTE"
   ]
  },
  {
   "cell_type": "code",
   "execution_count": null,
   "metadata": {},
   "outputs": [],
   "source": [
    "smote = SMOTE(random_state=42)\n",
    "svc = SVC()\n",
    "\n",
    "svc_pipe_smote = Pipeline([\n",
    "    ('preprocessor', preprocessor),        \n",
    "    ('smote', smote),     \n",
    "    ('svc', svc)             \n",
    "])"
   ]
  },
  {
   "cell_type": "code",
   "execution_count": null,
   "metadata": {},
   "outputs": [],
   "source": [
    "param_grid_smote = {\"svc__C\": np.logspace(-1, 2, 4),\n",
    "              \"svc__gamma\":np.array([1e-3, 1e-2, 1e-1, 1]),\n",
    "              'smote__k_neighbors': [3, 5, 7],  \n",
    "              'smote__sampling_strategy': ['auto', 0.8, 0.6, 0.4]}\n"
   ]
  },
  {
   "cell_type": "code",
   "execution_count": null,
   "metadata": {},
   "outputs": [],
   "source": [
    "param_grid_search_smote = GridSearchCV(svc_pipe_smote, param_grid_smote, n_jobs=-1, cv=5, return_train_score = True, scoring = 'roc_auc')"
   ]
  },
  {
   "cell_type": "code",
   "execution_count": null,
   "metadata": {},
   "outputs": [],
   "source": [
    "param_grid_search_smote.fit(X_train, y_train)"
   ]
  },
  {
   "cell_type": "code",
   "execution_count": null,
   "metadata": {},
   "outputs": [],
   "source": [
    "pd.DataFrame(param_grid_search_smote.cv_results_)[\n",
    "\n",
    "    ['rank_test_score',\n",
    "     'mean_test_score',\n",
    "     'mean_train_score',\n",
    "     'mean_fit_time',\n",
    "     'mean_score_time',\n",
    "     'param_svc__C',\n",
    "     'param_svc__gamma',\n",
    "     'param_smote__k_neighbors',\n",
    "     'param_smote__sampling_strategy'\n",
    "    ]\n",
    "].set_index('rank_test_score').sort_index().head()"
   ]
  },
  {
   "cell_type": "code",
   "execution_count": null,
   "metadata": {},
   "outputs": [],
   "source": [
    "best_C = param_grid_search_smote.best_params_['svc__C']\n",
    "best_gamma = param_grid_search_smote.best_params_['svc__gamma']\n",
    "best_k = param_grid_search_smote.best_params_['smote__k_neighbors']\n",
    "best_sample_strategy = param_grid_search_smote.best_params_['smote__sampling_strategy']"
   ]
  },
  {
   "cell_type": "code",
   "execution_count": null,
   "metadata": {},
   "outputs": [],
   "source": [
    "svc = SVC(C=best_C, gamma=best_gamma)\n",
    "smote = SMOTE(sampling_strategy=best_sample_strategy, k_neighbors=best_k)\n",
    "\n",
    "x_train_transformed = preprocessor.fit_transform(X_train)\n",
    "x_test_transformed = preprocessor.transform(X_test)\n",
    "\n",
    "x_train_over, y_train_over = smote.fit_resample(x_train_transformed, y_train)\n",
    "\n",
    "svc.fit(x_train_over, y_train_over)\n",
    "y_pred = svc.predict(x_test_transformed)\n",
    "\n",
    "cm = confusion_matrix(y_test, y_pred)"
   ]
  },
  {
   "cell_type": "code",
   "execution_count": null,
   "metadata": {},
   "outputs": [],
   "source": [
    "cm_plot = ConfusionMatrixDisplay(cm)\n",
    "cm_plot.plot()"
   ]
  },
  {
   "cell_type": "code",
   "execution_count": null,
   "metadata": {},
   "outputs": [],
   "source": [
    "tn, fp, fn, tp = cm.ravel()\n",
    "fpr = fp / (fp+tn)\n",
    "print(fpr)"
   ]
  },
  {
   "cell_type": "code",
   "execution_count": null,
   "metadata": {},
   "outputs": [],
   "source": [
    "print(classification_report(y_true=y_test, y_pred=y_pred))"
   ]
  },
  {
   "cell_type": "code",
   "execution_count": null,
   "metadata": {},
   "outputs": [],
   "source": []
  }
 ],
 "metadata": {
  "kernelspec": {
   "display_name": "dev-alexww14",
   "language": "python",
   "name": "python3"
  },
  "language_info": {
   "codemirror_mode": {
    "name": "ipython",
    "version": 3
   },
   "file_extension": ".py",
   "mimetype": "text/x-python",
   "name": "python",
   "nbconvert_exporter": "python",
   "pygments_lexer": "ipython3",
   "version": "3.12.0"
  }
 },
 "nbformat": 4,
 "nbformat_minor": 2
}
