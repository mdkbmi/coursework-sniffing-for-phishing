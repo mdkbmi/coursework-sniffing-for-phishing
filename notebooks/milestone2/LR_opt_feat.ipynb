{
 "cells": [
  {
   "cell_type": "code",
   "execution_count": null,
   "id": "d6fad8b9",
   "metadata": {},
   "outputs": [],
   "source": [
    "import pandas as pd\n",
    "import numpy as np\n",
    "from pathlib import Path\n",
    "\n",
    "from sklearn.model_selection import train_test_split, StratifiedKFold, GridSearchCV\n",
    "from sklearn.linear_model import LogisticRegression\n",
    "from sklearn.metrics import classification_report, confusion_matrix, f1_score, roc_auc_score, roc_curve, ConfusionMatrixDisplay\n",
    "from sklearn.feature_extraction.text import TfidfVectorizer\n",
    "from sklearn.preprocessing import StandardScaler\n",
    "\n",
    "import matplotlib.pyplot as plt\n",
    "import seaborn as sns\n",
    "import warnings\n",
    "warnings.filterwarnings('ignore')\n",
    "import os\n",
    "import sys\n",
    "import shap\n",
    "os.getcwd()"
   ]
  },
  {
   "cell_type": "code",
   "execution_count": null,
   "id": "8ff10dc6",
   "metadata": {},
   "outputs": [],
   "source": [
    "df_raw_large = pd.read_parquet('../../../../dataset/sampled-dataset/raw/sample-large.parquet')\n",
    "df_pro_large=o_small = pd.read_parquet('../../../../dataset/sampled-dataset/processed/sample-large.parquet')\n",
    "df_large = df_raw_large.join(df_pro_large)"
   ]
  },
  {
   "cell_type": "code",
   "execution_count": null,
   "id": "805a4842",
   "metadata": {},
   "outputs": [],
   "source": [
    "sys.path.append(os.path.abspath('../../src'))\n",
    "\n",
    "from extract_extra_features import (\n",
    "    compute_name_email_similarity,\n",
    "    from_name_email_sim, from_email_length,\n",
    "    to_is_hidden, subject_word_count_series,\n",
    "    subject_contains_malicious_words, subject_contains_benign_words\n",
    ")\n",
    "\n",
    "\n",
    "\n",
    "df_large['name_email_similarity'] = compute_name_email_similarity(df_large['From_name'], df_large['From_email'])\n",
    "df_large['from_name_email_sim'] = from_name_email_sim(df_large, from_name_col='From_name', from_email_col='From_email')\n",
    "df_large['from_email_length'] = from_email_length(df_large['From_email'])\n",
    "df_large['to_is_hidden'] = to_is_hidden(df_large, to_col='To')\n",
    "df_large['subject_word_count'] = subject_word_count_series(df_large['Subject'])\n",
    "df_large['subject_contains_malicious_words'] = subject_contains_malicious_words(df_large['Subject'])\n",
    "df_large['subject_contains_benign_words'] = subject_contains_benign_words(df_large['Subject'])\n",
    "df_large\n"
   ]
  },
  {
   "cell_type": "code",
   "execution_count": null,
   "id": "9d22833d",
   "metadata": {},
   "outputs": [],
   "source": [
    "numerical_features = [\n",
    "    'routing_length', 'word_count', 'readable_proportion',\n",
    "    'whitespace_ratio', 'alphabet_proportion', 'grammar_error_rate',\n",
    "    'english_french_proportion', 'url_count',\n",
    "    'name_email_similarity', 'from_name_email_sim', 'subject_word_count',\n",
    "    'from_email_length',\n",
    "]\n",
    "\n",
    "categorical_features = [\n",
    "    'dkim_result', 'spf_result', 'dmarc_result', 'html_parsing_error'\n",
    "]\n",
    "\n",
    "binary_features = [\n",
    "    'is_multipart', 'attachments_present',\n",
    "    'dmarc_authentication_present', 'dkim_sender_domains_match',\n",
    "    'to_from_addresses_match', 'sender_email_spf_match',\n",
    "    'non_ascii_present', 'hidden_text_present',\n",
    "    'ip_addr_urls', 'http_urls_present', 'url_at_symbol',\n",
    "    'url_port_number', 'any_long_urls', 'url_multiple_subdomains',\n",
    "    'to_is_hidden', 'subject_contains_malicious_words', 'subject_contains_benign_words',\n",
    "]\n",
    "\n",
    "\n",
    "target_col = 'target_1'\n",
    "\n",
    "model_features = numerical_features + categorical_features + binary_features\n",
    "X = df_large[model_features].copy()\n",
    "y = df_large[target_col].map({'benign': 0, 'malicious': 1}) "
   ]
  },
  {
   "cell_type": "code",
   "execution_count": null,
   "id": "1e4fcc60",
   "metadata": {},
   "outputs": [],
   "source": [
    "selected_categorical = ['spf_result', 'dkim_result']\n",
    "selected_basic = [\n",
    "    'subject_contains_malicious_words',\n",
    "    'subject_contains_benign_words',\n",
    "    'from_name_email_sim',\n",
    "    'whitespace_ratio',\n",
    "    'is_multipart',\n",
    "    'routing_length',\n",
    "    'to_is_hidden',\n",
    "    'url_at_symbol',\n",
    "]\n",
    "X_selected = pd.concat([\n",
    "    df_large[selected_basic],\n",
    "    df_large[selected_categorical]\n",
    "], axis=1)\n",
    "y_selected = df_large[target_col].map({'benign': 0, 'malicious': 1})\n"
   ]
  },
  {
   "cell_type": "code",
   "execution_count": null,
   "id": "adf0933b",
   "metadata": {},
   "outputs": [],
   "source": [
    "X_train, X_val, y_train, y_val = train_test_split(\n",
    "    X_selected, y_selected, test_size=0.2, stratify=y_selected, random_state=42\n",
    ")"
   ]
  },
  {
   "cell_type": "code",
   "execution_count": null,
   "id": "9bdd4d9c",
   "metadata": {},
   "outputs": [],
   "source": [
    "X_train = pd.get_dummies(X_train, columns=selected_categorical, dummy_na=True)\n",
    "X_val = pd.get_dummies(X_val, columns=selected_categorical, dummy_na=True)\n",
    "X_train, X_val = X_train.align(X_val, join='left', axis=1, fill_value=0)"
   ]
  },
  {
   "cell_type": "code",
   "execution_count": null,
   "id": "ef2f6492",
   "metadata": {},
   "outputs": [],
   "source": [
    "num_feats = ['from_name_email_sim', 'whitespace_ratio', 'routing_length']\n",
    "scaler = StandardScaler()\n",
    "X_train[num_feats] = scaler.fit_transform(X_train[num_feats])\n",
    "X_val[num_feats] = scaler.transform(X_val[num_feats])"
   ]
  },
  {
   "cell_type": "code",
   "execution_count": null,
   "id": "45e355c7",
   "metadata": {},
   "outputs": [],
   "source": [
    "lr = LogisticRegression(max_iter=5000, random_state=42)\n",
    "lr.fit(X_train, y_train)\n",
    "y_pred = lr.predict(X_val)\n",
    "y_prob = lr.predict_proba(X_val)[:, 1] "
   ]
  },
  {
   "cell_type": "code",
   "execution_count": null,
   "id": "03925e2e",
   "metadata": {},
   "outputs": [],
   "source": [
    "f1 = f1_score(y_val, y_pred, average='binary')\n",
    "print(\"F1-score:\", f1)\n",
    "\n",
    "cm = confusion_matrix(y_val, y_pred)\n",
    "TN, FP, FN, TP = cm.ravel()\n",
    "\n",
    "FPR = FP / (FP + TN) if (FP + TN) > 0 else 0\n",
    "print(\"False Positive Rate (FPR):\", FPR)"
   ]
  },
  {
   "cell_type": "code",
   "execution_count": null,
   "id": "cead8c84",
   "metadata": {},
   "outputs": [],
   "source": [
    "param_grid = {\n",
    "    'C': [0.01, 0.1, 1, 10, 100],\n",
    "    'penalty': ['l2', 'l1'],\n",
    "    'solver': ['liblinear', 'saga'],\n",
    "    'class_weight': [None, 'balanced']\n",
    "}\n"
   ]
  },
  {
   "cell_type": "code",
   "execution_count": null,
   "id": "0f27ca8d",
   "metadata": {},
   "outputs": [],
   "source": [
    "lr_grid = LogisticRegression(max_iter=5000, random_state=42)\n",
    "grid_search = GridSearchCV(\n",
    "    lr_grid, param_grid, cv=5, scoring='f1', n_jobs=-1\n",
    ")\n",
    "grid_search.fit(X_train, y_train)"
   ]
  },
  {
   "cell_type": "code",
   "execution_count": null,
   "id": "19551d4e",
   "metadata": {},
   "outputs": [],
   "source": [
    "print(\"Best Params:\", grid_search.best_params_)\n",
    "best_lr = grid_search.best_estimator_\n",
    "\n",
    "y_pred = best_lr.predict(X_val)\n",
    "y_prob = best_lr.predict_proba(X_val)[:, 1]\n",
    "print(classification_report(y_val, y_pred))\n",
    "print('Confusion Matrix:\\n', confusion_matrix(y_val, y_pred))\n",
    "print('ROC-AUC:', roc_auc_score(y_val, y_prob))\n",
    "print('F1-score:', f1_score(y_val, y_pred))\n",
    "\n",
    "cm = confusion_matrix(y_val, y_pred)\n",
    "TN, FP, FN, TP = cm.ravel()\n",
    "fpr = FP / (FP + TN) if (FP + TN) > 0 else 0\n",
    "print('False Positive Rate (FPR):', fpr)"
   ]
  },
  {
   "cell_type": "code",
   "execution_count": null,
   "id": "0784c965",
   "metadata": {},
   "outputs": [],
   "source": [
    "thresholds = np.arange(0.01, 1, 0.01)\n",
    "f1s, fprs = [], []\n",
    "\n",
    "for t in thresholds:\n",
    "    y_pred_thr = (y_prob >= t).astype(int)\n",
    "    f1s.append(f1_score(y_val, y_pred_thr))\n",
    "    cm = confusion_matrix(y_val, y_pred_thr)\n",
    "    tn, fp, fn, tp = cm.ravel()\n",
    "    fpr = fp / (fp + tn) if (fp + tn) > 0 else 0\n",
    "    fprs.append(fpr)\n",
    "\n",
    "import matplotlib.pyplot as plt\n",
    "\n",
    "plt.figure(figsize=(8,5))\n",
    "plt.plot(thresholds, f1s, label='F1-score')\n",
    "plt.plot(thresholds, fprs, label='FPR')\n",
    "plt.xlabel('Threshold')\n",
    "plt.ylabel('Score')\n",
    "plt.legend()\n",
    "plt.title('F1-score & FPR vs. Threshold')\n",
    "plt.show()\n"
   ]
  },
  {
   "cell_type": "code",
   "execution_count": null,
   "id": "64084db5",
   "metadata": {},
   "outputs": [],
   "source": [
    "fprs_arr = np.array(fprs)\n",
    "f1s_arr = np.array(f1s)\n",
    "thresholds_arr = np.array(thresholds)\n",
    "\n",
    "idx = np.argmin(np.abs(fprs_arr - 0.05))\n",
    "\n",
    "print(f\"Threshold at closest FPR=0.05: {thresholds_arr[idx]:.2f}\")\n",
    "print(f\"Actual FPR: {fprs_arr[idx]:.4f}\")\n",
    "print(f\"F1-score: {f1s_arr[idx]:.4f}\")"
   ]
  },
  {
   "cell_type": "code",
   "execution_count": null,
   "id": "738b5c0e",
   "metadata": {},
   "outputs": [],
   "source": [
    "fprs_arr = np.array(fprs)\n",
    "f1s_arr = np.array(f1s)\n",
    "thresholds_arr = np.array(thresholds)\n",
    "\n",
    "idx = np.argmin(np.abs(f1s_arr - 0.8))\n",
    "\n",
    "print(f\"Threshold at closest FPR=0.05: {thresholds_arr[idx]:.2f}\")\n",
    "print(f\"Actual FPR: {fprs_arr[idx]:.4f}\")\n",
    "print(f\"F1-score: {f1s_arr[idx]:.4f}\")"
   ]
  },
  {
   "cell_type": "code",
   "execution_count": null,
   "id": "00c13961",
   "metadata": {},
   "outputs": [],
   "source": [
    "coef_df = pd.DataFrame({\n",
    "    \"feature\": X_train.columns,\n",
    "    \"coefficient\": lr.coef_[0]\n",
    "})\n",
    "\n",
    "coef_df[\"abs_coef\"] = coef_df[\"coefficient\"].abs()\n",
    "coef_df = coef_df.sort_values(by=\"abs_coef\", ascending=False)\n",
    "\n",
    "print(coef_df[[\"feature\", \"coefficient\"]])\n"
   ]
  },
  {
   "cell_type": "code",
   "execution_count": null,
   "id": "aec195ce",
   "metadata": {},
   "outputs": [],
   "source": [
    "from sklearn.feature_selection import RFECV\n",
    "\n",
    "estimator = LogisticRegression(max_iter=5000, random_state=42)\n",
    "rfecv = RFECV(\n",
    "    estimator,\n",
    "    step=1,\n",
    "    cv=5,\n",
    "    scoring='f1',\n",
    "    n_jobs=-1,\n",
    "    min_features_to_select=2\n",
    ")\n",
    "rfecv.fit(X_train, y_train)\n",
    "\n",
    "print(\"RFECV optimal feature count:\", rfecv.n_features_)\n",
    "selected_features_cv = X_train.columns[rfecv.support_].tolist()\n",
    "print(\"RFECV Selected features:\", selected_features_cv)\n",
    "\n",
    "plt.figure(figsize=(8, 4))\n",
    "plt.plot(range(1, len(rfecv.cv_results_['mean_test_score']) + 1), rfecv.cv_results_['mean_test_score'])\n",
    "plt.xlabel(\"Number of features selected\")\n",
    "plt.ylabel(\"CV mean F1-score\")\n",
    "plt.title(\"RFECV: Feature Count vs. CV F1-score\")\n",
    "plt.show()\n",
    "\n",
    "X_train_cv = X_train[selected_features_cv]\n",
    "X_val_cv = X_val[selected_features_cv]\n",
    "lr_cv = LogisticRegression(max_iter=5000, random_state=42)\n",
    "lr_cv.fit(X_train_cv, y_train)\n",
    "y_pred_cv = lr_cv.predict(X_val_cv)\n",
    "y_prob_cv = lr_cv.predict_proba(X_val_cv)[:, 1]\n",
    "\n",
    "print(classification_report(y_val, y_pred_cv))\n",
    "print('Confusion Matrix:\\n', confusion_matrix(y_val, y_pred_cv))\n",
    "print('ROC-AUC:', roc_auc_score(y_val, y_prob_cv))\n",
    "print('F1-score:', f1_score(y_val, y_pred_cv))\n",
    "\n",
    "cm = confusion_matrix(y_val, y_pred_cv)\n",
    "TN, FP, FN, TP = cm.ravel()\n",
    "fpr = FP / (FP + TN) if (FP + TN) > 0 else 0\n",
    "print('False Positive Rate (FPR):', fpr)\n"
   ]
  }
 ],
 "metadata": {
  "kernelspec": {
   "display_name": "dev-xuci",
   "language": "python",
   "name": "python3"
  },
  "language_info": {
   "codemirror_mode": {
    "name": "ipython",
    "version": 3
   },
   "file_extension": ".py",
   "mimetype": "text/x-python",
   "name": "python",
   "nbconvert_exporter": "python",
   "pygments_lexer": "ipython3",
   "version": "3.12.0"
  }
 },
 "nbformat": 4,
 "nbformat_minor": 5
}
